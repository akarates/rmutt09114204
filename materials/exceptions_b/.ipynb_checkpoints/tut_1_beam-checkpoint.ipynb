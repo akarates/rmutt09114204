{
 "cells": [
  {
   "cell_type": "markdown",
   "id": "9f745cbb-a805-46fd-a8ec-1b76839501f1",
   "metadata": {},
   "source": [
    "\n",
    "<img src=\"images/intro.webp\" alt=\"intro\">"
   ]
  },
  {
   "cell_type": "markdown",
   "id": "dbe65775-999d-4abc-aacd-a22cce237df1",
   "metadata": {},
   "source": [
    "# Exception Handling(การจัดการข้อผิดพลาด)\n",
    "## Exception คืออะไร\n",
    "\n",
    "Exception คือ เหตุการณ์ผิดปกติที่เกิดขึ้นระหว่างการประมวลผลโปรแกรม ส่งผลให้โปรแกรมทำงานไม่เป็นไปตามขั้นตอนที่ได้กำหนดไว้\n",
    "\n",
    "ตัวอย่างของ exception เช่น\n",
    "- โค้ดของโปรแกรมมีการหารตัวเลขหนึ่งๆ ด้วยศูนย์\n",
    "- โปรแกรมพยายามเปิดไฟล์ที่ไม่มีอยู่จริง\n",
    "- โปรแกรมต้องการรับอินพุตเป็นเลขจำนวนเต็ม แต่ผู้ใช้โปรแกรมป้อนข้อมูลเข้ามาเป็นสตริง\n",
    "\n",
    "ซึ่งข้อผิดพลาดที่เกิดขึ้นในการเขียนโปรแกรมแบ่งออกได้เป็น 3 ประเภทใหญ่ ๆ ได้แก่\n",
    "  1. Syntax Error คือ การเขียนคำสั่งโปรแกรมผิดหลักไยากรณ์ที่กำนดไว้\n",
    "  2. Runtime Error คือ การเขียนคำสั่งโปรแกรมที่ไม่ถูกต้องโดยผู้เขียนโปรแกรมเอง\n",
    "  3. Logic Error คือ การทำงานของโปรแกรมผิดพลาดที่เกิดมาจากตัวผู้เขียนโปรแกรม\n",
    "เอง "
   ]
  },
  {
   "cell_type": "code",
   "execution_count": null,
   "id": "2a46b43c-0625-4d27-8dfb-5e838001daaf",
   "metadata": {},
   "outputs": [],
   "source": [
    "# Syntax Error\n",
    "# การแจ้งเตือนข้อผิดพลาดเมื่อผู้เขียนโปรแกรมไม่ใส่เครื่องหมาย Colon (:) ปิดท้ายคำสั่ง for\n",
    "\n",
    "for i in range(1,10)\n",
    "    print(f'รอบที่ {i}')"
   ]
  },
  {
   "cell_type": "code",
   "execution_count": null,
   "id": "8c6a260a-5a57-4673-be08-7fc7ea738dfd",
   "metadata": {},
   "outputs": [],
   "source": [
    "# Runtime Error\n",
    "# ลักษณะการแจ้งเตือนข้อผิดพลาดเมื่อกรอกข้อมูลไม่ถูกต้อง\n",
    "\n",
    "n = int(input('กรุณาป้อนตัวเลข 1-5: '))\n",
    "for i in range(1,n):\n",
    "    print(f'รอบที่ {i}', end = ' ')"
   ]
  },
  {
   "cell_type": "code",
   "execution_count": null,
   "id": "c90f9066-b978-42b8-89e0-22f6d42ca098",
   "metadata": {},
   "outputs": [],
   "source": [
    "# Logic Error\n",
    "# ลักษณะการทำงานของโปรแกรมที่ผิดพลาดจาก Logic\n",
    "\n",
    "b = float(input('กรุณาป้อนความยาวฐาน = '))\n",
    "h = float(input('กรุณาป้อนความสูง = '))\n",
    "area = 0.5 * b + h"
   ]
  },
  {
   "cell_type": "code",
   "execution_count": null,
   "id": "48ef4aaf-812a-4bac-af7e-01c917f0bc0c",
   "metadata": {},
   "outputs": [],
   "source": [
    "print(5+0)\n",
    "print(5-0)\n",
    "print(5/0)\n",
    "print(5*0)"
   ]
  },
  {
   "cell_type": "markdown",
   "id": "13477e91-a70c-4961-82fe-49ea7ecee4c3",
   "metadata": {},
   "source": [
    "จากตัวอย่างด้านบน จะพบว่ามี exception หลายรูปแบบ ทั้งนี้เราสามารถตรวจจับ exception ที่เกิดขึ้นและจัดการกับมันได้ ซึ่งก็จะช่วยให้โปรแกรมยังคงสามารถทำงานต่อไปได้ ไม่จบการทำงานลงกลางคัน"
   ]
  },
  {
   "cell_type": "markdown",
   "id": "fcc7d156-e7bb-4c4b-aee6-1ed69f99708f",
   "metadata": {},
   "source": [
    "# จะจัดการอย่างไรกับ Exception ที่เกิดขึ้น?"
   ]
  },
  {
   "cell_type": "markdown",
   "id": "3d3035f8-8780-4180-a2c6-415fa9ea06e5",
   "metadata": {},
   "source": [
    "Exception สามารถเกิดขึ้นในโปรแกรมได้เสมอ ดังนั้นจึงควรเพิ่มส่วนของโค้ดที่ใช้สำหรับดักจับและจัดการกับ exception ที่อาจเกิดขึ้นไว้ในโปรแกรมด้วย โดยให้ระบุโค้ดโปรแกรมส่วนนี้ไว้ตรงตำแหน่งที่คาดว่าจะมีโอกาสเกิด exception ขึ้นได้ โดยมีวิธีการต่างๆ ดังนี้"
   ]
  },
  {
   "cell_type": "markdown",
   "id": "c2f3f22b-0f17-4e16-8397-4962f1fe317e",
   "metadata": {},
   "source": [
    "## จัดการกับ Exception ด้วย `try`-`except`\n",
    "`try:` เป็นคำสั่งที่ต้องการให้ตรวจจับความผิดพลาด หรืออาจกล่าวได้ว่า เป็น save zone ที่ให้เราใส่ code ปกติทั่วไป ที่อาจมี error เกิดขึ้นได้\n",
    "\n",
    "`except:` เป็นคำสั่งที่ต้องการให้ทำงานเมื่อมีข้อผิดพลาด \n",
    "\n",
    "โดยมีโครงสร้างการใช้คำสั่งดังนี้\n",
    "\n",
    "<img src=\"images/try_except.webp\">"
   ]
  },
  {
   "cell_type": "code",
   "execution_count": null,
   "id": "0d505831-7db2-4931-b523-a959a2b10a6b",
   "metadata": {},
   "outputs": [],
   "source": [
    "try:\n",
    "    print(5+0)\n",
    "    print(5-0)\n",
    "    print(5/0)\n",
    "    print(5*0)\n",
    "except:\n",
    "    print('ไม่สามารถหารด้วย 0 ได้')"
   ]
  },
  {
   "cell_type": "code",
   "execution_count": null,
   "id": "d3e3d550-a243-4888-a31b-318b40563df8",
   "metadata": {},
   "outputs": [],
   "source": [
    "try:\n",
    "    print(5+0)\n",
    "    print(5-0)\n",
    "    print(5/0)\n",
    "    print(5*0)\n",
    "except ZeroDivisionError:\n",
    "    print('ไม่สามารถหารด้วย 0 ได้')"
   ]
  },
  {
   "cell_type": "code",
   "execution_count": null,
   "id": "ac5712c0-5efd-4fa3-90b0-9d3c22e2d21e",
   "metadata": {},
   "outputs": [],
   "source": [
    "try:\n",
    "    print(5+0)\n",
    "    print(5-0)\n",
    "    print(5/0)\n",
    "    print(5*0)\n",
    "except ZeroDivisionError as zde:\n",
    "    print(zde)"
   ]
  },
  {
   "cell_type": "markdown",
   "id": "be087d43-b1b7-4109-97a1-3f3407b86ac7",
   "metadata": {},
   "source": [
    "++++++++++++++++++++ตัวอย่าง Exception ประเภทอื่นๆ++++++++++++++++++++"
   ]
  },
  {
   "cell_type": "code",
   "execution_count": null,
   "id": "b3d3f41b-eabc-4f23-bc25-e4b5f5f67220",
   "metadata": {},
   "outputs": [],
   "source": [
    "my_list = [-6, 7, -8, 10, 15, 18]\n",
    "print(my_list[3])"
   ]
  },
  {
   "cell_type": "code",
   "execution_count": null,
   "id": "95c9bf63-3298-4e2b-bacb-631ca7f067ae",
   "metadata": {},
   "outputs": [],
   "source": [
    "my_list = [-6, 7, -8, 10, 15, 18]\n",
    "print(my_list[6])"
   ]
  },
  {
   "cell_type": "code",
   "execution_count": null,
   "id": "6a1525b0-b483-4e76-9101-5f25a83ff62e",
   "metadata": {},
   "outputs": [],
   "source": [
    "# Fix this script\n",
    "\n",
    "my_list = [-6, 7, -8, 10, 15, 18]\n",
    "try:\n",
    "    print(my_list[6])\n",
    "except IndexError:\n",
    "    print('ตำแหน่งที่ระบุไม่ถูกต้อง')"
   ]
  },
  {
   "cell_type": "code",
   "execution_count": null,
   "id": "2d1efd16-23e2-48e3-8d98-efd1a46f9e98",
   "metadata": {},
   "outputs": [],
   "source": [
    "my_dict = {1:'Football', 2:'Tennis', 3:'Volleyball'} \n",
    "print(my_dict[2])"
   ]
  },
  {
   "cell_type": "code",
   "execution_count": null,
   "id": "976f982b-b4b6-45b2-b667-d93b148ad53e",
   "metadata": {},
   "outputs": [],
   "source": [
    "my_dict = {1:'Football', 2:'Tennis', 3:'Volleyball'} \n",
    "print(my_dict[4])"
   ]
  },
  {
   "cell_type": "code",
   "execution_count": null,
   "id": "d50b1815-37c4-400d-9da4-9ff2d218e50e",
   "metadata": {},
   "outputs": [],
   "source": [
    "# Fix this script\n",
    "\n",
    "my_dict = {1:'Football', 2:'Tennis', 3:'Volleyball'} \n",
    "try:\n",
    "    print(my_dict[2])\n",
    "except KeyError:\n",
    "    print('คียที่ระบุไม่ถูกต้อง')"
   ]
  },
  {
   "cell_type": "code",
   "execution_count": null,
   "id": "85c2ecf0-abf9-4ac2-babe-760c0735bf71",
   "metadata": {},
   "outputs": [],
   "source": [
    "my_list = [-6, 7, -8, 10, 15, 18]\n",
    "my_dict = {1:'Football', 2:'Tennis', 3:'Volleyball'} \n",
    "try:\n",
    "    print(my_list[6])\n",
    "    print(my_dict[4])\n",
    "except KeyError:\n",
    "    print('คียที่ระบุไม่ถูกต้อง')\n",
    "except IndexError:\n",
    "    print('ตำแหน่งที่ระบุไม่ถูกต้อง')"
   ]
  },
  {
   "cell_type": "markdown",
   "id": "83625eba-bbab-4ef4-b7c0-7749b22554e7",
   "metadata": {},
   "source": [
    "++++++++++++++++++++ตัวอย่าง Exception ประเภทอื่นๆ++++++++++++++++++++"
   ]
  },
  {
   "cell_type": "code",
   "execution_count": null,
   "id": "3990f54e-27d3-4ee5-8240-76b7228c7e13",
   "metadata": {},
   "outputs": [],
   "source": [
    "with open('file.log') as file:\n",
    "        read_data = file.read()"
   ]
  },
  {
   "cell_type": "code",
   "execution_count": null,
   "id": "1c16410b-a4c8-47ac-acfd-5d1b11a6e7ca",
   "metadata": {},
   "outputs": [],
   "source": [
    "try:\n",
    "    with open('file.log') as file:\n",
    "        read_data = file.read()\n",
    "except:\n",
    "    print('Could not open file.log')"
   ]
  },
  {
   "cell_type": "code",
   "execution_count": null,
   "id": "52c614d1-e77b-422c-b295-8cd933bee0c9",
   "metadata": {},
   "outputs": [],
   "source": [
    "try:\n",
    "    with open('file.log') as file:\n",
    "        read_data = file.read()\n",
    "except FileNotFoundError as fnf_error:\n",
    "    print(fnf_error)"
   ]
  },
  {
   "cell_type": "markdown",
   "id": "701fc366-eda5-40e3-8dfd-514a2256dd1e",
   "metadata": {},
   "source": [
    "## จัดการกับ Exception ด้วย `try`-`except`-`else`\n",
    "เราสามารถนำคีย์เวิร์ด `else` มาใช้ร่วมกับการดักจับ Exception ได้ โดยถ้าตรวจสอบไม่พบ Exception ใดๆ โปรแกรมจะทำงานตามคำสั่งที่ระบุไว้ในส่วนของ `else`\n",
    "\n",
    "`else:` จะทำงานเมื่อไม่มี exception (error) เท่านั้น \n",
    "\n",
    "โดยมีโครงสร้างการใช้คำสั่งดังนี้\n",
    "\n",
    "<img src=\"images/try_except_else.webp\">"
   ]
  },
  {
   "cell_type": "code",
   "execution_count": null,
   "id": "d1761971-6286-4753-9da5-591f1874e997",
   "metadata": {},
   "outputs": [],
   "source": [
    "x = [5, 12, 6, 9, 13]\n",
    "n = int(input('กรุณาป้อนตัวเลข: '))\n",
    "i = int(input('กรุณาป้อนตำแหน่งข้อมูลในlist: '))\n",
    "z = x[i]/n\n",
    "print(f'ผลลัพธ์ที่ได้คือ {z}')"
   ]
  },
  {
   "cell_type": "code",
   "execution_count": null,
   "id": "7d197d2e-d99c-4ee4-95a5-068931ffa165",
   "metadata": {},
   "outputs": [],
   "source": [
    "# Fix this script\n",
    "\n",
    "x = [5, 12, 6, 9, 13]\n",
    "try:\n",
    "    n = int(input('กรุณาป้อนตัวเลข: '))\n",
    "    i = int(input('กรุณาป้อนตำแหน่งข้อมูลในlist: '))\n",
    "    z = x[i]/n\n",
    "except IndexError:\n",
    "    print('ไม่พบตำแหน่งที่คุณระบุในlist')\n",
    "except ZeroDivisionError:\n",
    "    print('ตัวหารเป็นเลข 0 ไม่ได้')\n",
    "except ValueError:\n",
    "    print('ข้อมูลที่คุณป้อนไม่ใช่ตัวเลขจำนวนเต็ม')\n",
    "else:\n",
    "    print('ไม่พบข้อผิดพลาดของ Exception')\n",
    "    print(f'ผลลัพธ์ที่ได้คือ {z}')"
   ]
  },
  {
   "cell_type": "markdown",
   "id": "1c63dc9c-aa7d-4e35-b435-b8402edfb645",
   "metadata": {},
   "source": [
    "## จัดการกับ Exception ด้วย `try`-`except`-`finally`\n",
    "เราสามารถนำคีย์เวิร์ด `finally` มาใช้ร่วมกับการดักจับ Exception ได้ โดยโปรแกรมจะทำงานตามคำสั่งที่ระบุไว้ในส่วนของ `finally` เสมอไม่ว่าจะตรวจสอบพบ Exception หรือไม่ก็ตาม \n",
    "\n",
    "`finally:` เป็น block ที่จะทำงานตลอดเลย ไม่ว่าจะมี exception หรือไม่ก็ตาม \n",
    "\n",
    "โดยมีโครงสร้างการใช้คำสั่งดังนี้\n",
    "\n",
    "<img src=\"images/try_except_else_finally.webp\">"
   ]
  },
  {
   "cell_type": "code",
   "execution_count": null,
   "id": "24c186f3-58ce-4532-be2e-46d9d746d569",
   "metadata": {},
   "outputs": [],
   "source": [
    "x = [5, 12, 6, 9, 13]\n",
    "try:\n",
    "    n = int(input('กรุณาป้อนตัวเลข: '))\n",
    "    i = int(input('กรุณาป้อนตำแหน่งข้อมูลในlist: '))\n",
    "    z = x[i]/n\n",
    "except IndexError:\n",
    "    print('ไม่พบตำแหน่งที่คุณระบุในlist')\n",
    "except ZeroDivisionError:\n",
    "    print('ตัวหารเป็นเลข 0 ไม่ได้')\n",
    "except ValueError:\n",
    "    print('ข้อมูลที่คุณป้อนไม่ใช่ตัวเลขจำนวนเต็ม')\n",
    "else:\n",
    "    print('ไม่พบข้อผิดพลาดของ Exception')\n",
    "    print(f'ผลลัพธ์ที่ได้คือ {z}')\n",
    "finally:\n",
    "    print('Goog Job')"
   ]
  },
  {
   "cell_type": "markdown",
   "id": "f41e32e9-74ca-4b24-8f8c-83eabcb16806",
   "metadata": {},
   "source": [
    "## การสร้างข้อความแจ้งเตือนข้อผิดพลาดด้วยคำสั่ง `raise`\n",
    "นอกจากเราใช้คำสั่ง `try`-`except` ตรวจจับคำสั่งโปรแกรมที่คาดว่าจะเกิดความผิดพลาด\n",
    "ขึ้น และแจ้งเตือนตามประเภทของ Exception แล้วยังมีคำสั่ง `raise` ให้เราใช้งานสำหรับ\n",
    "สร้างข้อความการแจ้งเตือนข้อผิดพลาดขึ้นมาใช้งานเอง เพื่อให้ทราบถึงสาเหตุที่เกิดขึ้นของข้อ\n",
    "ผิดพลาด ตัวอย่างเช่น การตรวจสอบเงื่อนไขว่าโปรแกรมทำงานถูกต้องตามที่กำนดไว้หรือไม่\n",
    "โดยคำสั่ง `raise` มีรูปแบบการใช้งานดังนี้\n",
    "\n",
    "<img src=\"images/raise.webp\">"
   ]
  },
  {
   "cell_type": "code",
   "execution_count": null,
   "id": "0124bdf9-0be4-47d4-9e0e-561ca7c58679",
   "metadata": {},
   "outputs": [],
   "source": [
    "x = int(input('Enter numbers 1-5 : '))\n",
    "if x > 5:\n",
    "    raise TypeError(f'x should not exceed 5. The value of x was: {x}')"
   ]
  },
  {
   "cell_type": "code",
   "execution_count": null,
   "id": "884922b8-b37b-4d2a-a664-3eed55980e58",
   "metadata": {},
   "outputs": [],
   "source": [
    "x = int(input('Enter numbers 1-5 : '))\n",
    "if x > 5:\n",
    "    raise Exception(f'x should not exceed 5. The value of x was: {x}')"
   ]
  },
  {
   "cell_type": "code",
   "execution_count": null,
   "id": "ff1d40a1-a071-480d-9524-3835135c2ad7",
   "metadata": {},
   "outputs": [],
   "source": [
    "day_dict = {1: 'อาทิตย์', \n",
    "            2: 'จันทร์', \n",
    "            3: 'อังคาร', \n",
    "            4: 'พุธ', \n",
    "            5: 'พฤหัสบดี', \n",
    "            6: 'ศุกร์',\n",
    "            7: 'เสาร์'}\n",
    "x = int(input('กรุณากรอกข้อมูลวันในหนึ่งสัปดาห์ (1-7): '))\n",
    "if x < 1 or x > 7:\n",
    "    raise Exception(f'ข้อมูลวันในหนึ่งสัปดาห์ต้องมีค่า 1-7 เท่านั้น ค่าที่คุณป้อนคือ {x}')\n",
    "else:\n",
    "    print(f'วันที่ {x} ในสัปดาห์ คือวัน {day_dict[x]}')"
   ]
  },
  {
   "cell_type": "code",
   "execution_count": null,
   "id": "b74de0b2-9819-4bea-9f94-0e916b2ddf0c",
   "metadata": {},
   "outputs": [],
   "source": [
    "def func():\n",
    "    x = input(\"ระบุตัวเลข :\")\n",
    "    if not x.isdigit():\n",
    "        raise Exception(\"โปรดระบุตัวเลข\")\n",
    "\n",
    "    y = int(x)\n",
    "    if y not in range(1,100):\n",
    "        raise Exception(\"ค่าที่ระบุมากเกินไป\")\n",
    "    else:\n",
    "        return y\n",
    "\n",
    "try:\n",
    "    y = func()\n",
    "except Exception as error:\n",
    "    print(error)\n",
    "else:\n",
    "    print('y =',y)"
   ]
  },
  {
   "cell_type": "markdown",
   "id": "46204b0b-d273-458c-9db9-a5cfdcb9e8ed",
   "metadata": {},
   "source": [
    "## การยืนยันความถูกต้องด้วยคำสั่ง `assert`\n",
    "นอกจากเราใช้คำสั่ง `try`-`except` ตรวจจับคำสั่งโปรแกรมที่คาดว่าจะเกิดความผิดพลาด\n",
    "ขึ้น และแจ้งเตือนตามประเภทของ Exception แล้วยังมีคำสั่ง `assert` เพื่อตรวจจับข้อผิดพลาดที่เกิดขึ้นก็เป็นอีกหนึ่งวิธีที่มีความสะดวก ซึ่งเป็นการยืนยันและเพื่อให้แน่ใจว่าคำสั่งโปรแกรมนั้นจะไม่มีโอกาสเกิดข้อผิดพลาดขึ้นอย่างแน่นอน ถ้าคำสั่ง `assert` ตรวจพบข้อผิดพลาดจะแสดงประเภท Exception ของ `AssertionError`ออกมา โดยมีรูปแบบการใช้งานดังนี้\n",
    "\n",
    "<img src=\"images/assert.webp\">\n",
    "\n",
    "<img src=\"images/Screenshot 2024-12-25 at 02.06.09.png\">"
   ]
  },
  {
   "cell_type": "code",
   "execution_count": null,
   "id": "126cf768-f671-4514-9ecb-ecfb2f29fd62",
   "metadata": {},
   "outputs": [],
   "source": [
    "x = 10\n",
    "y = 20\n",
    "assert x == y, 'ค่าตัวแปร x และ y ไม่เท่ากัน'"
   ]
  },
  {
   "cell_type": "code",
   "execution_count": null,
   "id": "5fa93f35-0ca1-4147-a595-22ca414830ec",
   "metadata": {},
   "outputs": [],
   "source": [
    "x = 10\n",
    "y = 20\n",
    "assert x != y, 'ค่าตัวแปร x และ y ไม่เท่ากัน'\n",
    "print('x ไม่เท่ากับ y')"
   ]
  },
  {
   "cell_type": "code",
   "execution_count": null,
   "id": "6406bb54-22d3-4ef2-93c0-58a842c7c895",
   "metadata": {},
   "outputs": [],
   "source": [
    "try:\n",
    "    n = int(input('กรุณากรอกคะแนนไม่เกิน 30 คะแนน : '))\n",
    "    assert n <= 30, 'bbb'\n",
    "    print(f'คะแนนที่คุณกรอกคือ {n}')\n",
    "except ValueError:\n",
    "    print('คุณกรอกข้อมูลตัวเลขไม่ถูกต้อง')\n",
    "except AssertionError:\n",
    "    print('คุณกรอกค่าตัวเลขเกินจำนวน')"
   ]
  },
  {
   "cell_type": "code",
   "execution_count": null,
   "id": "9b606fe5-3159-4b50-bc73-92faa43d319a",
   "metadata": {},
   "outputs": [],
   "source": [
    "def times_ten(number):\n",
    "    return number * 100\n",
    " \n",
    "result = times_ten(20)\n",
    "assert result == 2000, 'Expected times_ten(20) to return 200, instead got ' + str(result)\n"
   ]
  },
  {
   "cell_type": "code",
   "execution_count": null,
   "id": "969ca6e0-b163-4ce8-b54d-e23c5b447301",
   "metadata": {},
   "outputs": [],
   "source": [
    "def times_ten(number):\n",
    "    return number * 100\n",
    " \n",
    "result = times_ten(20)\n",
    "if  result != 2000:\n",
    "    raise Exception('Expected times_ten(20) to return 200, instead got ' + str(result))\n"
   ]
  },
  {
   "cell_type": "markdown",
   "id": "56e8f2c3",
   "metadata": {},
   "source": [
    "# Summing Up\n",
    "After seeing the difference between syntax errors and exceptions, you learned about various ways to raise, catch, and handle exceptions in Python. In this article, you saw the following options:\n",
    "\n",
    "- `raise` allows you to throw an exception at any time.\n",
    "- `assert` enables you to verify if a certain condition is met and throw an exception if it isn’t.\n",
    "- In the `try` clause, all statements are executed until an exception is encountered.\n",
    "- `except` is used to catch and handle the exception(s) that are encountered in the try clause.\n",
    "- `else` lets you code sections that should run only when no exceptions are encountered in the try clause.\n",
    "- `finally` enables you to execute sections of code that should always run, with or without any previously encountered exceptions.\n",
    "---------"
   ]
  },
  {
   "cell_type": "markdown",
   "id": "887aa9f5",
   "metadata": {},
   "source": [
    "# Your turn!\n",
    "\n",
    "To check your understanding, try to complete the [exercise](exercises/ex_1.ipynb)!"
   ]
  },
  {
   "cell_type": "markdown",
   "id": "4d8695de",
   "metadata": {},
   "source": [
    "---------"
   ]
  }
 ],
 "metadata": {
  "kernelspec": {
   "display_name": "Python 3 (ipykernel)",
   "language": "python",
   "name": "python3"
  },
  "language_info": {
   "codemirror_mode": {
    "name": "ipython",
    "version": 3
   },
   "file_extension": ".py",
   "mimetype": "text/x-python",
   "name": "python",
   "nbconvert_exporter": "python",
   "pygments_lexer": "ipython3",
   "version": "3.11.5"
  }
 },
 "nbformat": 4,
 "nbformat_minor": 5
}
