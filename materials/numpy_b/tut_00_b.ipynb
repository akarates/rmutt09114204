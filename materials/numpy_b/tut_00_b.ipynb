{
 "cells": [
  {
   "cell_type": "markdown",
   "id": "2a9bb2ac-e86e-434b-8a0a-acc7414d3a0e",
   "metadata": {},
   "source": [
    "# Data Science (วิทยาการข้อมูล) คืออะไร\n",
    "\n",
    "Data Science หรือในภาษาไทยแปลว่า “วิทยาการข้อมูล” คือ ศาสตร์ที่รวมเอาความรู้ด้านวิทยาการคอมพิวเตอร์(Computer Science) ด้านคณิตศาสตร์และสถิติ(Math & Statistics) ด้านความรู้เฉพาะทาง(Domain Knowledge)มาประยุกต์รวมกันเพื่อจัดเก็บ รวบรวม ตรวจสอบ วิเคราะห์ และนำเสนอข้อมูลที่ออกมาในรูปแบบของข้อมูลเชิงลึก (Insight) เพื่อนำไปใช้ประโยชน์ในด้านต่าง ๆ เช่น เศรษฐศาสตร์ การเงิน โลจิสติกส์ วิศวกรรม การแพทย์ เป็นต้น "
   ]
  },
  {
   "cell_type": "markdown",
   "id": "c5f5cd76-ee79-4e9d-9ab9-c2fb94295f98",
   "metadata": {},
   "source": [
    "<img src=\"./DS.png\" alt=\"cce\" border=\"0\">"
   ]
  },
  {
   "cell_type": "markdown",
   "id": "f275c798-78f0-4ccf-a502-9577a6667213",
   "metadata": {},
   "source": [
    "# Data Science กับ Python\n",
    "\n",
    "ภาษา Python เป็นหนึ่งในภาษาที่นิยมใช้กันในงานสาย Data Science\n",
    "\n",
    "ข้อดีของการใช้งาน Python ทำงาน Data Science สามารถสรุปได้ดังนี้\n",
    "1. เป็นมิตรกับมือใหม่\n",
    "Python ใช้งานง่ายและมี syntax ที่เรียบง่าย ภาษานี้จึงเป็นเครื่องมือที่เหมาะกับมือใหม่  \n",
    "\n",
    "2. มีชุดเครื่องมือสำหรับคณิตศาสตร์และสถิติ\n",
    "Python มีฟังก์ชั่นในการคำนวณทางคณิตศาสตร์ ทำเรื่องสถิติ และสร้างโมเดลทางสถิติ มันจึงเป็นภาษาที่เหมาะกับการใช้งานทางด้านวิทยาศาสตร์ข้อมูลมาก\n",
    "\n",
    "3. เหมาะกับการทำ data visualization\n",
    "Python เหมาะกับการทำ data visualization ซึ่งจะช่วยให้เราเข้าใจข้อมูลได้ดี เช่น เข้าใจความสัมพันธ์ที่น่าจะเป็นไปได้ เห็นความสัมพันธ์ที่ไม่ปรากฏเด่นชัด และเห็นเทรนด์ต่างๆ\n",
    "\n",
    "4. มี open-source library จำนวนมากให้ใช้\n",
    "Python เป็นภาษาที่มีห้องสมุด open-source จำนวนมากให้ใช้ และเป็นห้องสมุดที่มีมากกว่าส่วนของการคำนวณ สถิติ และ data visualization \n",
    "\n",
    "5. มีประสิทธิภาพและปรับขนาดได้\n",
    "Python เหมาะจะนำไปใช้ในงาน Data Science เพราะมันทั้งมีประสิทธิภาพ และใช้กับงานทั้งใหญ่และเล็กได้ \n",
    "\n",
    "6. มีชุมชนที่เข้มแข็ง\n",
    "Python มีชุมชนที่เข้มแข็ง และทำงานต่อเนื่องเพื่อพัฒนา libraries สำหรับงานวิทยาศาสตร์ข้อมูลให้ดีขึ้น "
   ]
  },
  {
   "cell_type": "markdown",
   "id": "e9fad551-a421-42ff-b571-76d60462b94a",
   "metadata": {},
   "source": [
    "# library พื้นฐานสำหรับงาน Data Science ของ Python\n",
    "ภาษาสารพัดประโยชน์อย่าง Python ถ้าจะต้องจำทุกคำสั่งก็คงจะต้องใช้แรงไม่น้อย เลยมีผู้พัฒนาหลายๆ คน พยายามที่จะนำคำสั่งต่างๆ ของ Python มาสร้างเป็นชุดคำสั่ง หรือเป็น Package เพื่อให้สามารถทำงานตามวัตถุประสงค์แต่ละด้านได้อย่างมีประสิทธิภาพมากขึ้น โดยที่เรียกสิ่งที่ว่านี้ว่า “Python Library”\n",
    "\n",
    "### 1. NumPy\n",
    "\n",
    "มีชื่อเต็มว่า “Numerical Python” โดดเด่นในด้านการคำนวณ​ และการทำงานกับตัวเลข ( NumPy ถือเป็น Scientific Computing Library ที่สำคัญมากของ Python) \n",
    "\n",
    "นอกจากนี้ NumPy ยังมีความสามารถสำคัญในการสร้าง Array (โครงสร้างข้อมูล) และ  Multidimensional Array ได้ ทำให้การคำนวณบน Python มีความรวดเร็วมากขึ้น ซึ่งแม้ Python พื้นฐานเอง จะมี Python list ที่มีความคล้ายคลึงกับ Array แต่ NumPy สามารถจัดการข้อมูลเหล่านี้ได้เร็วกว่าการใช้ Python list ธรรมดาๆ \n",
    "\n",
    "\n",
    "### 2. Pandas\n",
    "\n",
    "สุดยอด Library แห่งการจัดการข้อมูล (Data Wrangling/ Data Cleaning) และการวิเคราะห์ข้อมูล (Data Analysis)\n",
    "\n",
    "pandas สามารถเชื่อมต่อกับแหล่งข้อมูลได้หลากหลาย หลังจากนั้นก็สามารถจัดเตรียมข้อมูล ทำความสะอาด และจัดรูปแบบให้พร้อมกับการนำไปวิเคราะห์ ตลอดจนการแสดงผล\n",
    "\n",
    "### 3. Matplotlib\n",
    "\n",
    "เป็น Library อันดับหนึ่งในการสร้างกราฟ และทำ Data Visualization (คล้ายกับ MATLAB ซึ่งมาพร้อมกับ Python) โดยที่ Matplotlib สามารถสร้างกราฟได้หลายประเภทเพื่อตอบโจทย์การทำงานของผู้ใช้ให้ได้หลากหลาย เช่น กราฟเส้น แผนภูมิจุดแบบกระจัดกระจาย (Scatter Plot), กราฟแท่ง และฮิสโตแกรม, แผนภูมิบ็อกซ์และวิสเกอร์ (Box Plot หรือ Whisker Plot) และอื่นๆ \n"
   ]
  },
  {
   "cell_type": "markdown",
   "id": "f42e5f46-7d6b-4013-8a93-e9c97c819e13",
   "metadata": {},
   "source": [
    "## ทำไม Numpy Array ถึงน่าใช้กว่า List\n",
    "\n",
    "แน่นอนว่าสิ่งที่เราสงสัย ณ ตอนนี้คือ แล้ว List กับ Numpy Array เนี่ย ตัวไหนมันทำงานได้ดีกว่ากันล่ะ หรือมันทำงานได้รวดเร็วเท่ากันกันแน่ แน่นอนว่ามีวิธีหาคำตอบสำหรับคำถามนี้ครับ ซึ่งก็คือการลงมือเขียนโค้ดนั่นเองเทียบประสิทธิภาพให้ทุกคนเห็นกับตานั่นเองครับ!!! โดยจะยกตัวอย่างให้เห็นแบบสั้นๆด้วยการเทียบประสิทธิภาพด้วยการให้ทั้ง 2 ตัวนี้มีสมาชิกทั้งหมด 1,000,000 ตัว (ใช่ครับ คาดว่าประมาณนี้กำลังดีเลยในการยกตัวอย่างง่ายๆ เนื่องจากงาน Data science นั้นต้องจัดการกับข้อมูลที่มีจำนวนมากๆ ดังนั้น 1 ล้านตัวนั้นไม่น้อยเกินไปครับ) โดยเราจะนำสมาชิกทุกตัวใน List และ Numpy Array มาคูณเข้าด้วย 2 ทั้งหมด แล้วมาดูกันครับว่าใครสามารถทำงานได้ดีกว่ากัน"
   ]
  },
  {
   "cell_type": "code",
   "execution_count": 1,
   "id": "63cfbac5-65e9-420b-9629-e38a441c62fb",
   "metadata": {},
   "outputs": [],
   "source": [
    "#import Numpy library to create Numpy Array and\n",
    "#import time library for making computing performance metric\n",
    "import numpy as np\n",
    "import time as t"
   ]
  },
  {
   "cell_type": "code",
   "execution_count": 2,
   "id": "72d6c520-a7f3-4930-a4c4-16c3f2188771",
   "metadata": {},
   "outputs": [],
   "source": [
    "# initialize number of elements and another subject\n",
    "n = 1000000\n",
    "ListA = []\n",
    "\n",
    "# Create a List and Array that has 1M elements\n",
    "\n",
    "# List\n",
    "for i in range(n):\n",
    "    ListA.append(i)\n",
    "\n",
    "# Numpy Array\n",
    "numpy_array = np.arange(n)"
   ]
  },
  {
   "cell_type": "code",
   "execution_count": 3,
   "id": "27be4947-ad9d-4412-abe0-bd23579562e0",
   "metadata": {},
   "outputs": [
    {
     "name": "stdout",
     "output_type": "stream",
     "text": [
      "Time used for computation by List is 0.01481318473815918 seconds\n",
      "Time used for computation by Numpy is 0.0008368492126464844 seconds\n"
     ]
    }
   ],
   "source": [
    "# Perform multiply by 2, then observe time efficiency\n",
    "\n",
    "# By List\n",
    "start_time_list = t.time()\n",
    "List = [i*2 for i in ListA]\n",
    "list_perform_time = t.time() - start_time_list\n",
    "print('Time used for computation by List is {} seconds'.format(list_perform_time))\n",
    "\n",
    "# By Numpy Array\n",
    "start_time_array = t.time()\n",
    "numpy_array = numpy_array*2\n",
    "array_perform_time = t.time() - start_time_array\n",
    "print('Time used for computation by Numpy is {} seconds'.format(array_perform_time))\n",
    "\n"
   ]
  },
  {
   "cell_type": "code",
   "execution_count": 4,
   "id": "4bd4d66a-acdc-48f4-8849-8ff732a8522c",
   "metadata": {},
   "outputs": [
    {
     "name": "stdout",
     "output_type": "stream",
     "text": [
      "Differance between performing by List and Numpy Array are 0.013976335525512695\n",
      "Ratio between List and Numpy Array computation time is 17.7011396011396\n"
     ]
    }
   ],
   "source": [
    "# Time efficiency of List and Numpy Array on the same task\n",
    "\n",
    "print(f'Differance between performing by List and Numpy Array are {list_perform_time-array_perform_time}')\n",
    "print(f'Ratio between List and Numpy Array computation time is {list_perform_time/array_perform_time}')"
   ]
  },
  {
   "cell_type": "code",
   "execution_count": 5,
   "id": "737676ef-348b-4af4-a2d8-32e401ad2f3a",
   "metadata": {},
   "outputs": [
    {
     "name": "stdout",
     "output_type": "stream",
     "text": [
      "Time used for computation by List is 0.02100515365600586 seconds\n",
      "Time used for computation by Numpy is 0.0008189678192138672 seconds\n"
     ]
    }
   ],
   "source": [
    "# Perform multiply by 2, then observe time efficiency\n",
    "\n",
    "# By List\n",
    "start_time_list = t.time()\n",
    "List = [i**2 for i in ListA]\n",
    "list_perform_time = t.time() - start_time_list\n",
    "print('Time used for computation by List is {} seconds'.format(list_perform_time))\n",
    "\n",
    "# By Numpy Array\n",
    "start_time_array = t.time()\n",
    "numpy_array = numpy_array**2\n",
    "array_perform_time = t.time() - start_time_array\n",
    "print('Time used for computation by Numpy is {} seconds'.format(array_perform_time))\n",
    "\n"
   ]
  },
  {
   "cell_type": "code",
   "execution_count": 6,
   "id": "3edf23a9-b6d7-4864-8a65-55e7bd377329",
   "metadata": {},
   "outputs": [
    {
     "name": "stdout",
     "output_type": "stream",
     "text": [
      "Differance between performing by List and Numpy Array are 0.020186185836791992\n",
      "Ratio between List and Numpy Array computation time is 25.648326055312953\n"
     ]
    }
   ],
   "source": [
    "# Time efficiency of List and Numpy Array on the same task\n",
    "\n",
    "print(f'Differance between performing by List and Numpy Array are {list_perform_time-array_perform_time}')\n",
    "print(f'Ratio between List and Numpy Array computation time is {list_perform_time/array_perform_time}')"
   ]
  },
  {
   "cell_type": "markdown",
   "id": "6542d113-6cd7-4ab8-aa76-f92a6b386651",
   "metadata": {},
   "source": [
    "### บทสรุป\n",
    "จะเห็นว่าตัวของ Numpy Array สามารถทำงานได้รวดเร็วกว่าตัวของ List อยู่หลายเท่าเลยทีเดียวครับ \n",
    "\n",
    "เทียบจากการนำมาคูณด้วย 2แล้ว การทำงานของ Numpy นั้นเร็วกว่า List ถึง 21 เท่าเลยทีเดียว! \n",
    "\n",
    "เทียบจากการนำมายกกำลัง2 แล้ว การทำงานของ Numpy นั้นเร็วกว่า List ถึง 33 เท่าเลยทีเดียว!\n",
    "\n",
    "ลองคิดดูนะครับว่าถ้าประมวณผลข้อมูลชุด A ใช้เวลา 1 ชั่วโมงโดยการใช้ Numpy Array แล้วถ้าเราเลือกใช้ List ล่ะ มันจะนานขนาดไหน) ซึ่ง ณ ตอนนี้ทุกคนก็น่าจะพอเห็นภาพแบบคร่าวๆแล้วนะครับว่าเจ้าตัว Numpy Array เนี่ยมันเร็วกว่าเยอะมากๆเมื่อต้องจัดการกับข้อมูลจำนวนขนาดใหญ่และมีความซับซ้อนสูงครับ"
   ]
  },
  {
   "cell_type": "markdown",
   "id": "006f690b-2bbe-49e5-a90d-5d28a68b9dcd",
   "metadata": {},
   "source": [
    "## List & Array (ndarray)\n",
    "ชนิดข้อมูล\n",
    "- Array สมาชิกใน Array ต้องมีชนิดข้อมูลเหมือนกัน\n",
    "- List สมาชิกมีชนิดข้อมูลต่างกันได้\n",
    "\n",
    "ขนาด \n",
    "- Array ขนาดที่แน่นอนเปลี่ยนแปลงขนาดไม่ได้\n",
    "- List มีขนาดที่ยืดหยุ่นกว่า"
   ]
  },
  {
   "cell_type": "markdown",
   "id": "d5c74d21-2b01-4aa1-8aa8-4297ba105dca",
   "metadata": {},
   "source": [
    "Array คือการนําข้อมูลมาอยู่ในกลุ่ม\n",
    "เดียวกัน โดยสมาชิกภายใน Array\n",
    "ต้องมีชนิดข้อมูลเหมือนกัน"
   ]
  },
  {
   "cell_type": "markdown",
   "id": "a9d04083-1ea1-408d-a6d6-ddba1f00d04d",
   "metadata": {},
   "source": [
    "<img src=\"./ndarray.pdf\" alt=\"cce\" border=\"0\">"
   ]
  },
  {
   "cell_type": "code",
   "execution_count": null,
   "id": "896ef3b0-385a-42fb-b298-7d408762b5c9",
   "metadata": {},
   "outputs": [],
   "source": []
  }
 ],
 "metadata": {
  "kernelspec": {
   "display_name": "Python 3 (ipykernel)",
   "language": "python",
   "name": "python3"
  },
  "language_info": {
   "codemirror_mode": {
    "name": "ipython",
    "version": 3
   },
   "file_extension": ".py",
   "mimetype": "text/x-python",
   "name": "python",
   "nbconvert_exporter": "python",
   "pygments_lexer": "ipython3",
   "version": "3.11.5"
  }
 },
 "nbformat": 4,
 "nbformat_minor": 5
}
