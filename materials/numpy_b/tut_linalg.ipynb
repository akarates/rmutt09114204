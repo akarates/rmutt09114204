{
 "cells": [
  {
   "cell_type": "markdown",
   "id": "f75c684f-16d8-4fcd-b593-df74f22ba362",
   "metadata": {},
   "source": [
    "<a id=\"25\"></a> <br>\n",
    "# Linear Algebra Functions ใน NumPy\n",
    "\n",
    "\n",
    "\n",
    "\n"
   ]
  },
  {
   "cell_type": "markdown",
   "id": "7111f8fc-92ff-4e90-bf31-da77df953471",
   "metadata": {},
   "source": [
    "NumPy มีโมดูลย่อยชื่อ numpy.linalg ซึ่งรวบรวมฟังก์ชันสำหรับการคำนวณทาง Linear Algebra (พีชคณิตเชิงเส้น) เช่น การหาดีเทอร์มิแนนต์ (determinant), การหาอินเวอร์ส (inverse), การแก้ระบบสมการเชิงเส้น (solving linear equations), ค่าลักษณะ (Eigenvalues/Eigenvectors)และอื่นๆ "
   ]
  },
  {
   "cell_type": "markdown",
   "id": "0f643b2c-8c73-4ac5-80fb-49dfd4e23b4a",
   "metadata": {},
   "source": [
    "## 1. การคำนวณดีเทอร์มิแนนต์ (Determinant)"
   ]
  },
  {
   "cell_type": "markdown",
   "id": "fb5618b6-62fe-441f-9e8f-a4ea1b4c0d47",
   "metadata": {},
   "source": [
    "\n",
    "\n",
    "- ฟังก์ชัน: numpy.linalg.det()\n",
    "- คำอธิบาย: ใช้หาดีเทอร์มิแนนต์ของเมทริกซ์(สามารถใช้กับ square matrix เท่านั้น)\n",
    "- ตัวอย่าง:"
   ]
  },
  {
   "cell_type": "code",
   "execution_count": null,
   "id": "32bd7722-354f-4e0d-8338-d573347ab1d9",
   "metadata": {},
   "outputs": [],
   "source": [
    "import numpy as np\n",
    "\n",
    "# สร้างเมทริกซ์ 3x3\n",
    "B = np.array([[1, 2, 3],\n",
    "              [0, 4, 5],\n",
    "              [1, 0, 6]])\n",
    "\n",
    "# คำนวณ Determinant ของ B\n",
    "det_B = np.linalg.det(B)\n",
    "print(\"เมทริกซ์ B:\")\n",
    "print(B)\n",
    "print(\"\\nDeterminant ของ B:\")\n",
    "print(det_B)\n"
   ]
  },
  {
   "cell_type": "markdown",
   "id": "f53ecefb-aeb9-43f1-82c5-e0f9c3b6cc83",
   "metadata": {},
   "source": [
    "## 2. การหาอินเวอร์ส (Inverse)\n"
   ]
  },
  {
   "cell_type": "markdown",
   "id": "144acbd7-d14c-44c4-8a91-f257c3e8d508",
   "metadata": {},
   "source": [
    "\n",
    "- ฟังก์ชัน: numpy.linalg.inv()\n",
    "- คำอธิบาย: ใช้อินเวอร์สของเมทริกซ์ (เมทริกซ์ที่คูณกับเมทริกซ์เดิมแล้วได้เมทริกซ์เอกลักษณ์)\n",
    "- เงื่อนไข:\n",
    "เมทริกซ์ต้องเป็น square matrix และ\n",
    "เมทริกซ์ต้องเป็น non-singular (มี determinant ไม่เป็น 0)\n",
    "- ตัวอย่าง:"
   ]
  },
  {
   "cell_type": "code",
   "execution_count": null,
   "id": "677a4b01-6b06-466e-8af4-7c0f2aaadb16",
   "metadata": {},
   "outputs": [],
   "source": [
    "import numpy as np\n",
    "\n",
    "# สร้างเมทริกซ์ 2x2\n",
    "A = np.array([[4, 7],\n",
    "              [2, 6]])\n",
    "\n",
    "# คำนวณเมทริกซ์ผกผันของ A\n",
    "A_inv = np.linalg.inv(A)\n",
    "print(\"เมทริกซ์ A:\")\n",
    "print(A)\n",
    "print(\"\\nเมทริกซ์ผกผันของ A:\")\n",
    "print(A_inv)\n",
    "\n",
    "# ตรวจสอบว่า A * A_inv = Identity Matrix\n",
    "identity = np.dot(A, A_inv)\n",
    "print(\"\\nA * A_inv (ควรได้ Identity):\")\n",
    "print(identity)\n"
   ]
  },
  {
   "cell_type": "markdown",
   "id": "8aeae2b3-11be-4777-bc1b-99a7566fddc8",
   "metadata": {},
   "source": [
    "## 3. การแก้ระบบสมการเชิงเส้น (Solving Linear Equations)"
   ]
  },
  {
   "cell_type": "markdown",
   "id": "8a36c9f2-3ea2-4359-82ba-37ee38b776f2",
   "metadata": {},
   "source": [
    "\n",
    "- ฟังก์ชัน: numpy.linalg.solve()\n",
    "- คำอธิบาย: ใช้แก้ระบบสมการเชิงเส้นในรูปแบบ Ax=b โดยที่ \n",
    "A เป็นเมทริกซ์สัมประสิทธิ์ และ \n",
    "b เป็นเวกเตอร์ผลลัพธ์\n",
    "- ตัวอย่าง:"
   ]
  },
  {
   "cell_type": "code",
   "execution_count": null,
   "id": "c5a66816-a620-4e45-b2ef-cf7f697a14e3",
   "metadata": {},
   "outputs": [],
   "source": [
    "import numpy as np\n",
    "\n",
    "# กำหนดระบบสมการ: 2x2\n",
    "#  3x +  y = 9\n",
    "#  x  + 2y = 8\n",
    "A = np.array([[3, 1],\n",
    "              [1, 2]])\n",
    "b = np.array([9, 8])\n",
    "\n",
    "# แก้สมการ Ax = b\n",
    "x = np.linalg.solve(A, b)\n",
    "print(\"คำตอบของระบบสมการ Ax = b:\")\n",
    "print(x)\n"
   ]
  },
  {
   "cell_type": "markdown",
   "id": "7f580afc-85a8-4b2f-b8f6-00494ab24820",
   "metadata": {},
   "source": [
    "## 4. การหาค่าไอเกน (Eigenvalues และ Eigenvectors)"
   ]
  },
  {
   "cell_type": "markdown",
   "id": "60fa7652-2ae5-47b8-86ec-1484c6ca0921",
   "metadata": {},
   "source": [
    "\n",
    "- ฟังก์ชัน: numpy.linalg.eig()\n",
    "- คำอธิบาย: ใช้หาค่าไอเกน (eigenvalues) และเวกเตอร์ไอเกน (eigenvectors) ของเมทริกซ์\n",
    "- ตัวอย่าง:"
   ]
  },
  {
   "cell_type": "code",
   "execution_count": null,
   "id": "2ec3a98e-96d6-4845-af91-35972e44b3ba",
   "metadata": {},
   "outputs": [],
   "source": [
    "import numpy as np\n",
    "\n",
    "# สร้างเมทริกซ์ 2x2\n",
    "C = np.array([[3, 1],\n",
    "              [0, 2]])\n",
    "\n",
    "# คำนวณ Eigenvalues และ Eigenvectors ของ C\n",
    "eigenvalues, eigenvectors = np.linalg.eig(C)\n",
    "print(\"เมทริกซ์ C:\")\n",
    "print(C)\n",
    "print(\"\\nEigenvalues ของ C:\")\n",
    "print(eigenvalues)\n",
    "print(\"\\nEigenvectors ของ C (ในแต่ละคอลัมน์):\")\n",
    "print(eigenvectors)\n"
   ]
  },
  {
   "cell_type": "markdown",
   "id": "ed68aad3-668b-4337-b87d-81e57dfaa25c",
   "metadata": {},
   "source": [
    "## 5. การคำนวณ Rank ของเมทริกซ์"
   ]
  },
  {
   "cell_type": "markdown",
   "id": "0162b4c5-e903-4aee-8008-a92b6f779dac",
   "metadata": {},
   "source": [
    "\n",
    "- ฟังก์ชัน: numpy.linalg.matrix_rank()\n",
    "- คำอธิบาย: ใช้หาค่า Rank ของเมทริกซ์ (จำนวนแถวหรือคอลัมน์ที่อิสระเชิงเส้น)\n",
    "- ตัวอย่าง:"
   ]
  },
  {
   "cell_type": "code",
   "execution_count": null,
   "id": "28c165f2-3bcc-4a38-a3ac-6970c9ae01c5",
   "metadata": {},
   "outputs": [],
   "source": [
    "A = np.array([[1, 2], [2, 4]])\n",
    "rank_A = np.linalg.matrix_rank(A)\n",
    "print(\"Rank of A:\", rank_A)"
   ]
  },
  {
   "cell_type": "markdown",
   "id": "5d5b45e6-aebc-4715-81d9-3a507d685a4d",
   "metadata": {},
   "source": [
    "## 6. การคำนวณ Trace ของเมทริกซ์"
   ]
  },
  {
   "cell_type": "markdown",
   "id": "4447da91-fafb-4267-b62d-9098cc5c6f4b",
   "metadata": {},
   "source": [
    "\n",
    "- ฟังก์ชัน: numpy.trace()\n",
    "- คำอธิบาย: ใช้หาผลรวมของสมาชิกบนเส้นทแยงมุมหลักของเมทริกซ์\n",
    "- ตัวอย่าง:"
   ]
  },
  {
   "cell_type": "code",
   "execution_count": null,
   "id": "039be80a-4e15-4db3-8daa-52e13d30582a",
   "metadata": {},
   "outputs": [],
   "source": [
    "A = np.array([[1, 2], [3, 4]])\n",
    "trace_A = np.trace(A)\n",
    "print(\"Trace of A:\", trace_A)"
   ]
  },
  {
   "cell_type": "markdown",
   "id": "494ea82f-1f1c-41d0-b00e-bd2c79b41a14",
   "metadata": {},
   "source": [
    "## 7. การคำนวณ Dot Product"
   ]
  },
  {
   "cell_type": "markdown",
   "id": "5ef7136e-6513-4217-9b72-99f6e55f9414",
   "metadata": {},
   "source": [
    "\n",
    "- ฟังก์ชัน: numpy.dot()\n",
    "- คำอธิบาย: ใช้คำนวณผลคูณจุด (dot product) ของเวกเตอร์หรือเมทริกซ์\n",
    "- ตัวอย่าง:"
   ]
  },
  {
   "cell_type": "code",
   "execution_count": null,
   "id": "332a5dba-6b5b-4587-977d-3ea52450c1f6",
   "metadata": {},
   "outputs": [],
   "source": [
    "import numpy as np\n",
    "\n",
    "# ตัวอย่าง 1: dot product ระหว่างเวกเตอร์ 1 มิติ\n",
    "v1 = np.array([1, 2, 3])\n",
    "v2 = np.array([4, 5, 6])\n",
    "dot_product = np.dot(v1, v2)\n",
    "print(\"Dot product ของเวกเตอร์ v1 และ v2 =\", dot_product)\n",
    "# คำนวณ: 1*4 + 2*5 + 3*6 = 32\n",
    "\n",
    "# ตัวอย่าง 2: ผลคูณของเมทริกซ์ 2 มิติ\n",
    "A = np.array([[1, 2],\n",
    "              [3, 4]])\n",
    "B = np.array([[5, 6],\n",
    "              [7, 8]])\n",
    "C = np.dot(A, B)\n",
    "print(\"A:\")\n",
    "print(A)\n",
    "print(\"\\nB:\")\n",
    "print(B)\n",
    "print(\"\\nผลคูณของเมทริกซ์ A และ B โดยใช้ np.dot:\")\n",
    "print(C)\n",
    "# คำนวณ:\n",
    "# C[0,0] = 1*5 + 2*7 = 19, C[0,1] = 1*6 + 2*8 = 22\n",
    "# C[1,0] = 3*5 + 4*7 = 43, C[1,1] = 3*6 + 4*8 = 50\n"
   ]
  },
  {
   "cell_type": "code",
   "execution_count": null,
   "id": "df6d82ad-36bd-45f2-95f4-c4bc8ecd172f",
   "metadata": {},
   "outputs": [],
   "source": [
    "import numpy as np\n",
    "\n",
    "# กำหนดเมทริกซ์ A ขนาด 3x3\n",
    "A = np.array([[1, 2, 3],\n",
    "              [4, 5, 6],\n",
    "              [7, 8, 9]])\n",
    "\n",
    "# กำหนดเมทริกซ์ B ขนาด 3x3\n",
    "B = np.array([[9, 8, 7],\n",
    "              [6, 5, 4],\n",
    "              [3, 2, 1]])\n",
    "\n",
    "# ผลคูณของเมทริกซ์โดยใช้ np.dot\n",
    "C_dot = np.dot(A, B)\n",
    "\n",
    "# ผลคูณโดยใช้ operator @\n",
    "C_at = A @ B\n",
    "\n",
    "# ผลคูณโดยใช้ np.matmul\n",
    "C_matmul = np.matmul(A, B)\n",
    "\n",
    "print(\"A:\")\n",
    "print(A)\n",
    "print(\"\\nB:\")\n",
    "print(B)\n",
    "print(\"\\nผลคูณของ A และ B โดย np.dot:\")\n",
    "print(C_dot)\n",
    "# print(\"\\nผลคูณของ A และ B โดย operator '@':\")\n",
    "# print(C_at)\n",
    "# print(\"\\nผลคูณของ A และ B โดย np.matmul:\")\n",
    "# print(C_matmul)\n"
   ]
  },
  {
   "cell_type": "code",
   "execution_count": null,
   "id": "b3f65a9b-91a6-4480-8010-bb5c6a5db992",
   "metadata": {},
   "outputs": [],
   "source": [
    "import numpy as np\n",
    "\n",
    "# กำหนดเมทริกซ์ A ขนาด 3x4\n",
    "A = np.array([[1, 2, 3, 4],\n",
    "              [5, 6, 7, 8],\n",
    "              [9, 10, 11, 12]])\n",
    "\n",
    "# กำหนดเมทริกซ์ B ขนาด 4x2\n",
    "B = np.array([[1, 2],\n",
    "              [3, 4],\n",
    "              [5, 6],\n",
    "              [7, 8]])\n",
    "\n",
    "# ผลคูณของเมทริกซ์โดยใช้ np.dot\n",
    "C_dot = np.dot(A, B)\n",
    "\n",
    "# ผลคูณโดยใช้ operator @\n",
    "C_at = A @ B\n",
    "\n",
    "# ผลคูณโดยใช้ np.matmul\n",
    "C_matmul = np.matmul(A, B)\n",
    "\n",
    "print(\"A (3x4):\")\n",
    "print(A)\n",
    "print(\"\\nB (4x2):\")\n",
    "print(B)\n",
    "print(\"\\nผลคูณของ A และ B (3x2) โดย np.dot:\")\n",
    "print(C_dot)\n",
    "# print(\"\\nผลคูณของ A และ B โดย operator '@':\")\n",
    "# print(C_at)\n",
    "# print(\"\\nผลคูณของ A และ B โดย np.matmul:\")\n",
    "# print(C_matmul)\n"
   ]
  },
  {
   "cell_type": "code",
   "execution_count": null,
   "id": "233e859f-a72e-499e-91cb-cb9699841bde",
   "metadata": {},
   "outputs": [],
   "source": []
  }
 ],
 "metadata": {
  "kernelspec": {
   "display_name": "Python 3 (ipykernel)",
   "language": "python",
   "name": "python3"
  },
  "language_info": {
   "codemirror_mode": {
    "name": "ipython",
    "version": 3
   },
   "file_extension": ".py",
   "mimetype": "text/x-python",
   "name": "python",
   "nbconvert_exporter": "python",
   "pygments_lexer": "ipython3",
   "version": "3.11.5"
  }
 },
 "nbformat": 4,
 "nbformat_minor": 5
}
