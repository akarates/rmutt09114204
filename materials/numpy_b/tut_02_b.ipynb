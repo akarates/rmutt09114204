{
 "cells": [
  {
   "cell_type": "markdown",
   "id": "39a03588-051a-4219-8df6-a4a9c3a8de19",
   "metadata": {},
   "source": [
    "<a id=\"25\"></a> <br>\n",
    "# Computation on Arrays: Broadcasting"
   ]
  },
  {
   "cell_type": "markdown",
   "id": "a522711d-acb6-435a-8563-ff744f81161b",
   "metadata": {},
   "source": [
    "* Broadcasting is simply a\n",
    "set of rules for applying binary ufuncs (addition, subtraction, multiplication, etc.) on\n",
    "arrays of different sizes."
   ]
  },
  {
   "cell_type": "markdown",
   "id": "3f139101-3c7f-42db-814d-d287fc8938ea",
   "metadata": {},
   "source": [
    "<a id=\"26\"></a> <br>\n",
    "### Introducing Broadcasting"
   ]
  },
  {
   "cell_type": "code",
   "execution_count": null,
   "id": "f0afe503-e2aa-4252-89e8-83821a8920df",
   "metadata": {},
   "outputs": [],
   "source": [
    "import numpy as np\n",
    "\n",
    "a = np.array([0,1,2])\n",
    "b = np.array([5,5,5])\n",
    "a+b"
   ]
  },
  {
   "cell_type": "code",
   "execution_count": null,
   "id": "844ef2bb-8fb8-46f0-ad16-f349da6c6ce1",
   "metadata": {},
   "outputs": [],
   "source": [
    "a+np.array([5])"
   ]
  },
  {
   "cell_type": "code",
   "execution_count": null,
   "id": "08948c4a-7fcc-4ba1-8d34-e29fb10edaa2",
   "metadata": {},
   "outputs": [],
   "source": [
    "a+np.array(5)"
   ]
  },
  {
   "cell_type": "code",
   "execution_count": null,
   "id": "4304f4a8-57ca-4aa4-b401-cfcb69b4357d",
   "metadata": {},
   "outputs": [],
   "source": [
    "a+5"
   ]
  },
  {
   "cell_type": "markdown",
   "id": "663054b1-f0ac-4eb3-934f-551b06e07df5",
   "metadata": {},
   "source": [
    "<img src=\"broadcast_01.png\" alt=\"cce\" border=\"0\">"
   ]
  },
  {
   "cell_type": "markdown",
   "id": "a2644c95-2699-4681-a3ce-bc986341052d",
   "metadata": {},
   "source": [
    "<img src=\"broadcast_02.png\" alt=\"cce\" border=\"0\">"
   ]
  },
  {
   "cell_type": "markdown",
   "id": "e6e319b3-2eb0-45e9-a4ab-a41491ce5b9a",
   "metadata": {},
   "source": [
    "<img src=\"broadcast_03.png\" alt=\"cce\" border=\"0\">"
   ]
  },
  {
   "cell_type": "markdown",
   "id": "d6b57ab8-084b-461f-9ce6-b41309fd88ec",
   "metadata": {},
   "source": [
    "<img src=\"broadcast_04.png\" alt=\"cce\" border=\"0\">"
   ]
  },
  {
   "cell_type": "markdown",
   "id": "5a3d69b1-223c-4525-873a-b9cc60649562",
   "metadata": {},
   "source": [
    "<img src=\"broadcast_05.png\" alt=\"cce\" border=\"0\">"
   ]
  },
  {
   "cell_type": "markdown",
   "id": "6579f0a2-f24e-481f-9df2-80e0cf090b1e",
   "metadata": {},
   "source": [
    "<img src=\"broadcast_06.png\" alt=\"cce\" border=\"0\">"
   ]
  },
  {
   "cell_type": "markdown",
   "id": "c21800da-a879-47b7-8eeb-4623d6ff2b63",
   "metadata": {},
   "source": [
    "<img src=\"broadcast_07.png\" alt=\"cce\" border=\"0\">"
   ]
  },
  {
   "cell_type": "markdown",
   "id": "b57e222f-fa73-4287-a20b-e15e41b8c213",
   "metadata": {},
   "source": [
    "<img src=\"broadcast_08.png\" alt=\"cce\" border=\"0\">"
   ]
  },
  {
   "cell_type": "markdown",
   "id": "cb159cce-adc3-4cc4-b9e9-ec49d241b576",
   "metadata": {},
   "source": [
    "<img src=\"broadcast_09.png\" alt=\"cce\" border=\"0\">"
   ]
  },
  {
   "cell_type": "markdown",
   "id": "69a55baa-790e-4bfa-b000-f027c858a28e",
   "metadata": {},
   "source": [
    "<img src=\"broadcast_10.png\" alt=\"cce\" border=\"0\">"
   ]
  },
  {
   "cell_type": "markdown",
   "id": "69fa2729-098d-4026-8559-b67a9a5e389b",
   "metadata": {},
   "source": [
    "<img src=\"broadcast_11.png\" alt=\"cce\" border=\"0\">"
   ]
  },
  {
   "cell_type": "markdown",
   "id": "1a43f313-b2b2-4153-bd80-35b1abc560a2",
   "metadata": {},
   "source": [
    "<img src=\"broadcast_12.png\" alt=\"cce\" border=\"0\">"
   ]
  },
  {
   "cell_type": "markdown",
   "id": "446e229d-e683-4013-af50-c71e38b76d3f",
   "metadata": {},
   "source": [
    "<img src=\"broadcast_13.png\" alt=\"cce\" border=\"0\">"
   ]
  },
  {
   "cell_type": "markdown",
   "id": "f23d2ea2-5bd3-44b1-890f-988e9f3d884d",
   "metadata": {},
   "source": [
    "<img src=\"broadcast_14.png\" alt=\"cce\" border=\"0\">"
   ]
  },
  {
   "cell_type": "markdown",
   "id": "412302b0-7a5a-4748-ad86-6a5db3ce4e42",
   "metadata": {},
   "source": [
    "<img src=\"broadcast_15.png\" alt=\"cce\" border=\"0\">"
   ]
  },
  {
   "cell_type": "code",
   "execution_count": null,
   "id": "bddc8479-c17d-4ddc-b323-eef5a22e7ecd",
   "metadata": {},
   "outputs": [],
   "source": [
    "# We can similarly extend this to arrays of higher dimension. Observe the result when\n",
    "# we add a one-dimensional array to a two-dimensional array:\n",
    "\n",
    "M = np.ones((3,3))\n",
    "M"
   ]
  },
  {
   "cell_type": "code",
   "execution_count": null,
   "id": "d21ab75a-19f3-4be6-9da4-498f405e1ad1",
   "metadata": {},
   "outputs": [],
   "source": [
    "a = np.array([0,1,2])\n",
    "a"
   ]
  },
  {
   "cell_type": "code",
   "execution_count": null,
   "id": "59b8e763-8f2d-4f34-a748-0eb32a3127b7",
   "metadata": {},
   "outputs": [],
   "source": [
    "M+a\n",
    "# Here the one-dimensional array a is stretched, or broadcast, across the second\n",
    "# dimension in order to match the shape of M .\n"
   ]
  },
  {
   "cell_type": "code",
   "execution_count": null,
   "id": "4453cfcb-67b9-4d7c-976d-4a41ed51924d",
   "metadata": {},
   "outputs": [],
   "source": [
    "c = np.arange(3).reshape((3,1))\n",
    "c"
   ]
  },
  {
   "cell_type": "code",
   "execution_count": null,
   "id": "054b8cf3-54eb-4e13-8b30-b09fb1398e0b",
   "metadata": {},
   "outputs": [],
   "source": [
    "d = np.arange(3)\n",
    "d"
   ]
  },
  {
   "cell_type": "code",
   "execution_count": null,
   "id": "21ff3215-9378-4edc-b16e-88ed6eac8292",
   "metadata": {},
   "outputs": [],
   "source": [
    "c+d"
   ]
  },
  {
   "cell_type": "markdown",
   "id": "cd70b620-7bd5-4527-8f54-94b403a701a1",
   "metadata": {},
   "source": [
    "<a id=\"27\"></a> <br>\n",
    "### Visualization of NumPy broadcasting\n",
    "\n",
    "<img src=\"np_bc.png\" alt=\"broadcasting\" border=\"0\">"
   ]
  },
  {
   "cell_type": "markdown",
   "id": "2575cb0e-bc0e-4d3c-8059-85cd43899366",
   "metadata": {},
   "source": [
    "<a id=\"31\"></a> <br>\n",
    "# Comparisons, Masks, and Boolean Logic"
   ]
  },
  {
   "cell_type": "markdown",
   "id": "91baba72-67cd-400b-bd7f-29cf5743fae9",
   "metadata": {},
   "source": [
    "<a id=\"32\"></a> <br>\n",
    "### Comparison Operators as ufuncs"
   ]
  },
  {
   "cell_type": "markdown",
   "id": "9701117a-b34d-438e-9ef7-a291c45d9427",
   "metadata": {},
   "source": [
    "* The result of these comparison operators is always an array with a Boolean data type.\n",
    "All six of the standard comparison operations are available:\n",
    "\n",
    "* for example, you might wish to count all values greater than a certain value,\n",
    "or perhaps remove all outliers that are above some threshold. In NumPy,\n",
    "Boolean masking is often the most efficient way to accomplish these types of tasks."
   ]
  },
  {
   "cell_type": "code",
   "execution_count": null,
   "id": "38ada4c5-ccba-409d-8f4a-70a01e65bdbf",
   "metadata": {},
   "outputs": [],
   "source": [
    "x = np.array([1,2,3,4,5])\n",
    "\n",
    "print(x<3)  # less than\n",
    "print(x>3)  # greater than\n",
    "print(x<=3) # less than or equal\n",
    "print(x>=3) # greater than or equal\n",
    "print(x!=3) # not equal\n",
    "print(x==3) # equal"
   ]
  },
  {
   "cell_type": "code",
   "execution_count": null,
   "id": "05a1749c-da50-4f6f-b507-320d8d2e1dbb",
   "metadata": {},
   "outputs": [],
   "source": [
    "# It is also possible to do an element-by-element comparison of two arrays, and to\n",
    "# include compound expressions:\n",
    "\n",
    "(2*x) == (2**x)"
   ]
  },
  {
   "cell_type": "code",
   "execution_count": null,
   "id": "6c47ca09-4e72-4454-8341-20dd0b538a20",
   "metadata": {},
   "outputs": [],
   "source": [
    "# As in the case of arithmetic operators, the comparison operators are implemented as\n",
    "# ufuncs in NumPy; for example, when you write x < 3 , internally NumPy uses\n",
    "# np.less(x, 3) . A summary of the comparison operators and their equivalent ufunc\n",
    "# is shown here:"
   ]
  },
  {
   "cell_type": "markdown",
   "id": "9d136c4d-2adb-4949-99b8-97a0f2ba9a29",
   "metadata": {},
   "source": [
    "<a id=\"33\"></a> <br>\n",
    "### Comparison operators and their equivalent\n",
    "\n",
    "<img src=\"np_ufunc.png\" alt=\"Comparison operators and their equivalent\" border=\"0\">"
   ]
  },
  {
   "cell_type": "code",
   "execution_count": null,
   "id": "762d1989-ad77-464b-a17f-ce7f0cff8835",
   "metadata": {},
   "outputs": [],
   "source": [
    "x = np.random.randint(10, size=(3,4))\n",
    "print(x)\n",
    "\n",
    "x<6"
   ]
  },
  {
   "cell_type": "markdown",
   "id": "dab8abb0-9cf7-4f82-a364-4ba6c4a6356f",
   "metadata": {},
   "source": [
    "<a id=\"34\"></a> <br>\n",
    "### Working with Boolean Arrays "
   ]
  },
  {
   "cell_type": "code",
   "execution_count": null,
   "id": "3e0b4d38-6ee7-41ce-868f-182034affc21",
   "metadata": {},
   "outputs": [],
   "source": [
    "print(x)\n",
    "\n",
    "# To count the number of True entries in a Boolean array, \n",
    "#     np.count_nonzero is useful:\n",
    "# np.count_nonzero เป็นฟังก์ชันใน NumPy ที่ใช้สำหรับนับจำนวนของสมาชิกใน array \n",
    "#     ที่มีค่า \"ไม่เท่ากับ 0\" หรือในทางอื่นคือ นับจำนวนสมาชิกที่เป็น \"True\" \n",
    "#     ในบริบทของการตีความเป็น Boolean(ซึ่ง 0 ถูกมองว่าเป็น False \n",
    "#     และค่าที่ไม่ใช่ 0 ถูกมองว่าเป็น True)\n",
    "\n",
    "# how many values less than 6?\n",
    "print(\"A: \",np.count_nonzero(x<6))\n",
    "\n",
    "# We see that there are eight array entries that are less than 6. \n",
    "#     Another way to get at this information is to use np.sum ; \n",
    "#     in this case, False is interpreted as 0 , \n",
    "#     and True is interpreted as 1 :\n",
    "\n",
    "print(\"B: \",np.sum(x<6))\n",
    "\n",
    "print(\"C: \",np.sum(x!=np.nan))\n",
    "print(\"D: \",np.count_nonzero(x!=np.nan))\n"
   ]
  },
  {
   "cell_type": "code",
   "execution_count": null,
   "id": "8679bbcb-d9b7-41df-9efc-f498b882f037",
   "metadata": {},
   "outputs": [],
   "source": [
    "# how many values less than 6 in each row?\n",
    "print(np.sum(x < 6, axis=1))\n",
    "\n",
    "# how many values less than 6 in each column?\n",
    "print(np.sum(x < 6, axis=0))"
   ]
  },
  {
   "cell_type": "code",
   "execution_count": null,
   "id": "ad7edc8c-7f2c-4759-a50f-44dc6a4fd12a",
   "metadata": {},
   "outputs": [],
   "source": [
    "# If we’re interested in quickly checking whether any or all \n",
    "#     the values are true, we can use (you guessed it) \n",
    "#     np.any() or np.all() :\n",
    "\n",
    "# are there any values greater than 8?\n",
    "print(np.any(x>8))\n",
    "\n",
    "# are there any values less than zero?\n",
    "print(np.any(x<0))\n",
    "\n",
    "# are all values less than 10?\n",
    "print(np.all(x<10))\n",
    "\n",
    "# are all values equal to 6?\n",
    "print(np.all(x==6))\n"
   ]
  },
  {
   "cell_type": "code",
   "execution_count": null,
   "id": "64186713-1e3f-475d-9c2a-8d743cc16f7f",
   "metadata": {},
   "outputs": [],
   "source": [
    "# are all values in each row less than 8?\n",
    "print(np.all(x<8, axis=1))\n",
    "\n",
    "# are all values in each column less than 3?\n",
    "print(np.all(x<3, axis=0))"
   ]
  },
  {
   "cell_type": "code",
   "execution_count": null,
   "id": "d7d5b1da-a259-4049-9943-266dcb384c65",
   "metadata": {},
   "outputs": [],
   "source": [
    "print(x)\n",
    "print(x<5)\n",
    "print(x[x<5])"
   ]
  },
  {
   "cell_type": "code",
   "execution_count": null,
   "id": "2ccbeefe-deec-46d7-af8e-13fde78d8bcd",
   "metadata": {},
   "outputs": [],
   "source": [
    "# In Python, all nonzero integers will evaluate as True .\n",
    "bool(42), bool(0), bool(-1)"
   ]
  },
  {
   "cell_type": "code",
   "execution_count": null,
   "id": "e90f747e-6543-427b-8daa-9d9c11fcc0b5",
   "metadata": {},
   "outputs": [],
   "source": [
    "bool(42 and 0)"
   ]
  },
  {
   "cell_type": "code",
   "execution_count": null,
   "id": "5f1cf30e-4cea-4c67-929a-8cad31d3358f",
   "metadata": {},
   "outputs": [],
   "source": [
    "bool(42 or 0)"
   ]
  },
  {
   "cell_type": "code",
   "execution_count": null,
   "id": "ea244bb8-5c6f-4237-bccc-7b7156412d4a",
   "metadata": {},
   "outputs": [],
   "source": [
    "# When you have an array of Boolean values in NumPy, this can be thought of as a\n",
    "# string of bits where 1 = True and 0 = False , and the result of & and | operates in a\n",
    "# similar manner as before:\n",
    "\n",
    "A = np.array([1, 0, 1, 0, 1, 0], dtype=bool)\n",
    "B = np.array([1, 1, 1, 0, 1, 1], dtype=bool)\n",
    "A | B\n"
   ]
  },
  {
   "cell_type": "code",
   "execution_count": null,
   "id": "0bb08156-667f-45e4-9639-190d41abcacd",
   "metadata": {},
   "outputs": [],
   "source": [
    "x = np.arange(10)\n",
    "(x > 4) & (x < 8)"
   ]
  },
  {
   "cell_type": "markdown",
   "id": "ca1953aa-e567-4b40-aab6-5e8cf229b158",
   "metadata": {},
   "source": [
    "<a id=\"35\"></a> <br>\n",
    "# Fancy Indexing"
   ]
  },
  {
   "cell_type": "markdown",
   "id": "30120c3f-4d88-46d2-b8c8-5e4220d0d17c",
   "metadata": {},
   "source": [
    "<a id=\"36\"></a> <br>\n",
    "### Exploring Fancy Indexing"
   ]
  },
  {
   "cell_type": "markdown",
   "id": "4e4109ca-55c6-4cb6-87b0-7fc638da7208",
   "metadata": {},
   "source": [
    "การเลือกสมาชิกด้วย array ของดัชนีใน array 1 มิติ"
   ]
  },
  {
   "cell_type": "code",
   "execution_count": null,
   "id": "6a855eba-81ac-4c07-b097-067e29a0cbc4",
   "metadata": {},
   "outputs": [],
   "source": [
    "import numpy as np\n",
    "\n",
    "# สร้าง array 1 มิติ\n",
    "a = np.random.randint(100, size=10)\n",
    "\n",
    "# ใช้ fancy indexing โดยส่ง array ของดัชนีที่ต้องการดึงข้อมูล\n",
    "indices = [1, 8, 5, 3] # หรืออาจใช้ ind = [1, 8, 5, 3]\n",
    "result = a[indices] # หรืออาจใช้ ind\n",
    "\n",
    "print(\"Array ต้นฉบับ:\", a)\n",
    "print(\"Indices ที่เลือก:\", indices)\n",
    "print(\"ผลลัพธ์จาก Fancy Indexing:\", result)\n"
   ]
  },
  {
   "cell_type": "code",
   "execution_count": null,
   "id": "8023224a-b83b-400a-832c-04e0bfaf0707",
   "metadata": {},
   "outputs": [],
   "source": [
    "indices = np.array([[3, 7],\n",
    "                [4, 5]])\n",
    "a[indices]"
   ]
  },
  {
   "cell_type": "markdown",
   "id": "a793e447-8855-4cdf-aeba-3e4b5ef7f183",
   "metadata": {},
   "source": [
    "Fancy Indexing กับ array แบบหลายมิติ"
   ]
  },
  {
   "cell_type": "code",
   "execution_count": null,
   "id": "9bd93034-adfe-4b69-8227-a35a684f0ac9",
   "metadata": {},
   "outputs": [],
   "source": [
    "import numpy as np\n",
    "\n",
    "# สร้าง array 2 มิติ (matrix)\n",
    "X = np.array([[ 1,  2,  3,  4],\n",
    "                   [ 5,  6,  7,  8],\n",
    "                   [ 9, 10, 11, 12],\n",
    "                   [13, 14, 15, 16]])\n",
    "\n",
    "# สมมุติว่าเราต้องการเลือกสมาชิกในตำแหน่งที่เฉพาะเจาะจง\n",
    "# เช่น เลือกสมาชิกที่อยู่ในตำแหน่ง (0,1), (1,2), (2,3), (3,0)\n",
    "row_ind = np.array([0, 1, 2, 3])\n",
    "col_ind = np.array([1, 2, 3, 0])\n",
    "\n",
    "result = X[row_ind, col_ind]\n",
    "\n",
    "print(\"X:\")\n",
    "print(X)\n",
    "print(\"Row ind:\", row_ind)\n",
    "print(\"Column ind:\", col_ind)\n",
    "print(\"ผลลัพธ์ Fancy Indexing (เลือกสมาชิกตามตำแหน่ง):\", result)\n"
   ]
  },
  {
   "cell_type": "code",
   "execution_count": null,
   "id": "ba476885-8c13-4d34-a1f2-acba29601096",
   "metadata": {},
   "outputs": [],
   "source": [
    "result2 = X[row_ind.reshape((4,1)), col_ind]\n",
    "\n",
    "print(\"X:\")\n",
    "print(X)\n",
    "print(\"Row indices2:\")\n",
    "print(row_ind.reshape((4,1)))\n",
    "print(\"Column indices:\", col_ind)\n",
    "print(\"ผลลัพธ์ Fancy Indexing (เลือกสมาชิกตามตำแหน่ง):\")\n",
    "print(result2)"
   ]
  },
  {
   "cell_type": "markdown",
   "id": "426b1c47-f058-4a74-b907-32333dd3a32d",
   "metadata": {},
   "source": [
    "<a id=\"37\"></a> <br>\n",
    "### Combined Indexing"
   ]
  },
  {
   "cell_type": "code",
   "execution_count": null,
   "id": "b3166a72-ffb6-4bf9-8bb5-fff942c05ec1",
   "metadata": {},
   "outputs": [],
   "source": [
    "print(X)"
   ]
  },
  {
   "cell_type": "code",
   "execution_count": null,
   "id": "4320c938-64d8-4697-b69b-a59a9eca16d4",
   "metadata": {},
   "outputs": [],
   "source": [
    "X[2,[2,0,1]]"
   ]
  },
  {
   "cell_type": "code",
   "execution_count": null,
   "id": "174adabb-3fd9-4a01-be14-aaf60467cbd2",
   "metadata": {},
   "outputs": [],
   "source": [
    "X[1:, [2, 0, 1]]"
   ]
  },
  {
   "cell_type": "markdown",
   "id": "f417feb4-b2e4-4d5b-b485-e26097676573",
   "metadata": {},
   "source": [
    "<a id=\"38\"></a> <br>\n",
    "### Modifying Values with Fancy Indexing"
   ]
  },
  {
   "cell_type": "code",
   "execution_count": null,
   "id": "f354c07b-29b3-475c-a10f-f4e39cc67ebc",
   "metadata": {},
   "outputs": [],
   "source": [
    "x = np.arange(10)\n",
    "i = np.array([2,1,8,4])\n",
    "x[i] = 99\n",
    "print(x)"
   ]
  },
  {
   "cell_type": "code",
   "execution_count": null,
   "id": "6ccf4b69-97ca-4c37-bd92-46d8bdf11f96",
   "metadata": {},
   "outputs": [],
   "source": [
    "x[i] -= 10\n",
    "print(x)"
   ]
  },
  {
   "cell_type": "code",
   "execution_count": null,
   "id": "c376847e-13bb-42c9-88f2-95ca335c2396",
   "metadata": {},
   "outputs": [],
   "source": [
    "x = np.zeros(10)\n",
    "x[[0, 2]] = [4, 6]\n",
    "print(x)"
   ]
  },
  {
   "cell_type": "code",
   "execution_count": null,
   "id": "3097807a-d8cc-446f-a9ca-3a03300897d0",
   "metadata": {},
   "outputs": [],
   "source": [
    "x = np.zeros(10)\n",
    "x[[0, 0]] = [4, 6]\n",
    "print(x)\n",
    "\n",
    "# Where did the 4 go? \n",
    "# The result of this operation is to first assign x[0] = 4,\n",
    "#     followed by x[0] = 6 . \n",
    "# The result, of course, is that x[0] contains the value 6."
   ]
  },
  {
   "cell_type": "markdown",
   "id": "ad52e995-1b36-45b0-84b9-2759d42ae0b2",
   "metadata": {},
   "source": [
    "การใช้ Boolean array สำหรับการเลือกข้อมูล (อีกรูปแบบของ Fancy Indexing) "
   ]
  },
  {
   "cell_type": "code",
   "execution_count": null,
   "id": "5dd4535b-fe52-4a51-a80b-fa8e9e2818c8",
   "metadata": {},
   "outputs": [],
   "source": [
    "import numpy as np\n",
    "\n",
    "# สร้าง array 1 มิติ\n",
    "a = np.random.randint(100, size=10)\n",
    "\n",
    "# สร้าง Boolean array โดยใช้เงื่อนไข เช่น เลือกค่าที่มากกว่า 40\n",
    "bool_index = a > 40\n",
    "result = a[bool_index]\n",
    "\n",
    "print(\"Array ต้นฉบับ:\", a)\n",
    "print(\"Boolean Index (a > 40):\")\n",
    "print(bool_index)\n",
    "print(\"ผลลัพธ์จาก Fancy Indexing โดยใช้ Boolean array:\")\n",
    "print(result)\n"
   ]
  },
  {
   "cell_type": "markdown",
   "id": "fb3f383d-48e4-44a7-bf24-ed34b3ee3000",
   "metadata": {},
   "source": [
    "ในตัวอย่างนี้ เราสร้าง Boolean array ที่มีค่า True สำหรับตำแหน่งที่สมาชิกใน a มีค่ามากกว่า 40 แล้วใช้ Boolean array นี้ในการเข้าถึงสมาชิกใน a ผลลัพธ์จะได้ array ที่ประกอบด้วยสมาชิกที่ผ่านเงื่อนไข"
   ]
  },
  {
   "cell_type": "markdown",
   "id": "10691b96-1a3d-4e91-876c-a5a3a6f0e6e2",
   "metadata": {},
   "source": [
    "<a id=\"39\"></a> <br>\n",
    "# Sorting Arrays"
   ]
  },
  {
   "cell_type": "markdown",
   "id": "ca2197a6-0f8f-4774-952c-11f8287a7764",
   "metadata": {},
   "source": [
    "<a id=\"40\"></a> <br>\n",
    "### Fast Sorting in NumPy: np.sort and np.argsort"
   ]
  },
  {
   "cell_type": "code",
   "execution_count": null,
   "id": "e01159cb-6980-40b8-a3fe-201f05be9dc5",
   "metadata": {},
   "outputs": [],
   "source": [
    "x = np.array([2,1,4,3,5])\n",
    "np.sort(x)"
   ]
  },
  {
   "cell_type": "code",
   "execution_count": null,
   "id": "fd824c1b-7853-446a-a040-48cd5fa1ebc5",
   "metadata": {},
   "outputs": [],
   "source": [
    "x.sort()\n",
    "print(x)"
   ]
  },
  {
   "cell_type": "code",
   "execution_count": null,
   "id": "9384eec0-695f-45d0-bbf2-da41be413d46",
   "metadata": {},
   "outputs": [],
   "source": [
    "#return indices\n",
    "x = np.array([2,1,4,3,5])\n",
    "i = np.argsort(x)\n",
    "print(i)\n",
    "\n",
    "x[i]"
   ]
  },
  {
   "cell_type": "code",
   "execution_count": null,
   "id": "f586c97f-f229-4167-9876-7b9dd0c39d9c",
   "metadata": {},
   "outputs": [],
   "source": [
    "y = np.random.randint(100, size=10)\n",
    "y"
   ]
  },
  {
   "cell_type": "code",
   "execution_count": null,
   "id": "5ec10ee0-43c9-41ed-90d4-10a699a1fb07",
   "metadata": {},
   "outputs": [],
   "source": [
    "np.sort(y)"
   ]
  },
  {
   "cell_type": "code",
   "execution_count": null,
   "id": "9f5ce790-b0a0-46db-8d90-84ecf50499f1",
   "metadata": {},
   "outputs": [],
   "source": [
    "y.sort()\n",
    "print(y)"
   ]
  },
  {
   "cell_type": "markdown",
   "id": "68861a00-b642-4e49-8045-bc3c17906e31",
   "metadata": {},
   "source": [
    "<a id=\"41\"></a> <br>\n",
    "### Sorting along rows or columns"
   ]
  },
  {
   "cell_type": "code",
   "execution_count": null,
   "id": "f44c4a22-e193-4078-b0ad-cb234d6372b7",
   "metadata": {},
   "outputs": [],
   "source": [
    "# A useful feature of NumPy’s sorting algorithms is the \n",
    "#     ability to sort along specific rows or columns of \n",
    "#     a multidimensional array using the axis argument. \n",
    "# For example:\n",
    "\n",
    "X = np.random.randint(0,10,(4,6))\n",
    "print(X)\n"
   ]
  },
  {
   "cell_type": "code",
   "execution_count": null,
   "id": "5c8bac9b-ddd0-490c-abf4-d9469ee6e304",
   "metadata": {},
   "outputs": [],
   "source": [
    "# sort each column of X\n",
    "\n",
    "np.sort(X, axis=0)"
   ]
  },
  {
   "cell_type": "code",
   "execution_count": null,
   "id": "913c8f4f-efb1-44cd-b8b4-a9c037eff2e8",
   "metadata": {},
   "outputs": [],
   "source": [
    "# sort each row of X\n",
    "\n",
    "np.sort(X, axis=1)"
   ]
  },
  {
   "cell_type": "markdown",
   "id": "d1a59149-e6fa-4e2e-a594-63c89c8278a3",
   "metadata": {},
   "source": [
    "<a id=\"42\"></a> <br>\n",
    "### Partial Sorts: Partitioning"
   ]
  },
  {
   "cell_type": "code",
   "execution_count": null,
   "id": "c3f9defa-0af8-47ad-8119-e7936bf9e7e3",
   "metadata": {},
   "outputs": [],
   "source": [
    "# Note that the first four values in the resulting array \n",
    "#    are the four smallest in the array, and the remaining \n",
    "#    array positions contain the remaining values. \n",
    "#    Within the two partitions, the elements have arbitrary order.\n",
    "\n",
    "x = np.array([7, 2, 1, 3, 6, 5, 4])\n",
    "np.partition(x, 4)"
   ]
  },
  {
   "cell_type": "code",
   "execution_count": null,
   "id": "ed7d3f84-d26f-40d5-881a-25fea1fd0486",
   "metadata": {},
   "outputs": [],
   "source": [
    "y = np.random.randint(100, size=10)\n",
    "y"
   ]
  },
  {
   "cell_type": "code",
   "execution_count": null,
   "id": "4440dd04-4e79-45f1-a480-46f4c1b66837",
   "metadata": {},
   "outputs": [],
   "source": [
    "np.partition(y, 4)"
   ]
  },
  {
   "cell_type": "code",
   "execution_count": null,
   "id": "3c00e039-4bb7-4fb6-893a-b3d3ee73b8ca",
   "metadata": {},
   "outputs": [],
   "source": [
    "print(X)"
   ]
  },
  {
   "cell_type": "code",
   "execution_count": null,
   "id": "36589c02-8467-418d-beee-9a97147ba5d5",
   "metadata": {},
   "outputs": [],
   "source": [
    "# The result is an array where the first two slots in each row contain the smallest values\n",
    "# from that row, with the remaining values filling the remaining slots.\n",
    "\n",
    "np.partition(X, 2, axis=1)"
   ]
  },
  {
   "cell_type": "code",
   "execution_count": null,
   "id": "1b90c06c-ab2e-401e-be72-67227e1b3eb1",
   "metadata": {},
   "outputs": [],
   "source": [
    "np.partition(X, 2, axis=0)"
   ]
  },
  {
   "cell_type": "code",
   "execution_count": null,
   "id": "dcfc3507-f4e6-4dd4-b7ae-f6fdd1721660",
   "metadata": {},
   "outputs": [],
   "source": [
    "np.argpartition(X, 2, axis=1)"
   ]
  },
  {
   "cell_type": "code",
   "execution_count": null,
   "id": "8cfe326e-2ab2-4216-9afd-9f9d9f6e0407",
   "metadata": {},
   "outputs": [],
   "source": [
    "np.argpartition(X, 2, axis=0)"
   ]
  },
  {
   "cell_type": "code",
   "execution_count": null,
   "id": "9ae25616-4074-456e-99e3-4f772ab5efbd",
   "metadata": {},
   "outputs": [],
   "source": []
  },
  {
   "cell_type": "code",
   "execution_count": null,
   "id": "e2cfd337-fca6-4eb2-ae7e-bb61c50aa2ce",
   "metadata": {},
   "outputs": [],
   "source": []
  },
  {
   "cell_type": "code",
   "execution_count": null,
   "id": "47377425-0d6d-48f0-9498-39046438fc6b",
   "metadata": {},
   "outputs": [],
   "source": []
  }
 ],
 "metadata": {
  "kernelspec": {
   "display_name": "Python 3 (ipykernel)",
   "language": "python",
   "name": "python3"
  },
  "language_info": {
   "codemirror_mode": {
    "name": "ipython",
    "version": 3
   },
   "file_extension": ".py",
   "mimetype": "text/x-python",
   "name": "python",
   "nbconvert_exporter": "python",
   "pygments_lexer": "ipython3",
   "version": "3.11.5"
  }
 },
 "nbformat": 4,
 "nbformat_minor": 5
}
