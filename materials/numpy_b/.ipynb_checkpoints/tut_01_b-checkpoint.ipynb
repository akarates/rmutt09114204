{
 "cells": [
  {
   "cell_type": "markdown",
   "id": "ad648a8d-7813-48fe-ae0c-e86144bb1978",
   "metadata": {},
   "source": [
    "<img src=\"./np.png\" alt=\"cce\" border=\"0\">"
   ]
  },
  {
   "cell_type": "markdown",
   "id": "ab14f0c4-8028-497b-8318-02f13e1999b6",
   "metadata": {},
   "source": [
    "<a id=\"1\"></a> <br>\n",
    "# Introduction to NumPy\n",
    "\n",
    "* NumPy is the fundamental package for scientific computing in Python"
   ]
  },
  {
   "cell_type": "code",
   "execution_count": 1,
   "id": "c86d5b5b-8bdb-40d1-b502-760e892c15a5",
   "metadata": {},
   "outputs": [],
   "source": [
    "# เรียกใช้ numpy library โดยกำหนดชื่อย่อว่า np\n",
    "\n",
    "import numpy as np"
   ]
  },
  {
   "cell_type": "code",
   "execution_count": 2,
   "id": "38a65597-428a-4364-bcec-86a2d7d7dd25",
   "metadata": {},
   "outputs": [
    {
     "name": "stdout",
     "output_type": "stream",
     "text": [
      "1.26.0\n"
     ]
    }
   ],
   "source": [
    "# check version ของ numpy library\n",
    "\n",
    "print(np.__version__)"
   ]
  },
  {
   "cell_type": "markdown",
   "id": "c8c76754-b486-476a-84ae-79c7a2fdd73d",
   "metadata": {},
   "source": [
    "* Use the following command to read the documentation:"
   ]
  },
  {
   "cell_type": "code",
   "execution_count": null,
   "id": "50b5a293-0157-44ea-bcfe-36a1ea8aba3e",
   "metadata": {},
   "outputs": [],
   "source": [
    "# ข้อแนะนำคือ อย่าrun!!!!!\n",
    "help(np)"
   ]
  },
  {
   "cell_type": "markdown",
   "id": "14a1afff-0e06-417c-adc7-36ac85725880",
   "metadata": {},
   "source": [
    "* This is a basic numpy array usage:"
   ]
  },
  {
   "cell_type": "markdown",
   "id": "9899bc01-d935-4083-bdbf-2c6f88ffd7ad",
   "metadata": {},
   "source": [
    "* Array คือการนําข้อมูลมาอยู่ในกลุ่มเดียวกัน โดยสมาชิกภายใน Array ต้องมีชนิดข้อมูลเหมือนกัน"
   ]
  },
  {
   "cell_type": "markdown",
   "id": "d82869fc-265e-4490-af03-e03149750986",
   "metadata": {},
   "source": [
    "## List & Array (ndarray)\n",
    "ชนิดข้อมูล\n",
    "- Array สมาชิกใน Array ต้องมีชนิดข้อมูลเหมือนกัน\n",
    "- List สมาชิกมีชนิดข้อมูลต่างกันได้\n",
    "\n",
    "ขนาด \n",
    "- Array ขนาดที่แน่นอนเปลี่ยนแปลงขนาดไม่ได้\n",
    "- List มีขนาดที่ยืดหยุ่นกว่า"
   ]
  },
  {
   "cell_type": "code",
   "execution_count": 4,
   "id": "e5757611-a6e3-457a-b17a-ceceeb5ffc72",
   "metadata": {},
   "outputs": [
    {
     "data": {
      "text/plain": [
       "array([1, 4, 2, 5, 3])"
      ]
     },
     "execution_count": 4,
     "metadata": {},
     "output_type": "execute_result"
    }
   ],
   "source": [
    "# integer array:ข้อมูลคือจำนวนเต็มเหมือนกัน\n",
    "\n",
    "np.array([1,4,2,5,3])"
   ]
  },
  {
   "cell_type": "code",
   "execution_count": 5,
   "id": "739b3650-7f1a-48ff-b1f3-eda4bbb7d9cc",
   "metadata": {},
   "outputs": [
    {
     "data": {
      "text/plain": [
       "array([3.2, 4. , 6. , 5. ])"
      ]
     },
     "execution_count": 5,
     "metadata": {},
     "output_type": "execute_result"
    }
   ],
   "source": [
    "# ถ้าข้อมูลใน array ไม่เหมือนกันจะเกิดอะไรขึ้น????\n",
    "\n",
    "np.array([3.2,4,6,5])"
   ]
  },
  {
   "cell_type": "code",
   "execution_count": 6,
   "id": "c6f7ca34-24b4-4af1-b56b-ce73e58f4273",
   "metadata": {},
   "outputs": [
    {
     "data": {
      "text/plain": [
       "array(['1', '4', '2', '5', '3', '11'], dtype='<U21')"
      ]
     },
     "execution_count": 6,
     "metadata": {},
     "output_type": "execute_result"
    }
   ],
   "source": [
    "# ถ้าข้อมูลใน array ไม่เหมือนกันจะเกิดอะไรขึ้น????\n",
    "\n",
    "np.array([1,4,2,5,3,'11'])"
   ]
  },
  {
   "cell_type": "code",
   "execution_count": 7,
   "id": "0cf323c9-0b06-4f37-bb6e-82c134f3445a",
   "metadata": {},
   "outputs": [
    {
     "data": {
      "text/plain": [
       "array([1, 4, 2, 5, 3, 1])"
      ]
     },
     "execution_count": 7,
     "metadata": {},
     "output_type": "execute_result"
    }
   ],
   "source": [
    "# ถ้าข้อมูลใน array ไม่เหมือนกันจะเกิดอะไรขึ้น????\n",
    "\n",
    "np.array([1,4,2,5,3,True])"
   ]
  },
  {
   "cell_type": "code",
   "execution_count": 8,
   "id": "eb60c387-670d-468f-bb7c-7c6655b7c93a",
   "metadata": {},
   "outputs": [
    {
     "data": {
      "text/plain": [
       "array([-1.+0.j,  4.+0.j, -2.+0.j,  5.+0.j,  3.+2.j])"
      ]
     },
     "execution_count": 8,
     "metadata": {},
     "output_type": "execute_result"
    }
   ],
   "source": [
    "# ถ้าข้อมูลใน array ไม่เหมือนกันจะเกิดอะไรขึ้น????\n",
    "\n",
    "np.array([-1,4,-2,5,3+2j])"
   ]
  },
  {
   "cell_type": "markdown",
   "id": "30bf661c-cab0-4d91-88eb-c848760acf3f",
   "metadata": {},
   "source": [
    "<a id=\"2\"></a> <br>\n",
    "# การสร้าง array 1 มิติ"
   ]
  },
  {
   "cell_type": "code",
   "execution_count": 9,
   "id": "d8c36a50-c11c-429c-be43-7ff4b4e585a7",
   "metadata": {},
   "outputs": [],
   "source": [
    "# สร้าง array โดยระบุสมาชิก(list)ลงไปเลย\n",
    "\n",
    "a = np.array([1,2,3])"
   ]
  },
  {
   "cell_type": "code",
   "execution_count": 10,
   "id": "1c70ff85-c5d5-4afe-8a6e-252915ed81ca",
   "metadata": {},
   "outputs": [
    {
     "data": {
      "text/plain": [
       "array([1, 2, 3])"
      ]
     },
     "execution_count": 10,
     "metadata": {},
     "output_type": "execute_result"
    }
   ],
   "source": [
    "a"
   ]
  },
  {
   "cell_type": "code",
   "execution_count": 11,
   "id": "11a372dc-ddd6-4ada-b9f0-2002d0f50fa8",
   "metadata": {},
   "outputs": [
    {
     "name": "stdout",
     "output_type": "stream",
     "text": [
      "[1 2 3]\n"
     ]
    }
   ],
   "source": [
    "print(a)"
   ]
  },
  {
   "cell_type": "code",
   "execution_count": 12,
   "id": "4fd02d23-db17-44e4-a93f-00511eb9fc5f",
   "metadata": {},
   "outputs": [],
   "source": [
    "# สร้าง array โดยระบุสมาชิก(tuple)ลงไปเลย\n",
    "\n",
    "b = np.array((7,8,9))"
   ]
  },
  {
   "cell_type": "code",
   "execution_count": 13,
   "id": "ad6cd0f3-aeea-4c39-8eec-98f03af48706",
   "metadata": {},
   "outputs": [
    {
     "data": {
      "text/plain": [
       "array([7, 8, 9])"
      ]
     },
     "execution_count": 13,
     "metadata": {},
     "output_type": "execute_result"
    }
   ],
   "source": [
    "b"
   ]
  },
  {
   "cell_type": "code",
   "execution_count": 14,
   "id": "bb502e15-93a8-4075-bf40-ef0d357032b2",
   "metadata": {},
   "outputs": [
    {
     "name": "stdout",
     "output_type": "stream",
     "text": [
      "[7 8 9]\n"
     ]
    }
   ],
   "source": [
    "print(b)"
   ]
  },
  {
   "cell_type": "code",
   "execution_count": 15,
   "id": "ddc35721-ae6d-4d9a-859a-6fd6e762f816",
   "metadata": {},
   "outputs": [
    {
     "data": {
      "text/plain": [
       "1"
      ]
     },
     "execution_count": 15,
     "metadata": {},
     "output_type": "execute_result"
    }
   ],
   "source": [
    "# check array ที่สร้างว่ามีกี่มิติ\n",
    "\n",
    "a.ndim"
   ]
  },
  {
   "cell_type": "code",
   "execution_count": 16,
   "id": "39087936-b43b-4c90-8de3-27cde06193d2",
   "metadata": {},
   "outputs": [
    {
     "data": {
      "text/plain": [
       "array([17, 18, 19])"
      ]
     },
     "execution_count": 16,
     "metadata": {},
     "output_type": "execute_result"
    }
   ],
   "source": [
    "np.array((17,18,19))"
   ]
  },
  {
   "cell_type": "code",
   "execution_count": 17,
   "id": "e57bbb1c-23b5-436e-929c-985826a8e975",
   "metadata": {},
   "outputs": [
    {
     "data": {
      "text/plain": [
       "1"
      ]
     },
     "execution_count": 17,
     "metadata": {},
     "output_type": "execute_result"
    }
   ],
   "source": [
    "np.array((17,18,19)).ndim"
   ]
  },
  {
   "cell_type": "code",
   "execution_count": 18,
   "id": "f5ea1dff-2e85-42e7-8d84-72c39ca8be14",
   "metadata": {},
   "outputs": [
    {
     "data": {
      "text/plain": [
       "1"
      ]
     },
     "execution_count": 18,
     "metadata": {},
     "output_type": "execute_result"
    }
   ],
   "source": [
    "# check array ที่สร้างว่ามีกี่มิติ\n",
    "\n",
    "b.ndim"
   ]
  },
  {
   "cell_type": "code",
   "execution_count": 19,
   "id": "f0b337fd-33b3-4303-a0ee-5dbef3545905",
   "metadata": {},
   "outputs": [],
   "source": [
    "# สร้าง array โดยใช้ตัวแปร(list)เสริม\n",
    "\n",
    "li = [2,4,6,8]\n",
    "c = np.array(li)"
   ]
  },
  {
   "cell_type": "code",
   "execution_count": 20,
   "id": "ea7f993f-4d83-4e96-ad39-018e7dc84393",
   "metadata": {},
   "outputs": [
    {
     "name": "stdout",
     "output_type": "stream",
     "text": [
      "[2 4 6 8]\n"
     ]
    }
   ],
   "source": [
    "print(c)"
   ]
  },
  {
   "cell_type": "code",
   "execution_count": 21,
   "id": "af1260ee-66a4-47c2-89f7-4ce8fc11acb8",
   "metadata": {},
   "outputs": [],
   "source": [
    "# สร้าง array โดยใช้ตัวแปร(tuple)เสริม\n",
    "\n",
    "tu = (3,5,7,9)\n",
    "d = np.array(tu)"
   ]
  },
  {
   "cell_type": "code",
   "execution_count": 22,
   "id": "ee279d42-111d-474d-9272-8fc348b7acbe",
   "metadata": {},
   "outputs": [
    {
     "data": {
      "text/plain": [
       "array([3, 5, 7, 9])"
      ]
     },
     "execution_count": 22,
     "metadata": {},
     "output_type": "execute_result"
    }
   ],
   "source": [
    "d"
   ]
  },
  {
   "cell_type": "markdown",
   "id": "96210f87-6634-48ec-9242-4266dace8929",
   "metadata": {},
   "source": [
    "<a id=\"2\"></a> <br>\n",
    "# การสร้าง array 2 มิติ"
   ]
  },
  {
   "cell_type": "code",
   "execution_count": 23,
   "id": "3ac1af51-00ca-40da-a8e5-65312b258416",
   "metadata": {},
   "outputs": [],
   "source": [
    "# สร้าง array โดยระบุสมาชิก(list)ลงไปเลย\n",
    "\n",
    "e = np.array([[1,2,3],[4,5,6]])"
   ]
  },
  {
   "cell_type": "code",
   "execution_count": 24,
   "id": "cda1349a-0b5f-497f-8786-56fc15f8ebb2",
   "metadata": {},
   "outputs": [
    {
     "data": {
      "text/plain": [
       "array([[1, 2, 3],\n",
       "       [4, 5, 6]])"
      ]
     },
     "execution_count": 24,
     "metadata": {},
     "output_type": "execute_result"
    }
   ],
   "source": [
    "e"
   ]
  },
  {
   "cell_type": "code",
   "execution_count": 25,
   "id": "98bfd5f3-05de-4f99-b122-2a9143ccdda6",
   "metadata": {},
   "outputs": [
    {
     "name": "stdout",
     "output_type": "stream",
     "text": [
      "[[1 2 3]\n",
      " [4 5 6]]\n"
     ]
    }
   ],
   "source": [
    "print(e)"
   ]
  },
  {
   "cell_type": "code",
   "execution_count": 26,
   "id": "721672c0-dfd4-41fd-ad78-22872231b046",
   "metadata": {},
   "outputs": [
    {
     "data": {
      "text/plain": [
       "2"
      ]
     },
     "execution_count": 26,
     "metadata": {},
     "output_type": "execute_result"
    }
   ],
   "source": [
    "# check array ที่สร้างว่ามีกี่มิติ\n",
    "\n",
    "e.ndim"
   ]
  },
  {
   "cell_type": "code",
   "execution_count": 27,
   "id": "40dea430-83e5-4608-9855-7db3fc88e8f6",
   "metadata": {},
   "outputs": [],
   "source": [
    "# สร้าง array โดยใช้ตัวแปร(list)เสริม\n",
    "\n",
    "li1 = [[1,2,3],[4,5,6],[7,8,9]]\n",
    "f = np.array(li1)"
   ]
  },
  {
   "cell_type": "code",
   "execution_count": 28,
   "id": "1b430870-5146-47fe-99cf-a1281d1d8fea",
   "metadata": {},
   "outputs": [
    {
     "name": "stdout",
     "output_type": "stream",
     "text": [
      "[[1 2 3]\n",
      " [4 5 6]\n",
      " [7 8 9]]\n"
     ]
    }
   ],
   "source": [
    "print(f)"
   ]
  },
  {
   "cell_type": "code",
   "execution_count": 29,
   "id": "c19597fa-18c5-44b4-8c97-5da87d96fa74",
   "metadata": {},
   "outputs": [],
   "source": [
    "# nested lists result in multidimensional arrays\n",
    "\n",
    "h = np.array([range(i,i+3) for i in [2,4,6]])"
   ]
  },
  {
   "cell_type": "code",
   "execution_count": 30,
   "id": "717eda60-0c8b-4c6e-8b0e-de4361891914",
   "metadata": {},
   "outputs": [
    {
     "data": {
      "text/plain": [
       "array([[2, 3, 4],\n",
       "       [4, 5, 6],\n",
       "       [6, 7, 8]])"
      ]
     },
     "execution_count": 30,
     "metadata": {},
     "output_type": "execute_result"
    }
   ],
   "source": [
    "h"
   ]
  },
  {
   "cell_type": "code",
   "execution_count": 31,
   "id": "8a355c40-41d0-45c7-8804-ee82829e77b0",
   "metadata": {},
   "outputs": [
    {
     "data": {
      "text/plain": [
       "2"
      ]
     },
     "execution_count": 31,
     "metadata": {},
     "output_type": "execute_result"
    }
   ],
   "source": [
    "h.ndim"
   ]
  },
  {
   "cell_type": "markdown",
   "id": "512b87ae-9ce6-4ec7-9714-42bc967b4684",
   "metadata": {},
   "source": [
    "<a id=\"2\"></a> <br>\n",
    "# การสร้าง array 3 มิติ"
   ]
  },
  {
   "cell_type": "code",
   "execution_count": 32,
   "id": "ce961e2f-93c0-4ba2-95d9-de4326a3f556",
   "metadata": {},
   "outputs": [],
   "source": [
    "# สร้าง array โดยระบุสมาชิก(list)ลงไปเลย\n",
    "\n",
    "g = np.array([[[1,2,3],[4,5,6]]])"
   ]
  },
  {
   "cell_type": "code",
   "execution_count": 33,
   "id": "3dc6add4-c8bb-4a08-b532-bf3dc27cb5fe",
   "metadata": {},
   "outputs": [
    {
     "data": {
      "text/plain": [
       "array([[[1, 2, 3],\n",
       "        [4, 5, 6]]])"
      ]
     },
     "execution_count": 33,
     "metadata": {},
     "output_type": "execute_result"
    }
   ],
   "source": [
    "g"
   ]
  },
  {
   "cell_type": "code",
   "execution_count": 34,
   "id": "01410595-4dc5-4c57-b4f6-7c63f88908fd",
   "metadata": {},
   "outputs": [
    {
     "data": {
      "text/plain": [
       "3"
      ]
     },
     "execution_count": 34,
     "metadata": {},
     "output_type": "execute_result"
    }
   ],
   "source": [
    "g.ndim"
   ]
  },
  {
   "cell_type": "markdown",
   "id": "02e4de8c-5719-4389-b79a-03d20d0464ff",
   "metadata": {},
   "source": [
    "<a id=\"2\"></a> <br>\n",
    "# Understanding Data Types in Python"
   ]
  },
  {
   "cell_type": "code",
   "execution_count": 35,
   "id": "a41a3864-1180-4d9c-84ae-db3992ab704f",
   "metadata": {},
   "outputs": [
    {
     "data": {
      "text/plain": [
       "array(['1', '2', '3', '4'], dtype='<U1')"
      ]
     },
     "execution_count": 35,
     "metadata": {},
     "output_type": "execute_result"
    }
   ],
   "source": [
    "# เราสามารถสร้าง array โดยระบุ data type ได้\n",
    "\n",
    "np.array([1,2,3,4], dtype=\"str\")"
   ]
  },
  {
   "cell_type": "code",
   "execution_count": 36,
   "id": "965375fe-eb68-40ba-bc95-fc88b2c92b33",
   "metadata": {},
   "outputs": [
    {
     "data": {
      "text/plain": [
       "array([3., 6., 2., 3.], dtype=float32)"
      ]
     },
     "execution_count": 36,
     "metadata": {},
     "output_type": "execute_result"
    }
   ],
   "source": [
    "# เราสามารถสร้าง array โดยระบุ data type ได้\n",
    "\n",
    "np.array([3,6,2,3], dtype=\"float32\")"
   ]
  },
  {
   "cell_type": "markdown",
   "id": "6c4d24b6-f432-4156-9d8c-07dd2b64a3ed",
   "metadata": {},
   "source": [
    "<a id=\"3\"></a> <br>\n",
    "### Creating Arrays from Scratch"
   ]
  },
  {
   "cell_type": "markdown",
   "id": "460ac1d7-4830-40dd-b203-fd304f5a2590",
   "metadata": {},
   "source": [
    "<a id=\"3\"></a> <br>\n",
    "### การสร้าง array ที่มีสมาชิกเป็น 0"
   ]
  },
  {
   "cell_type": "code",
   "execution_count": 37,
   "id": "6d586745-3303-41d7-8e0a-26013c45a119",
   "metadata": {},
   "outputs": [
    {
     "data": {
      "text/plain": [
       "array([0., 0., 0., 0., 0.])"
      ]
     },
     "execution_count": 37,
     "metadata": {},
     "output_type": "execute_result"
    }
   ],
   "source": [
    "# Create a length-5 float array filled with zeros\n",
    "\n",
    "np.zeros(5) "
   ]
  },
  {
   "cell_type": "code",
   "execution_count": 38,
   "id": "3cda8daa-e95c-48e3-af53-34c37d568c94",
   "metadata": {},
   "outputs": [
    {
     "data": {
      "text/plain": [
       "array([0, 0, 0, 0, 0, 0, 0, 0, 0, 0])"
      ]
     },
     "execution_count": 38,
     "metadata": {},
     "output_type": "execute_result"
    }
   ],
   "source": [
    "# Create a length-10 integer array filled with zeros\n",
    "\n",
    "np.zeros(10, dtype=\"int\") "
   ]
  },
  {
   "cell_type": "code",
   "execution_count": 39,
   "id": "3a58014a-8ecd-43b8-b952-d136c5db44bf",
   "metadata": {},
   "outputs": [
    {
     "data": {
      "text/plain": [
       "array([[0., 0., 0., 0., 0., 0.],\n",
       "       [0., 0., 0., 0., 0., 0.],\n",
       "       [0., 0., 0., 0., 0., 0.],\n",
       "       [0., 0., 0., 0., 0., 0.],\n",
       "       [0., 0., 0., 0., 0., 0.]])"
      ]
     },
     "execution_count": 39,
     "metadata": {},
     "output_type": "execute_result"
    }
   ],
   "source": [
    "np.zeros((5,6))"
   ]
  },
  {
   "cell_type": "code",
   "execution_count": 40,
   "id": "c397a5ce-b0cb-4a56-a484-89b62c254c83",
   "metadata": {},
   "outputs": [
    {
     "data": {
      "text/plain": [
       "array([[0., 0., 0., 0., 0., 0.],\n",
       "       [0., 0., 0., 0., 0., 0.],\n",
       "       [0., 0., 0., 0., 0., 0.],\n",
       "       [0., 0., 0., 0., 0., 0.],\n",
       "       [0., 0., 0., 0., 0., 0.]])"
      ]
     },
     "execution_count": 40,
     "metadata": {},
     "output_type": "execute_result"
    }
   ],
   "source": [
    "np.zeros([5,6])"
   ]
  },
  {
   "cell_type": "code",
   "execution_count": 41,
   "id": "1deda26a-e203-452f-80dc-ccc4d5854ad2",
   "metadata": {},
   "outputs": [
    {
     "data": {
      "text/plain": [
       "array([[0., 0., 0., 0., 0., 0.],\n",
       "       [0., 0., 0., 0., 0., 0.],\n",
       "       [0., 0., 0., 0., 0., 0.],\n",
       "       [0., 0., 0., 0., 0., 0.],\n",
       "       [0., 0., 0., 0., 0., 0.]], dtype=float32)"
      ]
     },
     "execution_count": 41,
     "metadata": {},
     "output_type": "execute_result"
    }
   ],
   "source": [
    "np.zeros((5,6), dtype=\"float32\")"
   ]
  },
  {
   "cell_type": "code",
   "execution_count": 42,
   "id": "74386a54-c23b-488f-8939-16e60d355348",
   "metadata": {},
   "outputs": [
    {
     "data": {
      "text/plain": [
       "array([[0, 0, 0, 0, 0, 0],\n",
       "       [0, 0, 0, 0, 0, 0],\n",
       "       [0, 0, 0, 0, 0, 0],\n",
       "       [0, 0, 0, 0, 0, 0],\n",
       "       [0, 0, 0, 0, 0, 0]], dtype=int8)"
      ]
     },
     "execution_count": 42,
     "metadata": {},
     "output_type": "execute_result"
    }
   ],
   "source": [
    "np.zeros((5,6), dtype=\"int8\")"
   ]
  },
  {
   "cell_type": "markdown",
   "id": "65526a04-6a42-4b43-ad3a-4fd481b84529",
   "metadata": {},
   "source": [
    "<a id=\"3\"></a> <br>\n",
    "### การสร้าง array ที่มีสมาชิกเป็น 1"
   ]
  },
  {
   "cell_type": "code",
   "execution_count": 43,
   "id": "3f7cc137-7c61-40b7-b14d-b3f3ff02e035",
   "metadata": {},
   "outputs": [
    {
     "data": {
      "text/plain": [
       "array([1., 1., 1., 1., 1., 1., 1., 1., 1., 1.])"
      ]
     },
     "execution_count": 43,
     "metadata": {},
     "output_type": "execute_result"
    }
   ],
   "source": [
    "# Create a 10 floating-point array filled with 1s\n",
    "\n",
    "np.ones(10)"
   ]
  },
  {
   "cell_type": "code",
   "execution_count": 44,
   "id": "ab21df30-b15d-4667-bcf9-730cae5303e3",
   "metadata": {},
   "outputs": [
    {
     "data": {
      "text/plain": [
       "dtype('float64')"
      ]
     },
     "execution_count": 44,
     "metadata": {},
     "output_type": "execute_result"
    }
   ],
   "source": [
    "np.ones(10).dtype"
   ]
  },
  {
   "cell_type": "code",
   "execution_count": 45,
   "id": "03923787-67a2-47ff-83a0-971cf53ef539",
   "metadata": {},
   "outputs": [
    {
     "data": {
      "text/plain": [
       "array([[1., 1., 1., 1., 1.],\n",
       "       [1., 1., 1., 1., 1.],\n",
       "       [1., 1., 1., 1., 1.]])"
      ]
     },
     "execution_count": 45,
     "metadata": {},
     "output_type": "execute_result"
    }
   ],
   "source": [
    "np.ones((3,5))"
   ]
  },
  {
   "cell_type": "code",
   "execution_count": 46,
   "id": "94f075db-9258-4960-9b01-7cb64cfc12b0",
   "metadata": {},
   "outputs": [
    {
     "data": {
      "text/plain": [
       "array([[1, 1, 1, 1, 1],\n",
       "       [1, 1, 1, 1, 1],\n",
       "       [1, 1, 1, 1, 1]])"
      ]
     },
     "execution_count": 46,
     "metadata": {},
     "output_type": "execute_result"
    }
   ],
   "source": [
    "# Create a 3x5 integer array filled with 1s\n",
    "\n",
    "np.ones((3,5), dtype=\"int\")"
   ]
  },
  {
   "cell_type": "markdown",
   "id": "32828762-5f7a-47ed-a136-cc4dab59e077",
   "metadata": {},
   "source": [
    "<a id=\"3\"></a> <br>\n",
    "### การสร้าง array ที่มีสมาชิกเป็นค่าคงที่ใดๆ"
   ]
  },
  {
   "cell_type": "code",
   "execution_count": 47,
   "id": "4ecf3d25-b54a-472c-858f-562745200267",
   "metadata": {},
   "outputs": [
    {
     "data": {
      "text/plain": [
       "array([8, 8, 8, 8, 8, 8, 8, 8, 8, 8])"
      ]
     },
     "execution_count": 47,
     "metadata": {},
     "output_type": "execute_result"
    }
   ],
   "source": [
    "# Create a 10 array filled with 8\n",
    "\n",
    "np.full(10, 8)"
   ]
  },
  {
   "cell_type": "code",
   "execution_count": 48,
   "id": "1f4ccc30-276e-4ecb-9940-11c237b1339a",
   "metadata": {},
   "outputs": [
    {
     "data": {
      "text/plain": [
       "array([[3.14, 3.14, 3.14, 3.14, 3.14],\n",
       "       [3.14, 3.14, 3.14, 3.14, 3.14],\n",
       "       [3.14, 3.14, 3.14, 3.14, 3.14]])"
      ]
     },
     "execution_count": 48,
     "metadata": {},
     "output_type": "execute_result"
    }
   ],
   "source": [
    "# Create a 3x5 array filled with 3.14\n",
    "\n",
    "np.full((3,5), 3.14)"
   ]
  },
  {
   "cell_type": "code",
   "execution_count": 49,
   "id": "3d88536d-26e3-4b41-8644-978a0bea8272",
   "metadata": {},
   "outputs": [
    {
     "data": {
      "text/plain": [
       "array([[[9, 9],\n",
       "        [9, 9],\n",
       "        [9, 9],\n",
       "        [9, 9],\n",
       "        [9, 9]],\n",
       "\n",
       "       [[9, 9],\n",
       "        [9, 9],\n",
       "        [9, 9],\n",
       "        [9, 9],\n",
       "        [9, 9]],\n",
       "\n",
       "       [[9, 9],\n",
       "        [9, 9],\n",
       "        [9, 9],\n",
       "        [9, 9],\n",
       "        [9, 9]]])"
      ]
     },
     "execution_count": 49,
     "metadata": {},
     "output_type": "execute_result"
    }
   ],
   "source": [
    "np.full((3,5,2), 9)"
   ]
  },
  {
   "cell_type": "markdown",
   "id": "08bfa139-ad8a-4d3a-97e5-86049be3a3e7",
   "metadata": {},
   "source": [
    "<a id=\"2\"></a> <br>\n",
    "### การสร้าง empty array(อาเรย์เปล่า) \n",
    "จะทำการสุ่มค่าสมาชิกใน array (ใช้ในกรณีที่ต้องการสร้างแค่ขนาดของข้อมูลที่ต้องการโดยไม่สนใจสมาชิก)"
   ]
  },
  {
   "cell_type": "code",
   "execution_count": 50,
   "id": "da3e4ab1-8616-4c72-a4ff-0d5e229b6c21",
   "metadata": {},
   "outputs": [
    {
     "data": {
      "text/plain": [
       "array([8.4e-323, 8.9e-323, 9.4e-323])"
      ]
     },
     "execution_count": 50,
     "metadata": {},
     "output_type": "execute_result"
    }
   ],
   "source": [
    "np.empty(3)"
   ]
  },
  {
   "cell_type": "code",
   "execution_count": 51,
   "id": "8866ea5c-ca7c-4e4a-ae82-22f1a2fd637b",
   "metadata": {},
   "outputs": [
    {
     "data": {
      "text/plain": [
       "array([[0., 0., 0.],\n",
       "       [0., 0., 0.],\n",
       "       [0., 0., 0.],\n",
       "       [0., 0., 0.],\n",
       "       [0., 0., 0.],\n",
       "       [0., 0., 0.],\n",
       "       [0., 0., 0.],\n",
       "       [0., 0., 0.],\n",
       "       [0., 0., 0.],\n",
       "       [0., 0., 0.],\n",
       "       [0., 0., 0.],\n",
       "       [0., 0., 0.],\n",
       "       [0., 0., 0.],\n",
       "       [0., 0., 0.],\n",
       "       [0., 0., 0.]])"
      ]
     },
     "execution_count": 51,
     "metadata": {},
     "output_type": "execute_result"
    }
   ],
   "source": [
    "np.empty([15,3])"
   ]
  },
  {
   "cell_type": "code",
   "execution_count": 52,
   "id": "7298e216-69e2-4ed7-8d50-24e3ff7937e4",
   "metadata": {},
   "outputs": [
    {
     "data": {
      "text/plain": [
       "array([[[0., 0., 0., 0., 0., 0., 0.],\n",
       "        [0., 0., 0., 0., 0., 0., 0.],\n",
       "        [0., 0., 0., 0., 0., 0., 0.],\n",
       "        [0., 0., 0., 0., 0., 0., 0.],\n",
       "        [0., 0., 0., 0., 0., 0., 0.]],\n",
       "\n",
       "       [[0., 0., 0., 0., 0., 0., 0.],\n",
       "        [0., 0., 0., 0., 0., 0., 0.],\n",
       "        [0., 0., 0., 0., 0., 0., 0.],\n",
       "        [0., 0., 0., 0., 0., 0., 0.],\n",
       "        [0., 0., 0., 0., 0., 0., 0.]]])"
      ]
     },
     "execution_count": 52,
     "metadata": {},
     "output_type": "execute_result"
    }
   ],
   "source": [
    "np.empty([2,5,7])"
   ]
  },
  {
   "cell_type": "markdown",
   "id": "c662ce1d-7227-40b0-9fdc-ba2a6093f406",
   "metadata": {},
   "source": [
    "<a id=\"2\"></a> <br>\n",
    "### การสร้าง identity array"
   ]
  },
  {
   "cell_type": "code",
   "execution_count": 53,
   "id": "6d127976-affd-485d-8c95-3dda3f107165",
   "metadata": {},
   "outputs": [
    {
     "data": {
      "text/plain": [
       "array([[1., 0., 0., 0., 0.],\n",
       "       [0., 1., 0., 0., 0.],\n",
       "       [0., 0., 1., 0., 0.],\n",
       "       [0., 0., 0., 1., 0.],\n",
       "       [0., 0., 0., 0., 1.]])"
      ]
     },
     "execution_count": 53,
     "metadata": {},
     "output_type": "execute_result"
    }
   ],
   "source": [
    "# Create a 5x5 identity matrix\n",
    "\n",
    "np.identity(5)"
   ]
  },
  {
   "cell_type": "code",
   "execution_count": 54,
   "id": "742258e2-98d0-4247-ace5-e380a92a2e84",
   "metadata": {},
   "outputs": [
    {
     "data": {
      "text/plain": [
       "array([[1, 0, 0, 0, 0],\n",
       "       [0, 1, 0, 0, 0],\n",
       "       [0, 0, 1, 0, 0],\n",
       "       [0, 0, 0, 1, 0],\n",
       "       [0, 0, 0, 0, 1]])"
      ]
     },
     "execution_count": 54,
     "metadata": {},
     "output_type": "execute_result"
    }
   ],
   "source": [
    "# Create a 5x5 identity matrix\n",
    "\n",
    "np.identity(5, dtype='int')"
   ]
  },
  {
   "cell_type": "code",
   "execution_count": 55,
   "id": "d4a60a37-695c-436c-96bf-edf39083505a",
   "metadata": {},
   "outputs": [
    {
     "data": {
      "text/plain": [
       "array([[1., 0., 0., 0., 0.],\n",
       "       [0., 1., 0., 0., 0.],\n",
       "       [0., 0., 1., 0., 0.],\n",
       "       [0., 0., 0., 1., 0.],\n",
       "       [0., 0., 0., 0., 1.]])"
      ]
     },
     "execution_count": 55,
     "metadata": {},
     "output_type": "execute_result"
    }
   ],
   "source": [
    "# Create a 5x5 identity matrix\n",
    "\n",
    "np.eye(5)"
   ]
  },
  {
   "cell_type": "code",
   "execution_count": 56,
   "id": "e1e7880f-96f8-4e67-94f4-6ddd6d3de605",
   "metadata": {},
   "outputs": [
    {
     "data": {
      "text/plain": [
       "array([[1, 0, 0, 0, 0],\n",
       "       [0, 1, 0, 0, 0],\n",
       "       [0, 0, 1, 0, 0],\n",
       "       [0, 0, 0, 1, 0],\n",
       "       [0, 0, 0, 0, 1]])"
      ]
     },
     "execution_count": 56,
     "metadata": {},
     "output_type": "execute_result"
    }
   ],
   "source": [
    "np.eye(5, dtype='int')"
   ]
  },
  {
   "cell_type": "code",
   "execution_count": 57,
   "id": "a5c8dcf6-d351-44b7-aff1-79301060fa4c",
   "metadata": {},
   "outputs": [
    {
     "data": {
      "text/plain": [
       "array([[0., 1., 0., 0., 0.],\n",
       "       [0., 0., 1., 0., 0.],\n",
       "       [0., 0., 0., 1., 0.],\n",
       "       [0., 0., 0., 0., 1.],\n",
       "       [0., 0., 0., 0., 0.]])"
      ]
     },
     "execution_count": 57,
     "metadata": {},
     "output_type": "execute_result"
    }
   ],
   "source": [
    "np.eye(5, k=1)"
   ]
  },
  {
   "cell_type": "code",
   "execution_count": 58,
   "id": "2f30b1b1-3a13-41a6-a09d-3f75f2aa6af6",
   "metadata": {},
   "outputs": [
    {
     "data": {
      "text/plain": [
       "array([[0., 0., 0., 0., 0.],\n",
       "       [0., 0., 0., 0., 0.],\n",
       "       [1., 0., 0., 0., 0.],\n",
       "       [0., 1., 0., 0., 0.],\n",
       "       [0., 0., 1., 0., 0.]])"
      ]
     },
     "execution_count": 58,
     "metadata": {},
     "output_type": "execute_result"
    }
   ],
   "source": [
    "np.eye(5, k=-2)"
   ]
  },
  {
   "cell_type": "code",
   "execution_count": 59,
   "id": "242a1cde-810c-40b8-ab27-1d10fd34f10c",
   "metadata": {},
   "outputs": [
    {
     "data": {
      "text/plain": [
       "array([[1., 0., 0., 0.],\n",
       "       [0., 1., 0., 0.],\n",
       "       [0., 0., 1., 0.]])"
      ]
     },
     "execution_count": 59,
     "metadata": {},
     "output_type": "execute_result"
    }
   ],
   "source": [
    "np.eye(3,4)"
   ]
  },
  {
   "cell_type": "code",
   "execution_count": 60,
   "id": "52c451f6-0305-43bc-bc88-9e33a479d204",
   "metadata": {},
   "outputs": [
    {
     "data": {
      "text/plain": [
       "array([[0., 1., 0., 0.],\n",
       "       [0., 0., 1., 0.],\n",
       "       [0., 0., 0., 1.]])"
      ]
     },
     "execution_count": 60,
     "metadata": {},
     "output_type": "execute_result"
    }
   ],
   "source": [
    "np.eye(3,4,k=1)"
   ]
  },
  {
   "cell_type": "markdown",
   "id": "146e10c6-0da7-4415-979d-f06e1a9a89a6",
   "metadata": {},
   "source": [
    "<a id=\"2\"></a> <br>\n",
    "### การสร้าง array 1 มิติ โดยใช้คำสั่ง linspace"
   ]
  },
  {
   "cell_type": "code",
   "execution_count": 61,
   "id": "f0fd7805-84fe-419b-9c6b-ec49111d3748",
   "metadata": {},
   "outputs": [
    {
     "data": {
      "text/plain": [
       "array([ 0.        ,  0.52631579,  1.05263158,  1.57894737,  2.10526316,\n",
       "        2.63157895,  3.15789474,  3.68421053,  4.21052632,  4.73684211,\n",
       "        5.26315789,  5.78947368,  6.31578947,  6.84210526,  7.36842105,\n",
       "        7.89473684,  8.42105263,  8.94736842,  9.47368421, 10.        ])"
      ]
     },
     "execution_count": 61,
     "metadata": {},
     "output_type": "execute_result"
    }
   ],
   "source": [
    "# Create an array of five values evenly spaced between 0 and 10\n",
    "# np.linspace(start,stop,จำนวนที่ต้องการ)\n",
    "\n",
    "np.linspace(0, 10, 20)"
   ]
  },
  {
   "cell_type": "code",
   "execution_count": 62,
   "id": "66bedb49-c3f0-4b7b-8ec9-271b71d7df82",
   "metadata": {},
   "outputs": [
    {
     "data": {
      "text/plain": [
       "array([ 0.        ,  0.20408163,  0.40816327,  0.6122449 ,  0.81632653,\n",
       "        1.02040816,  1.2244898 ,  1.42857143,  1.63265306,  1.83673469,\n",
       "        2.04081633,  2.24489796,  2.44897959,  2.65306122,  2.85714286,\n",
       "        3.06122449,  3.26530612,  3.46938776,  3.67346939,  3.87755102,\n",
       "        4.08163265,  4.28571429,  4.48979592,  4.69387755,  4.89795918,\n",
       "        5.10204082,  5.30612245,  5.51020408,  5.71428571,  5.91836735,\n",
       "        6.12244898,  6.32653061,  6.53061224,  6.73469388,  6.93877551,\n",
       "        7.14285714,  7.34693878,  7.55102041,  7.75510204,  7.95918367,\n",
       "        8.16326531,  8.36734694,  8.57142857,  8.7755102 ,  8.97959184,\n",
       "        9.18367347,  9.3877551 ,  9.59183673,  9.79591837, 10.        ])"
      ]
     },
     "execution_count": 62,
     "metadata": {},
     "output_type": "execute_result"
    }
   ],
   "source": [
    "# np.linspace(start,stop)\n",
    "# ถ้าไม่ใส่จำนวนที่ต้องการค่าdefault=50\n",
    "\n",
    "np.linspace(0, 10)"
   ]
  },
  {
   "cell_type": "code",
   "execution_count": 63,
   "id": "7c5595a3-b950-4458-abf3-20d45959b2f8",
   "metadata": {},
   "outputs": [
    {
     "data": {
      "text/plain": [
       "array([0., 1., 2., 3., 4., 5., 6., 7., 8., 9.])"
      ]
     },
     "execution_count": 63,
     "metadata": {},
     "output_type": "execute_result"
    }
   ],
   "source": [
    "# np.linspace(start,stop,number)\n",
    "# ถ้าไม่ใส่จำนวนที่ต้องการค่าdefault=50\n",
    "# ถ้าไม่ต้องการค่า stopให้ใส่ endpoint=False\n",
    "\n",
    "np.linspace(0, 10,10, endpoint=False)"
   ]
  },
  {
   "cell_type": "markdown",
   "id": "f429061d-19a8-4141-bedb-106bd8182291",
   "metadata": {},
   "source": [
    "<a id=\"2\"></a> <br>\n",
    "### การสร้าง array 1 มิติ โดยใช้คำสั่ง arange"
   ]
  },
  {
   "cell_type": "code",
   "execution_count": 64,
   "id": "1b56ebc3-62c8-4c49-af13-692bdcff09ad",
   "metadata": {},
   "outputs": [
    {
     "data": {
      "text/plain": [
       "array([0, 2, 4, 6, 8])"
      ]
     },
     "execution_count": 64,
     "metadata": {},
     "output_type": "execute_result"
    }
   ],
   "source": [
    "# Create an array filled with a linear sequence\n",
    "# Starting at 0, ending at 20, stepping by 2\n",
    "# np.arange(start,stop,step)\n",
    "# (this is similar to the built-in range() function)\n",
    "\n",
    "np.arange(0, 10, 2)"
   ]
  },
  {
   "cell_type": "code",
   "execution_count": 65,
   "id": "1938eb95-fef1-426d-bc62-44e25c1cd1ad",
   "metadata": {},
   "outputs": [
    {
     "data": {
      "text/plain": [
       "array([0., 2., 4., 6., 8.])"
      ]
     },
     "execution_count": 65,
     "metadata": {},
     "output_type": "execute_result"
    }
   ],
   "source": [
    "np.arange(0, 10, 2, dtype='float')"
   ]
  },
  {
   "cell_type": "code",
   "execution_count": 66,
   "id": "2f1a0c3e-5c2d-467e-85fd-e0e73c41d4a0",
   "metadata": {},
   "outputs": [
    {
     "data": {
      "text/plain": [
       "array([0.+0.j, 2.+0.j, 4.+0.j, 6.+0.j, 8.+0.j])"
      ]
     },
     "execution_count": 66,
     "metadata": {},
     "output_type": "execute_result"
    }
   ],
   "source": [
    "np.arange(0, 10, 2, dtype='complex')"
   ]
  },
  {
   "cell_type": "code",
   "execution_count": 67,
   "id": "1feecbad-8e3e-49db-8356-e53233ec6844",
   "metadata": {},
   "outputs": [
    {
     "data": {
      "text/plain": [
       "array([-5, -4, -3, -2, -1,  0,  1,  2,  3,  4,  5,  6,  7,  8,  9])"
      ]
     },
     "execution_count": 67,
     "metadata": {},
     "output_type": "execute_result"
    }
   ],
   "source": [
    "# np.arange(start,stop)\n",
    "\n",
    "np.arange(-5, 10)"
   ]
  },
  {
   "cell_type": "code",
   "execution_count": 68,
   "id": "34006ae2-991e-4cbe-b375-e0ba8c6376fb",
   "metadata": {},
   "outputs": [
    {
     "data": {
      "text/plain": [
       "array([-5., -4., -3., -2., -1.,  0.,  1.,  2.,  3.,  4.,  5.,  6.,  7.,\n",
       "        8.,  9.])"
      ]
     },
     "execution_count": 68,
     "metadata": {},
     "output_type": "execute_result"
    }
   ],
   "source": [
    "# np.arange(start,stop)\n",
    "\n",
    "np.arange(-5, 10,dtype='float')"
   ]
  },
  {
   "cell_type": "code",
   "execution_count": 69,
   "id": "6bc59884-9a2f-4683-bb0a-596ccf62e228",
   "metadata": {},
   "outputs": [
    {
     "data": {
      "text/plain": [
       "array([0, 1, 2, 3, 4, 5, 6, 7])"
      ]
     },
     "execution_count": 69,
     "metadata": {},
     "output_type": "execute_result"
    }
   ],
   "source": [
    "# np.arange(stop)\n",
    "\n",
    "np.arange(8)"
   ]
  },
  {
   "cell_type": "markdown",
   "id": "2ef5d484-9972-4840-88d2-4a06ce14faa8",
   "metadata": {},
   "source": [
    "<a id=\"2\"></a> <br>\n",
    "### การสร้าง array โดยการสุ่มค่าตัวเลขใช้คำสั่ง random"
   ]
  },
  {
   "cell_type": "code",
   "execution_count": 70,
   "id": "5bc29e7c-7c3d-4a31-9758-f7173ae77404",
   "metadata": {},
   "outputs": [
    {
     "data": {
      "text/plain": [
       "array([[0.65808249, 0.73669105, 0.02741058],\n",
       "       [0.73585024, 0.30998174, 0.27841162],\n",
       "       [0.57849685, 0.34284511, 0.45238874]])"
      ]
     },
     "execution_count": 70,
     "metadata": {},
     "output_type": "execute_result"
    }
   ],
   "source": [
    "# Create a 3x3 array of uniformly distributed\n",
    "# random values between 0 and 1\n",
    "\n",
    "np.random.random((3,3))"
   ]
  },
  {
   "cell_type": "code",
   "execution_count": 71,
   "id": "f3428c72-7d09-47e7-b51f-1fdcb6b1cb85",
   "metadata": {},
   "outputs": [
    {
     "data": {
      "text/plain": [
       "array([[-0.51209784, -0.64508255,  1.82499505],\n",
       "       [-0.99096173,  0.00288769, -0.79933835],\n",
       "       [ 0.14120029,  0.01602678,  0.01535607]])"
      ]
     },
     "execution_count": 71,
     "metadata": {},
     "output_type": "execute_result"
    }
   ],
   "source": [
    "# Create a 3x3 array of normally distributed random values\n",
    "# with mean 0 and standard deviation 1\n",
    "\n",
    "np.random.normal(0, 1, (3,3))"
   ]
  },
  {
   "cell_type": "code",
   "execution_count": 72,
   "id": "842c9b48-3e59-4822-bf72-fe58b4ab73b9",
   "metadata": {},
   "outputs": [
    {
     "data": {
      "text/plain": [
       "array([[0, 0, 6],\n",
       "       [8, 0, 8],\n",
       "       [0, 2, 5]])"
      ]
     },
     "execution_count": 72,
     "metadata": {},
     "output_type": "execute_result"
    }
   ],
   "source": [
    "# Create a 3x3 array of random integers in the interval [0, 10)\n",
    "\n",
    "np.random.randint(0, 10, (3,3))"
   ]
  },
  {
   "cell_type": "code",
   "execution_count": 73,
   "id": "5c22e66a-bf4c-4686-a28d-f35168a2f708",
   "metadata": {},
   "outputs": [
    {
     "data": {
      "text/plain": [
       "array([94, 91, 92])"
      ]
     },
     "execution_count": 73,
     "metadata": {},
     "output_type": "execute_result"
    }
   ],
   "source": [
    "np.random.randint(90, 100, 3)"
   ]
  },
  {
   "cell_type": "markdown",
   "id": "cb24f98b-bbc3-4480-9e4e-6c2e54290ce3",
   "metadata": {},
   "source": [
    "<a id=\"4\"></a> <br>\n",
    "### NumPy Standard Data Types"
   ]
  },
  {
   "cell_type": "markdown",
   "id": "7d4b296f-878a-47a2-9859-355818098e9d",
   "metadata": {},
   "source": [
    "NumPy รองรับรูปแบบชนิดของข้อมูลที่หลากหลายมากกว่า Python\n",
    "\n",
    "ชนิดข้อมูลใน Python\n",
    "\n",
    "- strings — ใช้แสดงข้อมูลที่เป็น text, ตัวอักษร โดยข้อมูลเหล่านั้นจะต้องอยู่ข้างในเครื่องหมายคำพูด เช่น “ANN”\n",
    "- integer — ใช้แสดงข้อมูลข้อมูลที่เป็นจำนวนเต็ม(เป็นได้ทั้งเต็มลบและเต็มบวก) เช่น 1, 2, -4, -10\n",
    "- float — ใช้แสดงข้อมูลที่เป็นจำนวนจริง(จำนวนที่เป็นทศนิยม) เช่น 11.3, 2.4\n",
    "- boolean — ใช้แสดงข้อมูลที่เป็น “จริง” หรือ “เท็จ”\n",
    "- complex — ใช้แสดงจำนวนเชิงซ้อน เช่น 1.0 + 2.0j, 1.5 + 2.5j"
   ]
  },
  {
   "cell_type": "markdown",
   "id": "da3bc92a-8098-4bae-8b7e-55315f37c017",
   "metadata": {},
   "source": [
    "ชนิดข้อมูลใน NumPy\n",
    "\n",
    "- bool — ระบบจะใช้พื้นที่ในความจำไว้ 1 ไบต์ สำหรับเก็บค่า boolean\n",
    "\n",
    "- int_ — ค่าเริ่มต้นของข้อมูลชนิด int\n",
    "\n",
    "- intc — เหมือนกันกับ int ในภาษา C\n",
    "\n",
    "- intp — integer ที่ใช้ในการ indexing เปรียบได้กับ ssize_t\n",
    "\n",
    "- int8 — byte (เริ่มที่ -128 ไปถึง 127)\n",
    "\n",
    "- int16 — integer (เริ่มที่ -32768 ไปจนถึง 32767)\n",
    "\n",
    "- int32 — integer (เริ่มที่ -2147483648 ไปจนถึง 2147483647)\n",
    "\n",
    "- int64 — integer (เริ่มที่ -9223372036854775808 ไปจนถึง 922337203685477580)\n",
    "\n",
    "- uint8 — unsigned integer (0 – 255)\n",
    "\n",
    "- utint16 — unsigned integer (0 – 65535)\n",
    "\n",
    "- utint32 — unsigned integer (0 – 4294967295)\n",
    "\n",
    "- utint64 — unsigned integer (0 – 18446744073709551615)\n",
    "\n",
    "- float_ — เป็นการเขียน float64 แบบสั้น ตรงกับ float ใน builtin Python\n",
    "\n",
    "- float16 — ครึ่งหนึ่งของ float; บิตเครื่องหมาย, เลขยกกำลังได้ 5 บิต, แมนทิสซา ได้ 10 บิต\n",
    "\n",
    "- float32 — float หนึ่งตัว; บิตเครื่องหมาย, เลขยกกำลังได้ 8 บิต, แมนทิสซาได้ 23 บิต\n",
    "\n",
    "- float64 — ตรงกับ float ใน builtin Python; บิตเครื่องหมาย, เลขยกกำลังได้ 11 บิต, แมนทิสซาได้ 52 บิต\n",
    "\n",
    "- complex_ — เขียน complex128 แบบสั้น\n",
    "\n",
    "- complex64 — เลขเชิงซ้อน แสดงด้วย float 32 บิต 2 ตัว\n",
    "\n",
    "- complex128 — ตรงกับ complex ใน builtin Python แสดงด้วย float บิต"
   ]
  },
  {
   "cell_type": "markdown",
   "id": "e2b9a9d2-73ce-4da4-8a32-6f8604748078",
   "metadata": {},
   "source": [
    "<img src=\"np_dtype.png\" alt=\"cce\" border=\"0\">"
   ]
  },
  {
   "cell_type": "code",
   "execution_count": 74,
   "id": "f47b3f04-1dd3-4c5b-be13-abae4e7af585",
   "metadata": {},
   "outputs": [
    {
     "data": {
      "text/plain": [
       "array([[-4620584249995491141, -4619386430262192074,  4610897866202437203],\n",
       "       [-4616271027572021232,  4568804988641243445, -4617997017478485683],\n",
       "       [ 4594255296740822083,  4580276627232348887,  4580005795403285181]])"
      ]
     },
     "execution_count": 74,
     "metadata": {},
     "output_type": "execute_result"
    }
   ],
   "source": [
    "#Return a new array of given shape and type, with random values\n",
    "\n",
    "np.empty((3,3), dtype=\"int\")"
   ]
  },
  {
   "cell_type": "code",
   "execution_count": 75,
   "id": "27c9ed42-95d7-414e-aa1e-d4ed1915d197",
   "metadata": {},
   "outputs": [
    {
     "data": {
      "text/plain": [
       "array([0, 0, 0, 0, 0, 0, 0, 0, 0, 0], dtype=int16)"
      ]
     },
     "execution_count": 75,
     "metadata": {},
     "output_type": "execute_result"
    }
   ],
   "source": [
    "np.zeros(10, dtype=\"int16\")"
   ]
  },
  {
   "cell_type": "code",
   "execution_count": 76,
   "id": "88b32e79-84a1-4971-9708-d55e2536f266",
   "metadata": {},
   "outputs": [
    {
     "data": {
      "text/plain": [
       "array([0, 0, 0, 0, 0, 0, 0, 0, 0, 0], dtype=int16)"
      ]
     },
     "execution_count": 76,
     "metadata": {},
     "output_type": "execute_result"
    }
   ],
   "source": [
    "#or using the associated NumPy object:\n",
    "\n",
    "np.zeros(10, dtype=np.int16)"
   ]
  },
  {
   "cell_type": "code",
   "execution_count": 77,
   "id": "54a17cdb-e1d8-489f-b3c6-4d48b2c3b634",
   "metadata": {},
   "outputs": [
    {
     "name": "stdout",
     "output_type": "stream",
     "text": [
      "[-128]\n",
      "[127]\n"
     ]
    }
   ],
   "source": [
    "x = np.array([-128], dtype=np.int8)\n",
    "print(x)\n",
    "print(x-1)"
   ]
  },
  {
   "cell_type": "code",
   "execution_count": 78,
   "id": "9af5a194-c080-49e2-ad89-1fd5d93f8c27",
   "metadata": {},
   "outputs": [
    {
     "data": {
      "text/plain": [
       "iinfo(min=-128, max=127, dtype=int8)"
      ]
     },
     "execution_count": 78,
     "metadata": {},
     "output_type": "execute_result"
    }
   ],
   "source": [
    "np.iinfo(np.int8)"
   ]
  },
  {
   "cell_type": "code",
   "execution_count": 79,
   "id": "20e32696-5f6a-47ae-a881-b217a9843745",
   "metadata": {},
   "outputs": [
    {
     "data": {
      "text/plain": [
       "iinfo(min=-9223372036854775808, max=9223372036854775807, dtype=int64)"
      ]
     },
     "execution_count": 79,
     "metadata": {},
     "output_type": "execute_result"
    }
   ],
   "source": [
    "np.iinfo(np.int_)"
   ]
  },
  {
   "cell_type": "markdown",
   "id": "ee744fd4-930d-41ed-90a0-9ebe9ce82a11",
   "metadata": {},
   "source": [
    "<a id=\"5\"></a> <br>\n",
    "# The Basics of NumPy Arrays"
   ]
  },
  {
   "cell_type": "markdown",
   "id": "6140312f-b160-45f3-8b37-ba52b72fea9b",
   "metadata": {},
   "source": [
    "* **We’ll cover a few categories of basic array manipulations here:**\n",
    "* Attributes of arrays\n",
    "   * Determining the size, shape, memory consumption, and data types of arrays\n",
    "* Indexing of arrays\n",
    "   * Getting and setting the value of individual array elements\n",
    "* Slicing of arrays\n",
    "   * Getting and setting smaller subarrays within a larger array\n",
    "* Reshaping of arrays\n",
    "   * Changing the shape of a given array\n",
    "* Joining and splitting of arrays\n",
    "   * Combining multiple arrays into one, and splitting one array into many"
   ]
  },
  {
   "cell_type": "markdown",
   "id": "8e3a4963-37fb-42e4-ba02-0455b90d0ddb",
   "metadata": {},
   "source": [
    "<a id=\"6\"></a> <br>\n",
    "### NumPy Array Attributes"
   ]
  },
  {
   "cell_type": "code",
   "execution_count": 80,
   "id": "9f8f574b-dafa-4130-8f7f-c0652a4b77d9",
   "metadata": {},
   "outputs": [
    {
     "data": {
      "text/plain": [
       "array([5, 0, 3, 3, 7, 9])"
      ]
     },
     "execution_count": 80,
     "metadata": {},
     "output_type": "execute_result"
    }
   ],
   "source": [
    "#NumPy Array Attributes\n",
    "#We’ll use NumPy’s random number generator, which we will seed with a set value in order to ensure that the same random arrays are generated each time this code is run:\n",
    "\n",
    "np.random.seed(0) # seed for reproducibility\n",
    "x1 = np.random.randint(10, size=6) # One-dimensional array\n",
    "\n",
    "x1"
   ]
  },
  {
   "cell_type": "code",
   "execution_count": 81,
   "id": "61174496-6029-4c66-a91a-d3e3449ef9a6",
   "metadata": {},
   "outputs": [],
   "source": [
    "## Each array has attributes ndim (the number of dimensions), shape (the size of each dimension), and size (the total size of the array):\n",
    "\n",
    "np.random.seed(0) # seed for reproducibility\n",
    "x1 = np.random.randint(10, size=6) #it's same ((np.random.randint((0,10), size=6))) # One-dimensional array\n",
    "x2 = np.random.randint(10, size=(3,4)) # Two-dimensional array\n",
    "x3 = np.random.randint(10, size=(3,4,5)) # Three-dimensional array"
   ]
  },
  {
   "cell_type": "code",
   "execution_count": 82,
   "id": "f39b9100-5c8a-4848-b362-1b7caa1aed3e",
   "metadata": {},
   "outputs": [
    {
     "name": "stdout",
     "output_type": "stream",
     "text": [
      "[5 0 3 3 7 9]\n"
     ]
    }
   ],
   "source": [
    "print(x1)"
   ]
  },
  {
   "cell_type": "code",
   "execution_count": 83,
   "id": "c02999c3-9d56-4065-aadf-4e9f0cf2efee",
   "metadata": {},
   "outputs": [
    {
     "name": "stdout",
     "output_type": "stream",
     "text": [
      "[[3 5 2 4]\n",
      " [7 6 8 8]\n",
      " [1 6 7 7]]\n"
     ]
    }
   ],
   "source": [
    "print(x2)"
   ]
  },
  {
   "cell_type": "code",
   "execution_count": 84,
   "id": "1f0e70f4-3170-4a08-a10b-400ac6375fc7",
   "metadata": {},
   "outputs": [
    {
     "name": "stdout",
     "output_type": "stream",
     "text": [
      "[[[8 1 5 9 8]\n",
      "  [9 4 3 0 3]\n",
      "  [5 0 2 3 8]\n",
      "  [1 3 3 3 7]]\n",
      "\n",
      " [[0 1 9 9 0]\n",
      "  [4 7 3 2 7]\n",
      "  [2 0 0 4 5]\n",
      "  [5 6 8 4 1]]\n",
      "\n",
      " [[4 9 8 1 1]\n",
      "  [7 9 9 3 6]\n",
      "  [7 2 0 3 5]\n",
      "  [9 4 4 6 4]]]\n"
     ]
    }
   ],
   "source": [
    "print(x3)"
   ]
  },
  {
   "cell_type": "code",
   "execution_count": 85,
   "id": "fb4b9c08-8c64-4d98-953b-91a522f8be8b",
   "metadata": {},
   "outputs": [
    {
     "name": "stdout",
     "output_type": "stream",
     "text": [
      "[5 0 3 3 7 9]\n",
      "x1 ndim:  1\n",
      "x1 shape:  (6,)\n",
      "x1 size:  6\n",
      "dtype:  int64\n",
      "itemsize: 8 bytes\n",
      "nbytes: 48 bytes\n"
     ]
    }
   ],
   "source": [
    "print(x1)\n",
    "\n",
    "print(\"x1 ndim: \",x1.ndim)\n",
    "print(\"x1 shape: \",x1.shape)\n",
    "print(\"x1 size: \",x1.size) #totaly,6 elements\n",
    "\n",
    "print(\"dtype: \",x1.dtype) #the data type of the array\n",
    "# Other attributes include itemsize, which lists the size (in bytes) of each array element,\n",
    "# and nbytes, which lists the total size (in bytes) of the array:\n",
    "print(\"itemsize:\",x1.itemsize,\"bytes\")\n",
    "print(\"nbytes:\",x1.nbytes,\"bytes\")"
   ]
  },
  {
   "cell_type": "code",
   "execution_count": 86,
   "id": "c01bd914-0aa3-4b29-9a57-476853298744",
   "metadata": {},
   "outputs": [
    {
     "name": "stdout",
     "output_type": "stream",
     "text": [
      "[[3 5 2 4]\n",
      " [7 6 8 8]\n",
      " [1 6 7 7]]\n",
      "x2 ndim:  2\n",
      "x2 shape:  (3, 4)\n",
      "x2 size:  12\n",
      "dtype:  int64\n",
      "itemsize: 8 bytes\n",
      "nbytes: 96 bytes\n"
     ]
    }
   ],
   "source": [
    "print(x2)\n",
    "\n",
    "print(\"x2 ndim: \",x2.ndim)\n",
    "print(\"x2 shape: \",x2.shape)\n",
    "print(\"x2 size: \",x2.size) #totaly,12 elements\n",
    "\n",
    "print(\"dtype: \",x2.dtype) #the data type of the array\n",
    "print(\"itemsize:\",x2.itemsize,\"bytes\")\n",
    "print(\"nbytes:\",x2.nbytes,\"bytes\")"
   ]
  },
  {
   "cell_type": "code",
   "execution_count": 87,
   "id": "a357c518-0210-45e8-a1dc-76c1610b8bc0",
   "metadata": {},
   "outputs": [
    {
     "name": "stdout",
     "output_type": "stream",
     "text": [
      "[[[8 1 5 9 8]\n",
      "  [9 4 3 0 3]\n",
      "  [5 0 2 3 8]\n",
      "  [1 3 3 3 7]]\n",
      "\n",
      " [[0 1 9 9 0]\n",
      "  [4 7 3 2 7]\n",
      "  [2 0 0 4 5]\n",
      "  [5 6 8 4 1]]\n",
      "\n",
      " [[4 9 8 1 1]\n",
      "  [7 9 9 3 6]\n",
      "  [7 2 0 3 5]\n",
      "  [9 4 4 6 4]]]\n",
      "x3 ndim:  3\n",
      "x3 shape:  (3, 4, 5)\n",
      "x3 size:  60\n",
      "dtype:  int64\n",
      "itemsize: 8 bytes\n",
      "nbytes: 480 bytes\n"
     ]
    }
   ],
   "source": [
    "print(x3)\n",
    "\n",
    "print(\"x3 ndim: \",x3.ndim)\n",
    "print(\"x3 shape: \",x3.shape)\n",
    "print(\"x3 size: \",x3.size)#totaly,60 elements\n",
    "\n",
    "print(\"dtype: \",x3.dtype) #the data type of the array\n",
    "print(\"itemsize:\",x3.itemsize,\"bytes\")\n",
    "print(\"nbytes:\",x3.nbytes,\"bytes\") "
   ]
  },
  {
   "cell_type": "markdown",
   "id": "ce531e1a-60d4-4694-b8bb-1813a41b6661",
   "metadata": {},
   "source": [
    "<a id=\"7\"></a> <br>\n",
    "### Array Indexing: Accessing Single Elements"
   ]
  },
  {
   "cell_type": "markdown",
   "id": "c303efe6-4ab7-45ba-b8d5-658876370a73",
   "metadata": {},
   "source": [
    "* If you are familiar with Python’s standard list indexing, indexing in NumPy will feel\n",
    "quite familiar. In a one-dimensional array, you can access the ith value (counting from\n",
    "zero) by specifying the desired index in square brackets, just as with Python lists:"
   ]
  },
  {
   "cell_type": "code",
   "execution_count": 88,
   "id": "09d7e3b4-49d7-4331-8bbc-3f77c0eb4771",
   "metadata": {},
   "outputs": [
    {
     "data": {
      "text/plain": [
       "array([5, 0, 3, 3, 7, 9])"
      ]
     },
     "execution_count": 88,
     "metadata": {},
     "output_type": "execute_result"
    }
   ],
   "source": [
    "x1"
   ]
  },
  {
   "cell_type": "code",
   "execution_count": 89,
   "id": "4ed305a6-5bc3-43c5-b4ce-fa3ab67645c0",
   "metadata": {},
   "outputs": [
    {
     "data": {
      "text/plain": [
       "5"
      ]
     },
     "execution_count": 89,
     "metadata": {},
     "output_type": "execute_result"
    }
   ],
   "source": [
    "x1[0]"
   ]
  },
  {
   "cell_type": "code",
   "execution_count": 90,
   "id": "b3c9505b-199b-4f97-86bb-421eacf48a29",
   "metadata": {},
   "outputs": [
    {
     "data": {
      "text/plain": [
       "7"
      ]
     },
     "execution_count": 90,
     "metadata": {},
     "output_type": "execute_result"
    }
   ],
   "source": [
    "x1[4]"
   ]
  },
  {
   "cell_type": "code",
   "execution_count": 91,
   "id": "561b062d-7347-4955-94f0-d481c2ff11a6",
   "metadata": {},
   "outputs": [
    {
     "data": {
      "text/plain": [
       "9"
      ]
     },
     "execution_count": 91,
     "metadata": {},
     "output_type": "execute_result"
    }
   ],
   "source": [
    "#To index from the end of the array, you can use negative indices:\n",
    "\n",
    "x1[-1]"
   ]
  },
  {
   "cell_type": "code",
   "execution_count": 92,
   "id": "4517876a-0bee-4e4f-9277-f786b2f948af",
   "metadata": {},
   "outputs": [
    {
     "data": {
      "text/plain": [
       "7"
      ]
     },
     "execution_count": 92,
     "metadata": {},
     "output_type": "execute_result"
    }
   ],
   "source": [
    "x1[-2]"
   ]
  },
  {
   "cell_type": "markdown",
   "id": "376a5868-76ef-44d3-8f1c-ea6379cb1285",
   "metadata": {},
   "source": [
    "* In a multidimensional array, you access items using a comma-separated tuple of indices:"
   ]
  },
  {
   "cell_type": "code",
   "execution_count": 93,
   "id": "d1d76383-844a-4093-877b-47fcc84d246a",
   "metadata": {},
   "outputs": [
    {
     "data": {
      "text/plain": [
       "array([[3, 5, 2, 4],\n",
       "       [7, 6, 8, 8],\n",
       "       [1, 6, 7, 7]])"
      ]
     },
     "execution_count": 93,
     "metadata": {},
     "output_type": "execute_result"
    }
   ],
   "source": [
    "x2"
   ]
  },
  {
   "cell_type": "code",
   "execution_count": 94,
   "id": "041523cd-a1e3-440a-9d1c-6584297ca20f",
   "metadata": {},
   "outputs": [
    {
     "data": {
      "text/plain": [
       "6"
      ]
     },
     "execution_count": 94,
     "metadata": {},
     "output_type": "execute_result"
    }
   ],
   "source": [
    "x2[2,1]"
   ]
  },
  {
   "cell_type": "code",
   "execution_count": 95,
   "id": "8030effc-01cb-4807-86ba-13f67cde5603",
   "metadata": {},
   "outputs": [
    {
     "data": {
      "text/plain": [
       "1"
      ]
     },
     "execution_count": 95,
     "metadata": {},
     "output_type": "execute_result"
    }
   ],
   "source": [
    "x2[2,0]"
   ]
  },
  {
   "cell_type": "code",
   "execution_count": 96,
   "id": "6faba79b-4775-49aa-8aed-decb98ba8c64",
   "metadata": {},
   "outputs": [
    {
     "data": {
      "text/plain": [
       "1"
      ]
     },
     "execution_count": 96,
     "metadata": {},
     "output_type": "execute_result"
    }
   ],
   "source": [
    "x2[2,-4]"
   ]
  },
  {
   "cell_type": "code",
   "execution_count": 97,
   "id": "ce6415e3-6f1a-4d3e-9a0f-d047d7c3a747",
   "metadata": {},
   "outputs": [
    {
     "data": {
      "text/plain": [
       "6"
      ]
     },
     "execution_count": 97,
     "metadata": {},
     "output_type": "execute_result"
    }
   ],
   "source": [
    "x2[-2,-3]"
   ]
  },
  {
   "cell_type": "code",
   "execution_count": 98,
   "id": "e1ab498e-a1e6-4eb8-9f01-2c3b0db96823",
   "metadata": {},
   "outputs": [
    {
     "data": {
      "text/plain": [
       "2"
      ]
     },
     "execution_count": 98,
     "metadata": {},
     "output_type": "execute_result"
    }
   ],
   "source": [
    "x2[-3,-2]"
   ]
  },
  {
   "cell_type": "code",
   "execution_count": 99,
   "id": "cde58657-92e9-4534-820b-4a16110577f5",
   "metadata": {},
   "outputs": [
    {
     "data": {
      "text/plain": [
       "array([[12,  5,  2,  4],\n",
       "       [ 7,  6,  8,  8],\n",
       "       [ 1,  6,  7,  7]])"
      ]
     },
     "execution_count": 99,
     "metadata": {},
     "output_type": "execute_result"
    }
   ],
   "source": [
    "#You can also modify values using any of the above index notation:\n",
    "\n",
    "x2[0,0]=12\n",
    "x2"
   ]
  },
  {
   "cell_type": "code",
   "execution_count": 100,
   "id": "b5e50ea0-7d2b-43ff-9df1-b993401f209c",
   "metadata": {},
   "outputs": [
    {
     "data": {
      "text/plain": [
       "array([5, 0, 3, 3, 7, 9])"
      ]
     },
     "execution_count": 100,
     "metadata": {},
     "output_type": "execute_result"
    }
   ],
   "source": [
    "x1"
   ]
  },
  {
   "cell_type": "code",
   "execution_count": 101,
   "id": "59176a61-7ca7-4237-8fa0-b85f72d7f3fa",
   "metadata": {},
   "outputs": [
    {
     "data": {
      "text/plain": [
       "array([3, 0, 3, 3, 7, 9])"
      ]
     },
     "execution_count": 101,
     "metadata": {},
     "output_type": "execute_result"
    }
   ],
   "source": [
    "x1[0] = 3.14159 # this will be truncated!\n",
    "x1"
   ]
  },
  {
   "cell_type": "markdown",
   "id": "bd491c75-0512-4bee-88bd-ecf891f2017e",
   "metadata": {},
   "source": [
    "<a id=\"8\"></a> <br>\n",
    "### Array Slicing: Accessing Subarrays"
   ]
  },
  {
   "cell_type": "markdown",
   "id": "8abe4f04-be2e-446a-8d41-9f915bc998f7",
   "metadata": {},
   "source": [
    "* Just as we can use square brackets to access individual array elements, we can also use\n",
    "them to access subarrays with the slice notation, marked by the colon (:) character.\n",
    "The NumPy slicing syntax follows that of the standard Python list; to access a slice of\n",
    "an array x, use this:\n",
    "* x[start:stop:step]\n",
    "* If any of these are unspecified, they default to the values start=0, stop=size of\n",
    "dimension, step=1. We’ll take a look at accessing subarrays in one dimension and in\n",
    "multiple dimensions."
   ]
  },
  {
   "cell_type": "markdown",
   "id": "20edd634-0575-43fc-8c83-21116929b9b3",
   "metadata": {},
   "source": [
    "<a id=\"43\"></a> <br>\n",
    "#### One-dimensional subarrays"
   ]
  },
  {
   "cell_type": "code",
   "execution_count": 102,
   "id": "f871cc77-ed2b-4da2-9e4b-ff5c83be71ab",
   "metadata": {},
   "outputs": [
    {
     "data": {
      "text/plain": [
       "array([0, 1, 2, 3, 4, 5, 6, 7, 8, 9])"
      ]
     },
     "execution_count": 102,
     "metadata": {},
     "output_type": "execute_result"
    }
   ],
   "source": [
    "x = np.arange(10)\n",
    "x"
   ]
  },
  {
   "cell_type": "code",
   "execution_count": 103,
   "id": "8a9e1a86-34dc-441c-97e2-bcf7b161f8b5",
   "metadata": {},
   "outputs": [
    {
     "data": {
      "text/plain": [
       "array([0, 1, 2, 3, 4])"
      ]
     },
     "execution_count": 103,
     "metadata": {},
     "output_type": "execute_result"
    }
   ],
   "source": [
    "x[:5] # first five elements"
   ]
  },
  {
   "cell_type": "code",
   "execution_count": 104,
   "id": "e87455a4-48de-4bd0-a225-01f1c3c4eacf",
   "metadata": {},
   "outputs": [
    {
     "data": {
      "text/plain": [
       "array([5, 6, 7, 8, 9])"
      ]
     },
     "execution_count": 104,
     "metadata": {},
     "output_type": "execute_result"
    }
   ],
   "source": [
    "x[5:] # elements after index 5"
   ]
  },
  {
   "cell_type": "code",
   "execution_count": 105,
   "id": "9689d860-d8fe-4dca-96fb-7e39594b0a49",
   "metadata": {},
   "outputs": [
    {
     "data": {
      "text/plain": [
       "array([4, 5, 6])"
      ]
     },
     "execution_count": 105,
     "metadata": {},
     "output_type": "execute_result"
    }
   ],
   "source": [
    "x[4:7]# middle subarray"
   ]
  },
  {
   "cell_type": "code",
   "execution_count": 106,
   "id": "6dda5ee0-7676-4850-a4df-48b3ced9b748",
   "metadata": {},
   "outputs": [
    {
     "data": {
      "text/plain": [
       "array([0, 2, 4, 6, 8])"
      ]
     },
     "execution_count": 106,
     "metadata": {},
     "output_type": "execute_result"
    }
   ],
   "source": [
    "x[::2] # every other element"
   ]
  },
  {
   "cell_type": "code",
   "execution_count": 107,
   "id": "5fe14fd4-fb85-40be-9921-e09e895285ce",
   "metadata": {},
   "outputs": [
    {
     "data": {
      "text/plain": [
       "array([1, 3, 5, 7, 9])"
      ]
     },
     "execution_count": 107,
     "metadata": {},
     "output_type": "execute_result"
    }
   ],
   "source": [
    "x[1::2] #every other element, starting at index 1"
   ]
  },
  {
   "cell_type": "code",
   "execution_count": 108,
   "id": "1c38cb74-9d21-4e79-8250-3e1bab7eb88b",
   "metadata": {},
   "outputs": [
    {
     "data": {
      "text/plain": [
       "array([3, 5, 7])"
      ]
     },
     "execution_count": 108,
     "metadata": {},
     "output_type": "execute_result"
    }
   ],
   "source": [
    "x[-7:-2:2]"
   ]
  },
  {
   "cell_type": "code",
   "execution_count": 109,
   "id": "3aef402d-99e6-436f-b8f7-5892b15df4dc",
   "metadata": {},
   "outputs": [
    {
     "data": {
      "text/plain": [
       "array([6, 7])"
      ]
     },
     "execution_count": 109,
     "metadata": {},
     "output_type": "execute_result"
    }
   ],
   "source": [
    "x[-4:-2:1]"
   ]
  },
  {
   "cell_type": "code",
   "execution_count": 110,
   "id": "ffa0a8c5-b776-46ee-ae5e-dbbe4b54878b",
   "metadata": {},
   "outputs": [
    {
     "data": {
      "text/plain": [
       "array([9, 7, 5, 3, 1])"
      ]
     },
     "execution_count": 110,
     "metadata": {},
     "output_type": "execute_result"
    }
   ],
   "source": [
    "# A potentially confusing case is when the step value is negative. In this case, the\n",
    "# defaults for start and stop are swapped. This becomes a convenient way to reverse\n",
    "# an array:\n",
    "\n",
    "x[::-2] # all elements, reversed"
   ]
  },
  {
   "cell_type": "code",
   "execution_count": 111,
   "id": "eaed778c-4771-4fd2-a42c-4ad42bc03d76",
   "metadata": {},
   "outputs": [
    {
     "data": {
      "text/plain": [
       "array([5, 3, 1])"
      ]
     },
     "execution_count": 111,
     "metadata": {},
     "output_type": "execute_result"
    }
   ],
   "source": [
    "x[5::-2]# reversed every other from index 5"
   ]
  },
  {
   "cell_type": "code",
   "execution_count": 112,
   "id": "52573dba-d602-4c07-b083-024a2f7ff78a",
   "metadata": {},
   "outputs": [
    {
     "data": {
      "text/plain": [
       "array([5, 3])"
      ]
     },
     "execution_count": 112,
     "metadata": {},
     "output_type": "execute_result"
    }
   ],
   "source": [
    "x[5:1:-2]"
   ]
  },
  {
   "cell_type": "code",
   "execution_count": 113,
   "id": "4ae83732-01b5-4529-af8e-0e600a16d979",
   "metadata": {},
   "outputs": [
    {
     "data": {
      "text/plain": [
       "array([5, 4, 3])"
      ]
     },
     "execution_count": 113,
     "metadata": {},
     "output_type": "execute_result"
    }
   ],
   "source": [
    "x[5:-8:-1]"
   ]
  },
  {
   "cell_type": "code",
   "execution_count": 114,
   "id": "292c1fff-1c93-4e5e-9e10-903ea6ca3047",
   "metadata": {},
   "outputs": [
    {
     "data": {
      "text/plain": [
       "array([7, 6, 5])"
      ]
     },
     "execution_count": 114,
     "metadata": {},
     "output_type": "execute_result"
    }
   ],
   "source": [
    "x[7:-6:-1]"
   ]
  },
  {
   "cell_type": "code",
   "execution_count": 115,
   "id": "2bd5c6ef-9830-445d-a25f-763ffe43e80d",
   "metadata": {},
   "outputs": [
    {
     "data": {
      "text/plain": [
       "array([3])"
      ]
     },
     "execution_count": 115,
     "metadata": {},
     "output_type": "execute_result"
    }
   ],
   "source": [
    "x[-7:-8:-1]"
   ]
  },
  {
   "cell_type": "code",
   "execution_count": 116,
   "id": "920a75f1-d58e-4c4c-8087-19ec965f423f",
   "metadata": {},
   "outputs": [
    {
     "data": {
      "text/plain": [
       "array([], dtype=int64)"
      ]
     },
     "execution_count": 116,
     "metadata": {},
     "output_type": "execute_result"
    }
   ],
   "source": [
    "x[5:8:-1]"
   ]
  },
  {
   "cell_type": "markdown",
   "id": "4a74f1cc-ca9f-4825-b9a0-2c1c36b53239",
   "metadata": {},
   "source": [
    "<a id=\"44\"></a> <br>\n",
    "#### Multidimensional subarrays"
   ]
  },
  {
   "cell_type": "code",
   "execution_count": 117,
   "id": "7d2c6af2-41b9-46ac-bd89-807c58b19201",
   "metadata": {},
   "outputs": [
    {
     "data": {
      "text/plain": [
       "array([[12,  5,  2,  4],\n",
       "       [ 7,  6,  8,  8],\n",
       "       [ 1,  6,  7,  7]])"
      ]
     },
     "execution_count": 117,
     "metadata": {},
     "output_type": "execute_result"
    }
   ],
   "source": [
    "# Multidimensional slices work in the same way, with multiple slices separated by commas.\n",
    "# For example:\n",
    "\n",
    "x2"
   ]
  },
  {
   "cell_type": "code",
   "execution_count": 118,
   "id": "cd3f484d-5c29-4718-95ed-a6e745a9361e",
   "metadata": {},
   "outputs": [
    {
     "data": {
      "text/plain": [
       "array([[12,  5,  2],\n",
       "       [ 7,  6,  8]])"
      ]
     },
     "execution_count": 118,
     "metadata": {},
     "output_type": "execute_result"
    }
   ],
   "source": [
    "# two rows, three columns\n",
    "\n",
    "x2[:2, :3]"
   ]
  },
  {
   "cell_type": "code",
   "execution_count": 119,
   "id": "947eb130-0314-4227-89b8-b5574595f1d1",
   "metadata": {},
   "outputs": [
    {
     "data": {
      "text/plain": [
       "array([[12,  2],\n",
       "       [ 7,  8],\n",
       "       [ 1,  7]])"
      ]
     },
     "execution_count": 119,
     "metadata": {},
     "output_type": "execute_result"
    }
   ],
   "source": [
    "# all rows, every other column\n",
    "\n",
    "x2[:3,::2]"
   ]
  },
  {
   "cell_type": "code",
   "execution_count": 120,
   "id": "0892b8fb-dfcc-42f4-80e7-77479d29411a",
   "metadata": {},
   "outputs": [
    {
     "data": {
      "text/plain": [
       "array([[ 7,  7,  6,  1],\n",
       "       [ 8,  8,  6,  7],\n",
       "       [ 4,  2,  5, 12]])"
      ]
     },
     "execution_count": 120,
     "metadata": {},
     "output_type": "execute_result"
    }
   ],
   "source": [
    "#Finally, subarray dimensions can even be reversed together:\n",
    "\n",
    "x2[::-1,::-1]"
   ]
  },
  {
   "cell_type": "code",
   "execution_count": 121,
   "id": "3b2119a7-c81f-4a8d-97e5-2bce677f1529",
   "metadata": {},
   "outputs": [
    {
     "name": "stdout",
     "output_type": "stream",
     "text": [
      "[12  7  1]\n"
     ]
    }
   ],
   "source": [
    "# One commonly needed routine is accessing single\n",
    "# rows or columns of an array. You can do this by combining indexing and slicing,\n",
    "# using an empty slice marked by a single colon (:):\n",
    "\n",
    "print(x2[:, 0]) # first column of x2"
   ]
  },
  {
   "cell_type": "code",
   "execution_count": 122,
   "id": "fd765af7-73bf-418b-b6dd-9c04edc00345",
   "metadata": {},
   "outputs": [
    {
     "name": "stdout",
     "output_type": "stream",
     "text": [
      "[12  5  2  4]\n"
     ]
    }
   ],
   "source": [
    "print(x2[0,:]) # first row of x2"
   ]
  },
  {
   "cell_type": "code",
   "execution_count": 123,
   "id": "fffb7fd3-265b-4363-8f91-8e5ee4935160",
   "metadata": {},
   "outputs": [
    {
     "name": "stdout",
     "output_type": "stream",
     "text": [
      "[12  5  2  4]\n"
     ]
    }
   ],
   "source": [
    "#In the case of row access, the empty slice can be omitted for a more compact syntax:\n",
    "\n",
    "print(x2[0]) # equivalent to x2[0, :]"
   ]
  },
  {
   "cell_type": "markdown",
   "id": "26c48022-16d6-44ef-a8ab-dfb081b41ff5",
   "metadata": {},
   "source": [
    "<a id=\"46\"></a> <br>\n",
    "#### Subarrays as no-copy views"
   ]
  },
  {
   "cell_type": "markdown",
   "id": "c819b0ba-df0a-4a1a-92ae-1df2801ecc35",
   "metadata": {},
   "source": [
    "* One important—and extremely useful—thing to know about array slices is that they\n",
    "return views rather than copies of the array data. This is one area in which NumPy\n",
    "array slicing differs from Python list slicing: in lists, slices will be copies. Consider our\n",
    "two-dimensional array from before:"
   ]
  },
  {
   "cell_type": "code",
   "execution_count": 124,
   "id": "a4b804dc-af3b-4110-a933-ab5717b0f0c2",
   "metadata": {},
   "outputs": [
    {
     "name": "stdout",
     "output_type": "stream",
     "text": [
      "[[12  5  2  4]\n",
      " [ 7  6  8  8]\n",
      " [ 1  6  7  7]]\n"
     ]
    }
   ],
   "source": [
    "print(x2)"
   ]
  },
  {
   "cell_type": "code",
   "execution_count": 125,
   "id": "dfea20d0-54c9-42cb-9c72-428b15fd7d00",
   "metadata": {},
   "outputs": [
    {
     "name": "stdout",
     "output_type": "stream",
     "text": [
      "[[12  5]\n",
      " [ 7  6]]\n"
     ]
    }
   ],
   "source": [
    "#Let’s extract a 2×2 subarray from this:\n",
    "\n",
    "x2_sub = x2[:2,:2]\n",
    "print(x2_sub)"
   ]
  },
  {
   "cell_type": "code",
   "execution_count": 126,
   "id": "80edf8a0-c61f-4ebb-b1e4-73f776f84bee",
   "metadata": {},
   "outputs": [
    {
     "name": "stdout",
     "output_type": "stream",
     "text": [
      "[[99  5]\n",
      " [ 7  6]]\n"
     ]
    }
   ],
   "source": [
    "#Now if we modify this subarray, we’ll see that the original array is changed! Observe:\n",
    "\n",
    "x2_sub[0,0] = 99\n",
    "print(x2_sub)"
   ]
  },
  {
   "cell_type": "code",
   "execution_count": 127,
   "id": "2322f146-6af0-47cb-a157-f8c7f8c97cdc",
   "metadata": {},
   "outputs": [
    {
     "name": "stdout",
     "output_type": "stream",
     "text": [
      "[[99  5  2  4]\n",
      " [ 7  6  8  8]\n",
      " [ 1  6  7  7]]\n"
     ]
    }
   ],
   "source": [
    "print(x2)"
   ]
  },
  {
   "cell_type": "markdown",
   "id": "fa4dccc8-495b-40d6-acbe-042895b50f46",
   "metadata": {},
   "source": [
    "* This default behavior is actually quite useful: it means that when we work with large\n",
    "datasets, we can access and process pieces of these datasets without the need to copy\n",
    "the underlying data buffer."
   ]
  },
  {
   "cell_type": "markdown",
   "id": "06352c3f-7573-46bd-bc6c-e6140e6406eb",
   "metadata": {},
   "source": [
    "<a id=\"47\"></a> <br>\n",
    "#### Creating copies of arrays"
   ]
  },
  {
   "cell_type": "markdown",
   "id": "83bd94dc-1d5e-432e-951e-feedc5120bed",
   "metadata": {},
   "source": [
    "* Despite the nice features of array views, it is sometimes useful to instead explicitly\n",
    "copy the data within an array or a subarray. This can be most easily done with the\n",
    "copy() method:"
   ]
  },
  {
   "cell_type": "code",
   "execution_count": 128,
   "id": "82d41180-f7aa-40e3-a38b-0b12094c13f7",
   "metadata": {},
   "outputs": [
    {
     "name": "stdout",
     "output_type": "stream",
     "text": [
      "[[99  5]\n",
      " [ 7  6]]\n"
     ]
    }
   ],
   "source": [
    "x2_sub_copy = x2[:2,:2].copy()\n",
    "print(x2_sub_copy)"
   ]
  },
  {
   "cell_type": "code",
   "execution_count": 129,
   "id": "9db08e25-cb6a-42b1-9bb1-45fcaa742a95",
   "metadata": {},
   "outputs": [
    {
     "name": "stdout",
     "output_type": "stream",
     "text": [
      "[[42  5]\n",
      " [ 7  6]]\n"
     ]
    }
   ],
   "source": [
    "#If we now modify this subarray, the original array is not touched:\n",
    "\n",
    "x2_sub_copy[0,0] = 42\n",
    "print(x2_sub_copy)"
   ]
  },
  {
   "cell_type": "code",
   "execution_count": 130,
   "id": "0d773420-5987-4e0e-ab96-1bff9741944e",
   "metadata": {},
   "outputs": [
    {
     "name": "stdout",
     "output_type": "stream",
     "text": [
      "[[99  5  2  4]\n",
      " [ 7  6  8  8]\n",
      " [ 1  6  7  7]]\n"
     ]
    }
   ],
   "source": [
    "print(x2)"
   ]
  },
  {
   "cell_type": "markdown",
   "id": "41f1d2ea-1f13-4248-aed2-d12a84361385",
   "metadata": {},
   "source": [
    "<a id=\"9\"></a> <br>\n",
    "### Reshaping of Arrays"
   ]
  },
  {
   "cell_type": "markdown",
   "id": "508ebf23-886d-497d-94e8-c247ff24692d",
   "metadata": {},
   "source": [
    "คือการจัดเรียงสมาชิกใน Array เสียใหม่ ให้มีขนาดและมิติตามที่กำหนด"
   ]
  },
  {
   "cell_type": "code",
   "execution_count": 131,
   "id": "48eed7f4-b89d-4ead-87d1-5cb6eb560ad6",
   "metadata": {},
   "outputs": [
    {
     "name": "stdout",
     "output_type": "stream",
     "text": [
      "[[1 2 3]\n",
      " [4 5 6]\n",
      " [7 8 9]]\n"
     ]
    }
   ],
   "source": [
    "# Another useful type of operation is reshaping of arrays. The most flexible way of\n",
    "# doing this is with the reshape() method. For example, if you want to put the numbers\n",
    "# 1 through 9 in a 3×3 grid, you can do the following:\n",
    "\n",
    "grid = np.arange(1,10,1).reshape(3,3)\n",
    "print(grid)"
   ]
  },
  {
   "cell_type": "code",
   "execution_count": 132,
   "id": "62eae01c-5f11-4c80-9b1f-9b7b093ad437",
   "metadata": {},
   "outputs": [
    {
     "data": {
      "text/plain": [
       "array([1, 2, 3, 4, 5, 6, 7, 8, 9])"
      ]
     },
     "execution_count": 132,
     "metadata": {},
     "output_type": "execute_result"
    }
   ],
   "source": [
    "# จาก code ด้านบน ถ้ามาลองทำทีละขั้นตอนดังนี้\n",
    "# ขั้นที่ 1 สร้าง grid \n",
    "grid1 = np.arange(1,10,1)\n",
    "grid1"
   ]
  },
  {
   "cell_type": "code",
   "execution_count": 133,
   "id": "d7bde112-82cf-4ded-bff9-65685dea5bb4",
   "metadata": {},
   "outputs": [
    {
     "data": {
      "text/plain": [
       "array([[1, 2, 3],\n",
       "       [4, 5, 6],\n",
       "       [7, 8, 9]])"
      ]
     },
     "execution_count": 133,
     "metadata": {},
     "output_type": "execute_result"
    }
   ],
   "source": [
    "# ขั้นที่ 2 reshape grid\n",
    "grid1.reshape(3,3)"
   ]
  },
  {
   "cell_type": "code",
   "execution_count": 134,
   "id": "60b338a9-06db-4dba-a728-8afdcb14a614",
   "metadata": {},
   "outputs": [
    {
     "data": {
      "text/plain": [
       "array([1, 2, 3, 4, 5, 6, 7, 8, 9])"
      ]
     },
     "execution_count": 134,
     "metadata": {},
     "output_type": "execute_result"
    }
   ],
   "source": [
    "# คำสั่ง reshape จะเป็นการจัดเรียงสมาชิกให้มีขนาดตามที่ต้องการ\n",
    "# โดยเป็นการเปลี่ยนแปลงรูปร่างชั่วคราว\n",
    "# แต่ในส่วนของตัวแปร grid1 ข้อมูลใน array ก็ยังคงรูปร่างเดิม\n",
    "grid1"
   ]
  },
  {
   "cell_type": "code",
   "execution_count": 135,
   "id": "e324b6d8-50b4-49a8-9039-6906ba0eae35",
   "metadata": {},
   "outputs": [
    {
     "data": {
      "text/plain": [
       "array([[1, 2, 3],\n",
       "       [4, 5, 6],\n",
       "       [7, 8, 9]])"
      ]
     },
     "execution_count": 135,
     "metadata": {},
     "output_type": "execute_result"
    }
   ],
   "source": [
    "# ถ้าต้องการให้ ข้อมูลใน grid1 เปลี่ยนรูปร่างไปเลยเราก็ต้อง\n",
    "# สร้างตัวแปรมารับค่าดังนี้\n",
    "grid2 = grid1.reshape(3,3)\n",
    "grid2"
   ]
  },
  {
   "cell_type": "markdown",
   "id": "8dc1c931-5243-4158-9f73-7c9aefc5175a",
   "metadata": {},
   "source": [
    "รูปแบบการ reshape ทั่วไปอีกแบบหนึ่งคือการแปลงอาร์เรย์มิติเดียวเป็นเมทริกซ์แถวหรือคอลัมน์สองมิติ คุณสามารถทำได้โดยใช้วิธีการ reshape หรือทำได้ง่ายขึ้นโดยใช้คีย์เวิร์ด newaxis ภายในการดำเนินการสไลซ์(:) ดังรูป"
   ]
  },
  {
   "cell_type": "markdown",
   "id": "88b82b03-eba4-4063-bbbf-f4c2f1c792e2",
   "metadata": {},
   "source": [
    "<img src=\"np_na.png\" alt=\"cce\" border=\"0\">"
   ]
  },
  {
   "cell_type": "code",
   "execution_count": 136,
   "id": "d7ba40ce-93ab-44fa-bfdf-ab4fd9f6cf5a",
   "metadata": {},
   "outputs": [
    {
     "data": {
      "text/plain": [
       "(4,)"
      ]
     },
     "execution_count": 136,
     "metadata": {},
     "output_type": "execute_result"
    }
   ],
   "source": [
    "A = np.array([2, 0, 1, 8])\n",
    "A.shape # x is a vector (4,)"
   ]
  },
  {
   "cell_type": "code",
   "execution_count": 137,
   "id": "63924812-735c-4124-bef4-84fdf0680655",
   "metadata": {},
   "outputs": [
    {
     "data": {
      "text/plain": [
       "array([2, 0, 1, 8])"
      ]
     },
     "execution_count": 137,
     "metadata": {},
     "output_type": "execute_result"
    }
   ],
   "source": [
    "A"
   ]
  },
  {
   "cell_type": "code",
   "execution_count": 138,
   "id": "1d8730dc-494d-461b-9aad-8b1cbf5a03e9",
   "metadata": {},
   "outputs": [
    {
     "data": {
      "text/plain": [
       "array([[2, 0, 1, 8]])"
      ]
     },
     "execution_count": 138,
     "metadata": {},
     "output_type": "execute_result"
    }
   ],
   "source": [
    "# row vector via reshape\n",
    "\n",
    "A.reshape(1,4)"
   ]
  },
  {
   "cell_type": "code",
   "execution_count": 139,
   "id": "ef94f6ac-b4b1-4133-b20a-04f17406efe2",
   "metadata": {},
   "outputs": [
    {
     "data": {
      "text/plain": [
       "array([[2, 0, 1, 8]])"
      ]
     },
     "execution_count": 139,
     "metadata": {},
     "output_type": "execute_result"
    }
   ],
   "source": [
    "# row vector via newaxis\n",
    "\n",
    "A[np.newaxis, :]"
   ]
  },
  {
   "cell_type": "code",
   "execution_count": 140,
   "id": "dc2d7208-b3fb-41b4-b465-e9b960355175",
   "metadata": {},
   "outputs": [
    {
     "data": {
      "text/plain": [
       "(1, 4)"
      ]
     },
     "execution_count": 140,
     "metadata": {},
     "output_type": "execute_result"
    }
   ],
   "source": [
    "A[np.newaxis, :].shape"
   ]
  },
  {
   "cell_type": "code",
   "execution_count": 141,
   "id": "47e507e7-2423-4cab-952f-7edf2536d72a",
   "metadata": {},
   "outputs": [
    {
     "data": {
      "text/plain": [
       "array([[2],\n",
       "       [0],\n",
       "       [1],\n",
       "       [8]])"
      ]
     },
     "execution_count": 141,
     "metadata": {},
     "output_type": "execute_result"
    }
   ],
   "source": [
    "# column vector via reshape\n",
    "\n",
    "A.reshape(4, 1)"
   ]
  },
  {
   "cell_type": "code",
   "execution_count": 142,
   "id": "e1e91b7f-8ac4-455c-9df9-b5759efa0110",
   "metadata": {},
   "outputs": [
    {
     "data": {
      "text/plain": [
       "array([[2],\n",
       "       [0],\n",
       "       [1],\n",
       "       [8]])"
      ]
     },
     "execution_count": 142,
     "metadata": {},
     "output_type": "execute_result"
    }
   ],
   "source": [
    "# column vector via newaxis\n",
    "\n",
    "A[:, np.newaxis]"
   ]
  },
  {
   "cell_type": "code",
   "execution_count": 143,
   "id": "00b54f94-fe4f-4b33-af18-1d499f4373b2",
   "metadata": {},
   "outputs": [
    {
     "data": {
      "text/plain": [
       "(4, 1)"
      ]
     },
     "execution_count": 143,
     "metadata": {},
     "output_type": "execute_result"
    }
   ],
   "source": [
    "A[:, np.newaxis].shape"
   ]
  },
  {
   "cell_type": "markdown",
   "id": "07201b4e-3d53-4b64-a4ae-5bfc1fc10186",
   "metadata": {},
   "source": [
    "<a id=\"10\"></a> <br>\n",
    "### Array Concatenation and Splitting"
   ]
  },
  {
   "cell_type": "markdown",
   "id": "598e5a90-b178-470a-a951-03fe8431047d",
   "metadata": {},
   "source": [
    "#### Concatenation of arrays"
   ]
  },
  {
   "cell_type": "code",
   "execution_count": 144,
   "id": "bf21f125-f77e-469e-9c31-45d5a87508d8",
   "metadata": {},
   "outputs": [
    {
     "data": {
      "text/plain": [
       "array([1, 2, 3, 3, 2, 1])"
      ]
     },
     "execution_count": 144,
     "metadata": {},
     "output_type": "execute_result"
    }
   ],
   "source": [
    "x = np.array([1,2,3])\n",
    "y = np.array([3,2,1])\n",
    "np.concatenate((x, y))"
   ]
  },
  {
   "cell_type": "markdown",
   "id": "8b0165f8-ee86-4fe5-8350-7e73154a8039",
   "metadata": {},
   "source": [
    "* You can also concatenate more than two arrays at once:"
   ]
  },
  {
   "cell_type": "code",
   "execution_count": 145,
   "id": "4b64187f-155f-4101-a068-b1f6c1062c82",
   "metadata": {},
   "outputs": [
    {
     "data": {
      "text/plain": [
       "array([  1,   2,   3,   3,   2,   1,   9,  99, 999])"
      ]
     },
     "execution_count": 145,
     "metadata": {},
     "output_type": "execute_result"
    }
   ],
   "source": [
    "z = np.array([9,99,999]) #z =[9,99,999]\n",
    "\n",
    "np.concatenate((x,y,z))"
   ]
  },
  {
   "cell_type": "markdown",
   "id": "b1dc3b03-885a-4c50-afb2-18a8d88d60aa",
   "metadata": {},
   "source": [
    "* np.concatenate can also be used for two-dimensional arrays:"
   ]
  },
  {
   "cell_type": "code",
   "execution_count": 146,
   "id": "484cc3e2-3058-48d7-b463-8bf16778b6e0",
   "metadata": {},
   "outputs": [
    {
     "data": {
      "text/plain": [
       "array([[1, 2, 3],\n",
       "       [4, 5, 6]])"
      ]
     },
     "execution_count": 146,
     "metadata": {},
     "output_type": "execute_result"
    }
   ],
   "source": [
    "grid = np.array([[1,2,3],\n",
    "                [4,5,6]])\n",
    "grid"
   ]
  },
  {
   "cell_type": "code",
   "execution_count": 147,
   "id": "1e2da7fb-ee6d-4c00-b51c-c83b48e363f2",
   "metadata": {},
   "outputs": [
    {
     "data": {
      "text/plain": [
       "array([[1, 2, 3],\n",
       "       [4, 5, 6],\n",
       "       [1, 2, 3],\n",
       "       [4, 5, 6]])"
      ]
     },
     "execution_count": 147,
     "metadata": {},
     "output_type": "execute_result"
    }
   ],
   "source": [
    "# concatenate along the first axis\n",
    "\n",
    "np.concatenate((grid,grid))"
   ]
  },
  {
   "cell_type": "code",
   "execution_count": 148,
   "id": "fd2ec917-222f-4ebf-a1bc-9dcee7f27359",
   "metadata": {},
   "outputs": [
    {
     "data": {
      "text/plain": [
       "array([[1, 2, 3],\n",
       "       [4, 5, 6],\n",
       "       [1, 2, 3],\n",
       "       [4, 5, 6]])"
      ]
     },
     "execution_count": 148,
     "metadata": {},
     "output_type": "execute_result"
    }
   ],
   "source": [
    "# concatenate along the first axis\n",
    "\n",
    "np.concatenate((grid,grid), axis=0)"
   ]
  },
  {
   "cell_type": "code",
   "execution_count": 149,
   "id": "16aeba68-c7df-4993-8680-1df7a8880a02",
   "metadata": {},
   "outputs": [
    {
     "data": {
      "text/plain": [
       "array([[1, 2, 3, 1, 2, 3],\n",
       "       [4, 5, 6, 4, 5, 6]])"
      ]
     },
     "execution_count": 149,
     "metadata": {},
     "output_type": "execute_result"
    }
   ],
   "source": [
    "# concatenate along the second axis (zero-indexed)\n",
    "\n",
    "np.concatenate((grid, grid), axis=1)"
   ]
  },
  {
   "cell_type": "code",
   "execution_count": 150,
   "id": "0126534b-7c91-41e2-a917-757ddb8553c2",
   "metadata": {},
   "outputs": [
    {
     "data": {
      "text/plain": [
       "array([[1, 2, 3],\n",
       "       [9, 8, 7],\n",
       "       [6, 5, 4]])"
      ]
     },
     "execution_count": 150,
     "metadata": {},
     "output_type": "execute_result"
    }
   ],
   "source": [
    "# For working with arrays of mixed dimensions, \n",
    "#    it can be clearer to use the np.vstack (vertical stack)\n",
    "#    and np.hstack (horizontal stack) functions:\n",
    "\n",
    "x = np.array([1,2,3])\n",
    "grid = np.array([[9,8,7],\n",
    "                 [6,5,4]])\n",
    "\n",
    "\n",
    "# vertically stack the arrays\n",
    "np.vstack([x,grid])"
   ]
  },
  {
   "cell_type": "code",
   "execution_count": 151,
   "id": "d4c1b5d6-0c50-48ec-ae38-70ecde3c8734",
   "metadata": {},
   "outputs": [
    {
     "data": {
      "text/plain": [
       "array([[9, 8, 7],\n",
       "       [6, 5, 4],\n",
       "       [1, 2, 3]])"
      ]
     },
     "execution_count": 151,
     "metadata": {},
     "output_type": "execute_result"
    }
   ],
   "source": [
    "np.vstack([grid,x])"
   ]
  },
  {
   "cell_type": "code",
   "execution_count": 152,
   "id": "7acb781a-1c2a-4653-a503-7a2beeba4539",
   "metadata": {},
   "outputs": [
    {
     "data": {
      "text/plain": [
       "array([[ 9,  8,  7, 99],\n",
       "       [ 6,  5,  4, 99]])"
      ]
     },
     "execution_count": 152,
     "metadata": {},
     "output_type": "execute_result"
    }
   ],
   "source": [
    "#horizontally stack the arrays\n",
    "\n",
    "y = np.array([[99],\n",
    "            [99]])\n",
    "np.hstack([grid,y])"
   ]
  },
  {
   "cell_type": "code",
   "execution_count": 153,
   "id": "8015b57f-4179-4108-b588-a88e9c3685ec",
   "metadata": {},
   "outputs": [
    {
     "data": {
      "text/plain": [
       "array([[99,  9,  8,  7],\n",
       "       [99,  6,  5,  4]])"
      ]
     },
     "execution_count": 153,
     "metadata": {},
     "output_type": "execute_result"
    }
   ],
   "source": [
    "np.hstack([y,grid])"
   ]
  },
  {
   "cell_type": "markdown",
   "id": "74d735a0-65bb-4538-b5f7-5b12d50a3dc0",
   "metadata": {},
   "source": [
    "* Similarly, np.dstack will stack arrays along the third axis."
   ]
  },
  {
   "cell_type": "markdown",
   "id": "e0e8cf75-51d6-4a87-9e62-979194d5731c",
   "metadata": {},
   "source": [
    "#### Splitting of arrays"
   ]
  },
  {
   "cell_type": "markdown",
   "id": "c9cae4b7-78fb-416a-abf7-edce97d6ef93",
   "metadata": {},
   "source": [
    "* The opposite of concatenation is splitting, which is implemented by the functions\n",
    "np.split, np.hsplit, and np.vsplit. For each of these, we can pass a list of indices\n",
    "giving the split points:"
   ]
  },
  {
   "cell_type": "code",
   "execution_count": 154,
   "id": "41e75dbe-ffbb-4bcc-9d49-89253c3ff438",
   "metadata": {},
   "outputs": [
    {
     "name": "stdout",
     "output_type": "stream",
     "text": [
      "[1 2 3] [99 99] [3 2 1]\n"
     ]
    }
   ],
   "source": [
    "x = [1,2,3,99,99,3,2,1]\n",
    "x1, x2, x3 = np.split(x, [3,5])\n",
    "print(x1, x2, x3)"
   ]
  },
  {
   "cell_type": "code",
   "execution_count": 155,
   "id": "fdea5a39-35e9-4af9-ae2a-f5043350ce49",
   "metadata": {},
   "outputs": [
    {
     "name": "stdout",
     "output_type": "stream",
     "text": [
      "[1 2 3] [99] [99] [3 2 1]\n"
     ]
    }
   ],
   "source": [
    "x = np.array([1,2,3,99,99,3,2,1])\n",
    "x1, x2, x3, x4 = np.split(x, [3,4,5])\n",
    "print(x1, x2, x3,x4)"
   ]
  },
  {
   "cell_type": "markdown",
   "id": "8822bc9e-8d22-48f1-b8b1-d3f161ebb6f1",
   "metadata": {},
   "source": [
    "* Notice that N split points lead to N + 1 subarrays. The related functions np.hsplit\n",
    "and np.vsplit are similar:"
   ]
  },
  {
   "cell_type": "code",
   "execution_count": 156,
   "id": "f225adcf-a5b0-49dc-9978-5584f46dc49b",
   "metadata": {},
   "outputs": [
    {
     "data": {
      "text/plain": [
       "array([[ 0.,  1.,  2.,  3.,  4.,  5.],\n",
       "       [ 6.,  7.,  8.,  9., 10., 11.],\n",
       "       [12., 13., 14., 15., 16., 17.],\n",
       "       [18., 19., 20., 21., 22., 23.],\n",
       "       [24., 25., 26., 27., 28., 29.],\n",
       "       [30., 31., 32., 33., 34., 35.]])"
      ]
     },
     "execution_count": 156,
     "metadata": {},
     "output_type": "execute_result"
    }
   ],
   "source": [
    "grid = np.arange(36, dtype=np.float64).reshape((6,6))\n",
    "grid"
   ]
  },
  {
   "cell_type": "code",
   "execution_count": 157,
   "id": "89ad2f31-1ce4-407e-9eda-b845ff8e6c4c",
   "metadata": {},
   "outputs": [],
   "source": [
    "upper, lower = np.vsplit(grid, [2])"
   ]
  },
  {
   "cell_type": "code",
   "execution_count": 158,
   "id": "4258ff3b-b10d-4bc2-8641-089d34b6b901",
   "metadata": {},
   "outputs": [
    {
     "name": "stdout",
     "output_type": "stream",
     "text": [
      "[[ 0.  1.  2.  3.  4.  5.]\n",
      " [ 6.  7.  8.  9. 10. 11.]]\n"
     ]
    }
   ],
   "source": [
    "print(upper)"
   ]
  },
  {
   "cell_type": "code",
   "execution_count": 159,
   "id": "65608dff-69f3-4982-9490-a43616684939",
   "metadata": {},
   "outputs": [
    {
     "name": "stdout",
     "output_type": "stream",
     "text": [
      "[[12. 13. 14. 15. 16. 17.]\n",
      " [18. 19. 20. 21. 22. 23.]\n",
      " [24. 25. 26. 27. 28. 29.]\n",
      " [30. 31. 32. 33. 34. 35.]]\n"
     ]
    }
   ],
   "source": [
    "print(lower)"
   ]
  },
  {
   "cell_type": "code",
   "execution_count": 160,
   "id": "c12c00c0-e7f3-49fc-93d0-b24a47b4ff1a",
   "metadata": {},
   "outputs": [
    {
     "name": "stdout",
     "output_type": "stream",
     "text": [
      "upper:  [[ 0.  1.  2.  3.  4.  5.]\n",
      " [ 6.  7.  8.  9. 10. 11.]]\n",
      "middle:  [[12. 13. 14. 15. 16. 17.]]\n",
      "lower:  [[18. 19. 20. 21. 22. 23.]\n",
      " [24. 25. 26. 27. 28. 29.]\n",
      " [30. 31. 32. 33. 34. 35.]]\n"
     ]
    }
   ],
   "source": [
    "upper,middle, lower = np.vsplit(grid, [2,3])\n",
    "\n",
    "print(\"upper: \",upper)\n",
    "print(\"middle: \",middle)\n",
    "print(\"lower: \",lower)"
   ]
  },
  {
   "cell_type": "code",
   "execution_count": 161,
   "id": "68b6e672-c214-47d0-8d1f-b7f0609b7628",
   "metadata": {},
   "outputs": [
    {
     "name": "stdout",
     "output_type": "stream",
     "text": [
      "left:  [[ 0.  1.]\n",
      " [ 6.  7.]\n",
      " [12. 13.]\n",
      " [18. 19.]\n",
      " [24. 25.]\n",
      " [30. 31.]]\n",
      "right:  [[ 2.  3.  4.  5.]\n",
      " [ 8.  9. 10. 11.]\n",
      " [14. 15. 16. 17.]\n",
      " [20. 21. 22. 23.]\n",
      " [26. 27. 28. 29.]\n",
      " [32. 33. 34. 35.]]\n"
     ]
    }
   ],
   "source": [
    "left, right = np.hsplit(grid, [2])\n",
    "print(\"left: \",left)\n",
    "print(\"right: \",right)"
   ]
  },
  {
   "cell_type": "code",
   "execution_count": 162,
   "id": "6f0ba662-6541-4e06-ae7e-23dc4b9c0a3c",
   "metadata": {},
   "outputs": [
    {
     "name": "stdout",
     "output_type": "stream",
     "text": [
      "left:  [[ 0.  1.]\n",
      " [ 6.  7.]\n",
      " [12. 13.]\n",
      " [18. 19.]\n",
      " [24. 25.]\n",
      " [30. 31.]]\n",
      "right:  [[ 2.  3.]\n",
      " [ 8.  9.]\n",
      " [14. 15.]\n",
      " [20. 21.]\n",
      " [26. 27.]\n",
      " [32. 33.]]\n",
      "g:  [[ 4.  5.]\n",
      " [10. 11.]\n",
      " [16. 17.]\n",
      " [22. 23.]\n",
      " [28. 29.]\n",
      " [34. 35.]]\n"
     ]
    }
   ],
   "source": [
    "left, right, g = np.hsplit(grid, 3)\n",
    "print(\"left: \",left)\n",
    "print(\"right: \",right)\n",
    "print(\"g: \",g)"
   ]
  },
  {
   "cell_type": "code",
   "execution_count": 163,
   "id": "a7dc51dc-8d9a-4c98-bce8-0de0bf35c330",
   "metadata": {},
   "outputs": [
    {
     "data": {
      "text/plain": [
       "[array([[ 0.,  1.],\n",
       "        [ 6.,  7.],\n",
       "        [12., 13.],\n",
       "        [18., 19.],\n",
       "        [24., 25.],\n",
       "        [30., 31.]]),\n",
       " array([[ 2.,  3.],\n",
       "        [ 8.,  9.],\n",
       "        [14., 15.],\n",
       "        [20., 21.],\n",
       "        [26., 27.],\n",
       "        [32., 33.]]),\n",
       " array([[ 4.,  5.],\n",
       "        [10., 11.],\n",
       "        [16., 17.],\n",
       "        [22., 23.],\n",
       "        [28., 29.],\n",
       "        [34., 35.]])]"
      ]
     },
     "execution_count": 163,
     "metadata": {},
     "output_type": "execute_result"
    }
   ],
   "source": [
    "np.hsplit(grid, 3)"
   ]
  },
  {
   "cell_type": "markdown",
   "id": "d15c8830-1b32-4901-9517-ee7b4ee6e73d",
   "metadata": {},
   "source": [
    "* Similarly, np.dsplit will split arrays along the third axis."
   ]
  },
  {
   "cell_type": "markdown",
   "id": "df1b5164-5bb3-4202-8a02-d3dff63dc54b",
   "metadata": {},
   "source": [
    "<a id=\"11\"></a> <br>\n",
    "# Computation on NumPy Arrays: Universal Functions"
   ]
  },
  {
   "cell_type": "markdown",
   "id": "d3f7b7cc-de94-47ee-ab30-b2e72ba04faf",
   "metadata": {},
   "source": [
    "Ufunc (Universal Function) ใน NumPy เป็นฟังก์ชันที่ทำงานบนอาร์เรย์แบบองค์ประกอบต่อองค์ประกอบ (element-wise) ซึ่งหมายความว่ามันจะประมวลผลแต่ละองค์ประกอบในอาร์เรย์แยกกัน และส่งผลลัพธ์กลับมาในรูปแบบของอาร์เรย์ที่มีขนาดเดียวกัน Ufunc เป็นฟังก์ชันที่สำคัญมากใน NumPy เพราะช่วยให้การคำนวณทางคณิตศาสตร์และตรรกะบนอาร์เรย์ทำได้อย่างมีประสิทธิภาพและรวดเร็ว"
   ]
  },
  {
   "cell_type": "markdown",
   "id": "7ff05fd1-c2eb-442e-8f7e-0f9558fdb5a7",
   "metadata": {},
   "source": [
    "<a id=\"12\"></a> <br>\n",
    "### Exploring NumPy’s UFuncs"
   ]
  },
  {
   "cell_type": "markdown",
   "id": "615b42e4-a702-4d99-8889-80c5214582fd",
   "metadata": {},
   "source": [
    "* Ufuncs exist in two flavors: unary ufuncs, which operate on a single input, and binary\n",
    "ufuncs, which operate on two inputs. We’ll see examples of both these types of functions here."
   ]
  },
  {
   "cell_type": "markdown",
   "id": "bcfd8228-4818-45e5-b372-66e900f581c6",
   "metadata": {},
   "source": [
    "<a id=\"13\"></a> <br>\n",
    "#### Array arithmetic"
   ]
  },
  {
   "cell_type": "code",
   "execution_count": 164,
   "id": "a57c145f-b742-499b-8385-9688936061a3",
   "metadata": {},
   "outputs": [
    {
     "name": "stdout",
     "output_type": "stream",
     "text": [
      "x = [0 1 2 3]\n",
      "x + 5 = [5 6 7 8]\n",
      "x - 5 = [-5 -4 -3 -2]\n",
      "x * 2 = [0 2 4 6]\n",
      "x / 2 = [0.  0.5 1.  1.5]\n",
      "x // 2 = [0 0 1 1]\n"
     ]
    }
   ],
   "source": [
    "# NumPy’s ufuncs feel very natural to use because \n",
    "#    they make use of Python’s native arithmetic operators.\n",
    "#    The standard addition, subtraction, multiplication, and\n",
    "#    division can all be used:\n",
    "\n",
    "x = np.arange(4)\n",
    "print(\"x =\", x)\n",
    "print(\"x + 5 =\", x + 5)\n",
    "print(\"x - 5 =\", x - 5)\n",
    "print(\"x * 2 =\", x * 2)\n",
    "print(\"x / 2 =\", x / 2)\n",
    "print(\"x // 2 =\", x // 2) # floor division"
   ]
  },
  {
   "cell_type": "code",
   "execution_count": 165,
   "id": "92367dbf-7eb3-46c4-9790-25bcb91a4b00",
   "metadata": {},
   "outputs": [
    {
     "name": "stdout",
     "output_type": "stream",
     "text": [
      "x = [0 1 2 3]\n",
      "-x =  [ 0 -1 -2 -3]\n",
      "x ** 2 =  [0 1 4 9]\n",
      "x % 2 =  [0 1 0 1]\n"
     ]
    }
   ],
   "source": [
    "#There is also a unary ufunc for negation, \n",
    "#    a ** operator for exponentiation, and \n",
    "#    a %  operator for modulus:\n",
    "print(\"x =\", x)\n",
    "print(\"-x = \", -x)\n",
    "print(\"x ** 2 = \", x ** 2)\n",
    "print(\"x % 2 = \", x % 2)"
   ]
  },
  {
   "cell_type": "code",
   "execution_count": 166,
   "id": "f22e8223-2861-4685-b0f3-a3baa5bf5709",
   "metadata": {},
   "outputs": [
    {
     "name": "stdout",
     "output_type": "stream",
     "text": [
      "x = [0 1 2 3]\n"
     ]
    },
    {
     "data": {
      "text/plain": [
       "array([-1.  , -2.25, -4.  , -6.25])"
      ]
     },
     "execution_count": 166,
     "metadata": {},
     "output_type": "execute_result"
    }
   ],
   "source": [
    "# In addition, these can be strung together however you wish, \n",
    "#    and the standard order of operations is respected:\n",
    "print(\"x =\", x)\n",
    "-(0.5*x+1) ** 2"
   ]
  },
  {
   "cell_type": "code",
   "execution_count": 167,
   "id": "73c39a86-f11f-4944-ab72-3afd9cb69cb2",
   "metadata": {},
   "outputs": [
    {
     "name": "stdout",
     "output_type": "stream",
     "text": [
      "5\n",
      "x = [0 1 2 3]\n",
      "[2 3 4 5]\n",
      "[-5 -4 -3 -2]\n",
      "[ 0 -1 -2 -3]\n",
      "[0 3 6 9]\n",
      "[0.  0.5 1.  1.5]\n",
      "[0 0 1 1]\n",
      "[0 1 4 9]\n",
      "[0 1 0 1]\n",
      "[0 1 4 9]\n"
     ]
    }
   ],
   "source": [
    "# All of these arithmetic operations are simply \n",
    "#     convenient wrappers around specific functions \n",
    "#     built into NumPy; for example, \n",
    "#     the + operator is a wrapper for the add function:\n",
    "\n",
    "print(np.add(3,2))\n",
    "print(\"x =\", x)\n",
    "print(np.add(x,2)) #Addition +\n",
    "print(np.subtract(x,5)) #Subtraction -\n",
    "print(np.negative(x)) #Unary negation -\n",
    "print(np.multiply(x,3)) #Multiplication *\n",
    "print(np.divide(x,2)) #Division /\n",
    "print(np.floor_divide(x,2)) #Floor division //\n",
    "print(np.power(x,2)) #Exponentiation **\n",
    "print(np.mod(x,2)) #Modulus/remainder **\n",
    "\n",
    "print(np.multiply(x, x))"
   ]
  },
  {
   "cell_type": "markdown",
   "id": "65467f8d-9724-45f1-aed0-949a6ccc40e6",
   "metadata": {},
   "source": [
    "<a id=\"14\"></a> <br>\n",
    "#### Absolute value"
   ]
  },
  {
   "cell_type": "code",
   "execution_count": 168,
   "id": "aa005931-7956-4a62-98c2-48fc3c7b586d",
   "metadata": {},
   "outputs": [
    {
     "data": {
      "text/plain": [
       "array([2, 1, 0, 1, 2])"
      ]
     },
     "execution_count": 168,
     "metadata": {},
     "output_type": "execute_result"
    }
   ],
   "source": [
    "# Just as NumPy understands Python’s built-in \n",
    "#    arithmetic operators, it also understands\n",
    "#    Python’s built-in absolute value function:\n",
    "\n",
    "x = np.array([-2,-1,0,1,2])\n",
    "abs(x)"
   ]
  },
  {
   "cell_type": "code",
   "execution_count": 169,
   "id": "0319808c-5c23-432f-a0f5-209a43da0203",
   "metadata": {},
   "outputs": [
    {
     "name": "stdout",
     "output_type": "stream",
     "text": [
      "[2 1 0 1 2]\n",
      "[2 1 0 1 2]\n"
     ]
    }
   ],
   "source": [
    "# The corresponding NumPy ufunc is np.absolute, \n",
    "#     which is also available under the alias np.abs:\n",
    "\n",
    "print(np.absolute(x))\n",
    "print(np.abs(x))"
   ]
  },
  {
   "cell_type": "code",
   "execution_count": 170,
   "id": "bf06749c-810e-4735-b7e3-7f741beb7f78",
   "metadata": {},
   "outputs": [
    {
     "data": {
      "text/plain": [
       "array([25.        ,  5.        ,  2.        ,  3.16227766])"
      ]
     },
     "execution_count": 170,
     "metadata": {},
     "output_type": "execute_result"
    }
   ],
   "source": [
    "# This ufunc can also handle complex data, \n",
    "#     in which the absolute value returns the magnitude:\n",
    "\n",
    "x = np.array([7-24j, 4-3j, 2+0j, 1+3j])\n",
    "np.abs(x)"
   ]
  },
  {
   "cell_type": "markdown",
   "id": "8580d73a-b75f-4d00-8698-fd8865def568",
   "metadata": {},
   "source": [
    "<a id=\"15\"></a> <br>\n",
    "#### Trigonometric functions"
   ]
  },
  {
   "cell_type": "code",
   "execution_count": 171,
   "id": "af7933a9-c7b2-4495-823e-f249cc1f4604",
   "metadata": {},
   "outputs": [
    {
     "name": "stdout",
     "output_type": "stream",
     "text": [
      "theta      = [0.         1.57079633 3.14159265]\n",
      "sin(theta) = [0.0000000e+00 1.0000000e+00 1.2246468e-16]\n",
      "cos(theta) = [ 1.000000e+00  6.123234e-17 -1.000000e+00]\n",
      "tan(theta) = [ 0.00000000e+00  1.63312394e+16 -1.22464680e-16]\n"
     ]
    }
   ],
   "source": [
    "# NumPy provides a large number of useful ufuncs, and some of the most useful for the\n",
    "# data scientist are the trigonometric functions. We’ll start by defining an array of\n",
    "# angles:\n",
    "\n",
    "theta = np.linspace(0,np.pi,3)\n",
    "\n",
    "\n",
    "#Now we can compute some trigonometric fuctions on these values:\n",
    "print(\"theta      =\",theta)\n",
    "print(\"sin(theta) =\",np.sin(theta))\n",
    "print(\"cos(theta) =\",np.cos(theta))\n",
    "print(\"tan(theta) =\",np.tan(theta))\n"
   ]
  },
  {
   "cell_type": "code",
   "execution_count": 172,
   "id": "fcbdd627-4e05-4fce-b9bd-8298610a6432",
   "metadata": {},
   "outputs": [
    {
     "name": "stdout",
     "output_type": "stream",
     "text": [
      "x =  [-1, 0, 1]\n",
      "arcsin(x) =  [-1.57079633  0.          1.57079633]\n",
      "arccos(x) =  [3.14159265 1.57079633 0.        ]\n",
      "arctan(x) =  [-0.78539816  0.          0.78539816]\n"
     ]
    }
   ],
   "source": [
    "x = [-1, 0, 1]\n",
    "\n",
    "print(\"x = \", x)\n",
    "print(\"arcsin(x) = \", np.arcsin(x))\n",
    "print(\"arccos(x) = \", np.arccos(x))\n",
    "print(\"arctan(x) = \", np.arctan(x))"
   ]
  },
  {
   "cell_type": "markdown",
   "id": "5d04e798-2fc9-46a0-b323-fb67ae896974",
   "metadata": {},
   "source": [
    "<a id=\"16\"></a> <br>\n",
    "#### Exponents and logarithms"
   ]
  },
  {
   "cell_type": "markdown",
   "id": "f3600226-e74e-40b1-a0c6-cc3e4b913181",
   "metadata": {},
   "source": [
    "* Another common type of operation available in a NumPy ufunc are the exponentials:"
   ]
  },
  {
   "cell_type": "code",
   "execution_count": 173,
   "id": "64a0f2b4-8142-4bf5-9b6e-57c312354ba5",
   "metadata": {},
   "outputs": [
    {
     "name": "stdout",
     "output_type": "stream",
     "text": [
      "x      = [1, 2, 3]\n",
      "e^x    = [ 2.71828183  7.3890561  20.08553692]\n",
      "2^x    = [2. 4. 8.]\n",
      "3^x    = [ 3  9 27]\n"
     ]
    }
   ],
   "source": [
    "x = [1,2,3]\n",
    "print(\"x      =\",x)\n",
    "print(\"e^x    =\",np.exp(x))\n",
    "print(\"2^x    =\",np.exp2(x))\n",
    "print(\"3^x    =\",np.power(3,x))"
   ]
  },
  {
   "cell_type": "code",
   "execution_count": 174,
   "id": "f34944af-ef13-4fe8-a8a5-39aa888a03dd",
   "metadata": {},
   "outputs": [
    {
     "name": "stdout",
     "output_type": "stream",
     "text": [
      "x        = [1, 2, 4, 10]\n",
      "ln(x)    = [0.         0.69314718 1.38629436 2.30258509]\n",
      "log2(x)  = [0.         1.         2.         3.32192809]\n",
      "log10(x) = [0.         0.30103    0.60205999 1.        ]\n"
     ]
    }
   ],
   "source": [
    "# The inverse of the exponentials, the logarithms, are also available. The basic np.log\n",
    "# gives the natural logarithm; if you prefer to compute the base-2 logarithm or the\n",
    "# base-10 logarithm, these are available as well:\n",
    "\n",
    "x = [1, 2, 4, 10]\n",
    "print(\"x        =\", x)\n",
    "print(\"ln(x)    =\", np.log(x))\n",
    "print(\"log2(x)  =\", np.log2(x))\n",
    "print(\"log10(x) =\", np.log10(x))"
   ]
  },
  {
   "cell_type": "code",
   "execution_count": 175,
   "id": "13c3177e-98fd-4673-95d7-9859af37e436",
   "metadata": {},
   "outputs": [
    {
     "name": "stdout",
     "output_type": "stream",
     "text": [
      "exp(x) - 1 = [0.         0.0010005  0.01005017 0.10517092]\n",
      "log(1 + x) = [0.         0.0009995  0.00995033 0.09531018]\n"
     ]
    }
   ],
   "source": [
    "# There are also some specialized versions that are useful for maintaining precision\n",
    "# with very small input:\n",
    "\n",
    "x = [0, 0.001, 0.01, 0.1]\n",
    "print(\"exp(x) - 1 =\", np.expm1(x))\n",
    "print(\"log(1 + x) =\", np.log1p(x))"
   ]
  },
  {
   "cell_type": "code",
   "execution_count": 176,
   "id": "373e7135-b251-4095-9456-a49e93664feb",
   "metadata": {},
   "outputs": [
    {
     "name": "stdout",
     "output_type": "stream",
     "text": [
      "[ 0.          0.41666667  0.83333333  1.25        1.66666667  2.08333333\n",
      "  2.5         2.91666667  3.33333333  3.75        4.16666667  4.58333333\n",
      "  5.          5.41666667  5.83333333  6.25        6.66666667  7.08333333\n",
      "  7.5         7.91666667  8.33333333  8.75        9.16666667  9.58333333\n",
      " 10.        ]\n",
      "[ 1.         -0.07638889 -0.80555556 -1.1875     -1.22222222 -0.90972222\n",
      " -0.25        0.75694444  2.11111111  3.8125      5.86111111  8.25694444\n",
      " 11.         14.09027778 17.52777778 21.3125     25.44444444 29.92361111\n",
      " 34.75       39.92361111 45.44444444 51.3125     57.52777778 64.09027778\n",
      " 71.        ]\n"
     ]
    }
   ],
   "source": [
    "# Polynomail functions\n",
    "\n",
    "x = np.linspace(0, 10, num=25)\n",
    "y = x**2 - 3*x + 1\n",
    "\n",
    "print(x)\n",
    "print(y)"
   ]
  },
  {
   "cell_type": "markdown",
   "id": "d6434200-a9f6-408e-ae08-391a8fe79eb2",
   "metadata": {},
   "source": [
    "<a id=\"17\"></a> <br>\n",
    "### Advanced Ufunc Features"
   ]
  },
  {
   "cell_type": "markdown",
   "id": "351d1c7f-2980-4887-abd3-e62fda1012d0",
   "metadata": {},
   "source": [
    "<a id=\"19\"></a> <br>\n",
    "#### Aggregates"
   ]
  },
  {
   "cell_type": "markdown",
   "id": "7be96959-ce72-442e-ba0c-fe2e46970ca4",
   "metadata": {},
   "source": [
    "* For binary ufuncs, there are some interesting aggregates that can be computed\n",
    "directly from the object. For example, if we’d like to reduce an array with a particular\n",
    "operation, we can use the reduce method of any ufunc. A reduce repeatedly applies a\n",
    "given operation to the elements of an array until only a single result remains.\n",
    "For example, calling reduce on the add ufunc returns the sum of all elements in the\n",
    "array:"
   ]
  },
  {
   "cell_type": "code",
   "execution_count": 177,
   "id": "94411d36-1bce-4ea7-aff4-13797e19f456",
   "metadata": {},
   "outputs": [
    {
     "name": "stdout",
     "output_type": "stream",
     "text": [
      "x =  [1 2 3 4 5]\n",
      "15\n",
      "-13\n",
      "120\n",
      "0.008333333333333333\n"
     ]
    }
   ],
   "source": [
    "x = np.arange(1,6)\n",
    "print('x = ', x)\n",
    "print(np.add.reduce(x)) # เป็นฟังก์ชันที่ใช้รวม(reduce)ข้อมูลในอาร์เรย์ x โดยการบวก(add)ข้อมูลทั้งหมดเข้าด้วยกัน\n",
    "print(np.subtract.reduce(x)) #เป็นฟังก์ชันที่ใช้รวม(reduce)ข้อมูลในอาร์เรย์ x โดยการลบ(subtract)ข้อมูลทั้งหมด\n",
    "print(np.multiply.reduce(x)) #เป็นฟังก์ชันที่ใช้รวม(reduce)ข้อมูลในอาร์เรย์ x โดยการคูณ(multiply)ข้อมูลทั้งหมด\n",
    "print(np.divide.reduce(x)) ##เป็นฟังก์ชันที่ใช้รวม(reduce)ข้อมูลในอาร์เรย์ x โดยการหาร(divide)ข้อมูลทั้งหมด\n"
   ]
  },
  {
   "cell_type": "code",
   "execution_count": 178,
   "id": "20bf8206-d861-4708-8c06-3a4c2b45cf85",
   "metadata": {},
   "outputs": [
    {
     "name": "stdout",
     "output_type": "stream",
     "text": [
      "x =  [1 2 3 4 5]\n",
      "[ 1  3  6 10 15]\n",
      "[  1  -1  -4  -8 -13]\n",
      "[  1   2   6  24 120]\n",
      "[1.         0.5        0.16666667 0.04166667 0.00833333]\n",
      "[1 0 0 0 0]\n",
      "[1 1 1 1 1]\n"
     ]
    }
   ],
   "source": [
    "#If we’d like to store all the intermediate results of \n",
    "#   the computation, we can instead use accumulate:\n",
    "x = np.arange(1,6)\n",
    "print('x = ', x)\n",
    "print(np.add.accumulate(x)) #เป็นฟังก์ชันที่ใช้คำนวณผลรวมสะสม(cumulative sum)ของข้อมูลในอาร์เรย์ x\n",
    "print(np.subtract.accumulate(x)) #เป็นฟังก์ชันที่ใช้คำนวณผลลบสะสม(cumulative subtraction)ของข้อมูลในอาร์เรย์ x\n",
    "print(np.multiply.accumulate(x)) #ป็นฟังก์ชันที่ใช้คำนวณผลคูณสะสม(cumulative multiplication)ของข้อมูลในอาร์เรย์ x\n",
    "print(np.divide.accumulate(x)) #เป็นฟังก์ชันที่ใช้คำนวณผลหารสะสม(cumulative division)ของข้อมูลในอาร์เรย์ x\n",
    "print(np.floor_divide.accumulate(x)) #เป็นฟังก์ชันที่ใช้คำนวณผลหารปัดเศษลงสะสม(cumulative floor division)ของข้อมูลในอาร์เรย์ x\n",
    "print(np.power.accumulate(x)) #เป็นฟังก์ชันที่ใช้คำนวณผลยกกำลังสะสม(cumulative power)ของข้อมูลในอาร์เรย์ x\n"
   ]
  },
  {
   "cell_type": "markdown",
   "id": "43b7846e-d343-4cb1-9369-201cc5feafc8",
   "metadata": {},
   "source": [
    "<a id=\"20\"></a> <br>\n",
    "#### Outer products"
   ]
  },
  {
   "cell_type": "markdown",
   "id": "629819c1-177e-4672-bcf8-2fcf3557ab38",
   "metadata": {},
   "source": [
    "* Finally, any ufunc can compute the output of all pairs of two different inputs using\n",
    "the outer method. This allows you, in one line, to do things like create a multiplication table:"
   ]
  },
  {
   "cell_type": "code",
   "execution_count": 179,
   "id": "130c5494-f000-4340-908f-da83c693864f",
   "metadata": {},
   "outputs": [
    {
     "name": "stdout",
     "output_type": "stream",
     "text": [
      "[[ 1  2  3  4  5]\n",
      " [ 2  4  6  8 10]\n",
      " [ 3  6  9 12 15]\n",
      " [ 4  8 12 16 20]\n",
      " [ 5 10 15 20 25]]\n",
      "[[ 2  3  4  5  6]\n",
      " [ 3  4  5  6  7]\n",
      " [ 4  5  6  7  8]\n",
      " [ 5  6  7  8  9]\n",
      " [ 6  7  8  9 10]]\n"
     ]
    }
   ],
   "source": [
    "x = np.arange(1,6)\n",
    "print(np.multiply.outer(x, x))\n",
    "print(np.add.outer(x, x))"
   ]
  },
  {
   "cell_type": "markdown",
   "id": "bbd3c040-e28b-413c-95e5-730e1491efc2",
   "metadata": {},
   "source": [
    "<a id=\"21\"></a> <br>\n",
    "# Aggregations: Min, Max, and Everything in Between"
   ]
  },
  {
   "cell_type": "markdown",
   "id": "129817fd-bdad-43d3-be2c-7c33b3ecd91b",
   "metadata": {},
   "source": [
    "* NumPy has fast built-in aggregation functions for working on arrays; we’ll discuss\n",
    "and demonstrate some of them here."
   ]
  },
  {
   "cell_type": "markdown",
   "id": "9534ad3c-2948-438b-b680-07e15bdb3d93",
   "metadata": {},
   "source": [
    "<a id=\"22\"></a> <br>\n",
    "### Summing the Values in an Array"
   ]
  },
  {
   "cell_type": "code",
   "execution_count": 180,
   "id": "1189053a-a26a-44c3-b429-bba6e269a35a",
   "metadata": {},
   "outputs": [
    {
     "data": {
      "text/plain": [
       "52.12818058833704"
      ]
     },
     "execution_count": 180,
     "metadata": {},
     "output_type": "execute_result"
    }
   ],
   "source": [
    "# As a quick example, consider computing the sum of all \n",
    "#    values in an array. Python itself can do this using \n",
    "#    the built-in sum function:\n",
    "\n",
    "L = np.random.random(100)\n",
    "sum(L)"
   ]
  },
  {
   "cell_type": "code",
   "execution_count": 181,
   "id": "2c35b67c-e735-4228-9549-a08c6baa8d67",
   "metadata": {},
   "outputs": [
    {
     "data": {
      "text/plain": [
       "52.12818058833702"
      ]
     },
     "execution_count": 181,
     "metadata": {},
     "output_type": "execute_result"
    }
   ],
   "source": [
    "#The syntax is quite similar to that of NumPy’s sum function, \n",
    "#    and the result is the same in the simplest case:\n",
    "\n",
    "np.sum(L)"
   ]
  },
  {
   "cell_type": "code",
   "execution_count": 182,
   "id": "bbada016-edc9-4794-b03a-f30fb47ec301",
   "metadata": {},
   "outputs": [],
   "source": [
    "# However, because it executes the operation in compiled code, NumPy’s version of the\n",
    "# operation is computed much more quickly:\n",
    "\n",
    "big_array = np.random.random(1000000)"
   ]
  },
  {
   "cell_type": "code",
   "execution_count": 183,
   "id": "20cbbc34-b854-4ebe-85f5-79b56fd44d30",
   "metadata": {},
   "outputs": [
    {
     "name": "stdout",
     "output_type": "stream",
     "text": [
      "27.3 ms ± 315 µs per loop (mean ± std. dev. of 7 runs, 10 loops each)\n"
     ]
    }
   ],
   "source": [
    "%timeit sum(big_array)"
   ]
  },
  {
   "cell_type": "code",
   "execution_count": 184,
   "id": "4badb44e-9a88-4ace-ae71-88d8e2012dd7",
   "metadata": {},
   "outputs": [
    {
     "name": "stdout",
     "output_type": "stream",
     "text": [
      "117 µs ± 412 ns per loop (mean ± std. dev. of 7 runs, 10,000 loops each)\n"
     ]
    }
   ],
   "source": [
    "%timeit np.sum(big_array)"
   ]
  },
  {
   "cell_type": "markdown",
   "id": "84f2c386-58f1-4456-95db-aa1ab1483405",
   "metadata": {},
   "source": [
    "<a id=\"23\"></a> <br>\n",
    "### Minimum and Maximum"
   ]
  },
  {
   "cell_type": "code",
   "execution_count": 185,
   "id": "9d293851-54e7-4412-84cd-74fd226a5631",
   "metadata": {},
   "outputs": [
    {
     "data": {
      "text/plain": [
       "(1.4057692298008462e-06, 0.9999994392723005)"
      ]
     },
     "execution_count": 185,
     "metadata": {},
     "output_type": "execute_result"
    }
   ],
   "source": [
    "#Similarly, Python has built-in min and max functions, \n",
    "#    used to find the minimum value\n",
    "#    and maximum value of any given array:\n",
    "\n",
    "min(big_array), max(big_array)"
   ]
  },
  {
   "cell_type": "code",
   "execution_count": 186,
   "id": "fbb4311d-b4b0-41e9-b1e4-e57dcd408731",
   "metadata": {},
   "outputs": [
    {
     "data": {
      "text/plain": [
       "(1.4057692298008462e-06, 0.9999994392723005)"
      ]
     },
     "execution_count": 186,
     "metadata": {},
     "output_type": "execute_result"
    }
   ],
   "source": [
    "#NumPy’s corresponding functions have similar syntax, \n",
    "#    and again operate much more quickly:\n",
    "\n",
    "np.min(big_array), np.max(big_array)"
   ]
  },
  {
   "cell_type": "code",
   "execution_count": 187,
   "id": "4ab09493-f03c-49a3-95eb-0f4db67a24f8",
   "metadata": {},
   "outputs": [
    {
     "name": "stdout",
     "output_type": "stream",
     "text": [
      "19.2 ms ± 222 µs per loop (mean ± std. dev. of 7 runs, 100 loops each)\n",
      "75.7 µs ± 932 ns per loop (mean ± std. dev. of 7 runs, 10,000 loops each)\n"
     ]
    }
   ],
   "source": [
    "%timeit min(big_array)\n",
    "%timeit np.min(big_array)"
   ]
  },
  {
   "cell_type": "code",
   "execution_count": 188,
   "id": "7c5d3699-a00a-4412-a59f-e4055fcea774",
   "metadata": {},
   "outputs": [
    {
     "name": "stdout",
     "output_type": "stream",
     "text": [
      "1.4057692298008462e-06 0.9999994392723005 500202.5348847683\n"
     ]
    }
   ],
   "source": [
    "# For min, max, sum, and several other NumPy aggregates,\n",
    "#     a shorter syntax is to use methods of the \n",
    "#     array object itself:\n",
    "\n",
    "print(big_array.min(), big_array.max(), big_array.sum())\n"
   ]
  },
  {
   "cell_type": "code",
   "execution_count": 189,
   "id": "358a3059-66c2-414e-94cf-6be4fc5c00aa",
   "metadata": {},
   "outputs": [
    {
     "name": "stdout",
     "output_type": "stream",
     "text": [
      "78.1 µs ± 448 ns per loop (mean ± std. dev. of 7 runs, 10,000 loops each)\n",
      "76.1 µs ± 868 ns per loop (mean ± std. dev. of 7 runs, 10,000 loops each)\n"
     ]
    }
   ],
   "source": [
    "# Whenever possible, make sure that you are using the NumPy \n",
    "#     version of these aggregates when operating on NumPy \n",
    "#     arrays!\n",
    "%timeit np.min(big_array)\n",
    "%timeit big_array.min()"
   ]
  },
  {
   "cell_type": "markdown",
   "id": "f20ffb37-0c78-4677-b206-a502c6c8bd8c",
   "metadata": {},
   "source": [
    "<a id=\"24\"></a> <br>\n",
    "### Multidimensional aggregates"
   ]
  },
  {
   "cell_type": "code",
   "execution_count": 190,
   "id": "03a65b06-5a6c-45d5-b63e-956802e018a3",
   "metadata": {},
   "outputs": [
    {
     "name": "stdout",
     "output_type": "stream",
     "text": [
      "[[1 8 2 8]\n",
      " [7 2 8 7]\n",
      " [8 5 7 2]]\n"
     ]
    }
   ],
   "source": [
    "# One common type of aggregation operation is an aggregate along a row or column.\n",
    "# Say you have some data stored in a two-dimensional array:\n",
    "\n",
    "M = np.random.randint(1,10,(3,4))\n",
    "print(M)"
   ]
  },
  {
   "cell_type": "code",
   "execution_count": 191,
   "id": "2912bb4e-055b-4dfe-91ac-3e215b2b9231",
   "metadata": {},
   "outputs": [
    {
     "data": {
      "text/plain": [
       "65"
      ]
     },
     "execution_count": 191,
     "metadata": {},
     "output_type": "execute_result"
    }
   ],
   "source": [
    "M.sum()"
   ]
  },
  {
   "cell_type": "code",
   "execution_count": 192,
   "id": "9d446840-32a0-42d6-86a1-a5ccabbc0fc2",
   "metadata": {},
   "outputs": [
    {
     "data": {
      "text/plain": [
       "array([16, 15, 17, 17])"
      ]
     },
     "execution_count": 192,
     "metadata": {},
     "output_type": "execute_result"
    }
   ],
   "source": [
    "M.sum(axis=0)"
   ]
  },
  {
   "cell_type": "code",
   "execution_count": 193,
   "id": "9c0971a6-d803-4a6b-8aed-20fb2cbe6b77",
   "metadata": {},
   "outputs": [
    {
     "data": {
      "text/plain": [
       "array([19, 24, 22])"
      ]
     },
     "execution_count": 193,
     "metadata": {},
     "output_type": "execute_result"
    }
   ],
   "source": [
    "M.sum(axis=1)"
   ]
  },
  {
   "cell_type": "code",
   "execution_count": 194,
   "id": "7ec422e1-f1fa-4c1d-8d1d-c63403b1a48a",
   "metadata": {},
   "outputs": [
    {
     "data": {
      "text/plain": [
       "array([1, 2, 2, 2])"
      ]
     },
     "execution_count": 194,
     "metadata": {},
     "output_type": "execute_result"
    }
   ],
   "source": [
    "# Aggregation functions take an additional argument \n",
    "#    specifying the axis along which the aggregate \n",
    "#    is computed. For example, we can find the minimum value\n",
    "#    within each column by specifying axis=0:\n",
    "\n",
    "M.min(axis=0)\n"
   ]
  },
  {
   "cell_type": "code",
   "execution_count": 195,
   "id": "60caf7dc-3868-4dde-a5bb-2d6721fb680c",
   "metadata": {},
   "outputs": [
    {
     "data": {
      "text/plain": [
       "array([1, 2, 2, 2])"
      ]
     },
     "execution_count": 195,
     "metadata": {},
     "output_type": "execute_result"
    }
   ],
   "source": [
    "#or use that way\n",
    "\n",
    "np.min(M,axis=0)"
   ]
  },
  {
   "cell_type": "code",
   "execution_count": 196,
   "id": "b4843536-483d-4606-b0a7-4a4b9323d154",
   "metadata": {},
   "outputs": [
    {
     "data": {
      "text/plain": [
       "array([8, 8, 8])"
      ]
     },
     "execution_count": 196,
     "metadata": {},
     "output_type": "execute_result"
    }
   ],
   "source": [
    "# Similarly, we can find the maximum value within each row:\n",
    "\n",
    "M.max(axis=1)"
   ]
  },
  {
   "cell_type": "markdown",
   "id": "c9584435-32da-483f-9e43-56b162887834",
   "metadata": {},
   "source": [
    "np.nan หมายถึง \"Not a Number\" ใน NumPy ซึ่งใช้แทนค่าที่ไม่สามารถคำนวณเป็นตัวเลขได้ หรือใช้เป็นสัญลักษณ์สำหรับข้อมูลที่ขาดหายไป (missing value) หรือไม่สามารถนิยามค่าได้ในเชิงคณิตศาสตร์ มีความสำคัญในงานวิเคราะห์ข้อมูล เนื่องจากช่วยให้สามารถจัดการกับข้อมูลที่ไม่สมบูรณ์หรือขาดหายไปได้อย่างเหมาะสม"
   ]
  },
  {
   "cell_type": "code",
   "execution_count": 197,
   "id": "4814d4e5-05c7-45fb-8896-146d5c6ece07",
   "metadata": {},
   "outputs": [
    {
     "name": "stdout",
     "output_type": "stream",
     "text": [
      "x =  [ 1.  2. nan  4.  5.]\n",
      "np.sum       = nan\n",
      "np.nansum    = 12.0\n",
      "np.mean      = nan\n",
      "np.nanmean   = 3.0\n",
      "np.std       = nan\n",
      "np.nanstd    = 1.5811388300841898\n",
      "np.argmin    = 2\n",
      "np.nanargmin = 0\n",
      "np.argmax    = 2\n",
      "np.nanargmax = 4\n"
     ]
    }
   ],
   "source": [
    "# Note that some of these NaN-safe functions were not added until\n",
    "# NumPy 1.8, so they will not be available in older NumPy versions.\n",
    "\n",
    "x = np.array([1,2,np.nan,4,5])\n",
    "\n",
    "print('x = ', x)\n",
    "\n",
    "print(\"np.sum       =\",np.sum(x))\n",
    "print(\"np.nansum    =\",np.nansum(x))\n",
    "\n",
    "print(\"np.mean      =\",np.mean(x))\n",
    "print(\"np.nanmean   =\",np.nanmean(x))\n",
    "\n",
    "print(\"np.std       =\",np.std(x))\n",
    "print(\"np.nanstd    =\",np.nanstd(x))\n",
    "\n",
    "\n",
    "#Be careful that this is not a real index of minimum value.\n",
    "print(\"np.argmin    =\",np.argmin(x)) \n",
    "#if there is a nan value in an array, it returns index of nan value.\n",
    "\n",
    "\n",
    "print(\"np.nanargmin =\",np.nanargmin(x))\n",
    "\n",
    "#Be careful that this is not a real index of minimum value.\n",
    "print(\"np.argmax    =\",np.argmax(x)) \n",
    "#if there is a nan value in an array, it returns index of nan value.\n",
    "\n",
    "\n",
    "print(\"np.nanargmax =\",np.nanargmax(x))"
   ]
  },
  {
   "cell_type": "markdown",
   "id": "0ec2a00c-6049-4b3f-91e9-fc3171341d41",
   "metadata": {},
   "source": [
    "<img src=\"np_agg.png\" alt=\"cce\" border=\"0\">"
   ]
  },
  {
   "cell_type": "code",
   "execution_count": null,
   "id": "2791a628-4040-4b47-afdb-1e383d72e1a9",
   "metadata": {},
   "outputs": [],
   "source": []
  }
 ],
 "metadata": {
  "kernelspec": {
   "display_name": "Python 3 (ipykernel)",
   "language": "python",
   "name": "python3"
  },
  "language_info": {
   "codemirror_mode": {
    "name": "ipython",
    "version": 3
   },
   "file_extension": ".py",
   "mimetype": "text/x-python",
   "name": "python",
   "nbconvert_exporter": "python",
   "pygments_lexer": "ipython3",
   "version": "3.11.5"
  }
 },
 "nbformat": 4,
 "nbformat_minor": 5
}
