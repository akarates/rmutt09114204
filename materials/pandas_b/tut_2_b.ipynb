{
 "cells": [
  {
   "cell_type": "markdown",
   "id": "e1c8cfe4-b99f-4198-a093-01d533435f5c",
   "metadata": {},
   "source": [
    "# การจัดการข้อมูลด้วย Pandas ใน Python\n",
    "## การปรับแต่งและแปลงข้อมูล\n",
    "### สรุปบทเรียนที่แล้ว\n",
    "\n",
    "- เรียนรู้วิธีการเลือกข้อมูลจาก DataFrame และ Series\n",
    "- การเข้าถึงข้อมูลด้วยวิธีต่าง ๆ\n",
    "- ความสำคัญของการเลือกข้อมูลที่ถูกต้องเพื่อการวิเคราะห์"
   ]
  },
  {
   "cell_type": "markdown",
   "id": "e2d26a89-7552-4c0d-ba21-1f589d823990",
   "metadata": {},
   "source": [
    "### วัตถุประสงค์\n",
    "- เรียนรู้การใช้ฟังก์ชันสรุปข้อมูล (Summary Functions)\n",
    "- เข้าใจการใช้ฟังก์ชันแบบไม่ระบุชื่อ (Anonymous Functions)\n",
    "- เรียนรู้การแปลงข้อมูลด้วย map() และ apply()\n",
    "- ฝึกปฏิบัติการแปลงข้อมูลในรูปแบบต่าง ๆ"
   ]
  },
  {
   "cell_type": "code",
   "execution_count": null,
   "id": "c68b8f93-184e-4e7d-aeae-063c959791ae",
   "metadata": {},
   "outputs": [],
   "source": [
    "import pandas as pd\n",
    "\n",
    "reviews = pd.read_csv(\"datasets/winemag-data-130k-v2.csv\", index_col=0)"
   ]
  },
  {
   "cell_type": "code",
   "execution_count": null,
   "id": "b9209e43-0529-4b12-be12-b0bff956ba32",
   "metadata": {},
   "outputs": [],
   "source": [
    "reviews"
   ]
  },
  {
   "cell_type": "markdown",
   "id": "61746f3f-d635-4eb9-8bef-2ae8fb4998aa",
   "metadata": {},
   "source": [
    "## ฟังก์ชันสรุปข้อมูล (Summary Functions)\n",
    "- ฟังก์ชันที่ช่วยปรับโครงสร้างข้อมูลให้อยู่ในรูปแบบที่เป็นประโยชน์\n",
    "- ใช้เพื่อวิเคราะห์และทำความเข้าใจข้อมูลอย่างรวดเร็ว\n",
    "- For example, consider the describe() method:"
   ]
  },
  {
   "cell_type": "code",
   "execution_count": null,
   "id": "74ba978c-0967-42d9-9bc7-8c918b48e61f",
   "metadata": {},
   "outputs": [],
   "source": [
    "reviews.describe()"
   ]
  },
  {
   "cell_type": "code",
   "execution_count": null,
   "id": "6604552b-587f-474e-ae49-7267ebef95d4",
   "metadata": {},
   "outputs": [],
   "source": [
    "# สำหรับข้อมูลตัวเลข\n",
    "reviews.points.describe()"
   ]
  },
  {
   "cell_type": "code",
   "execution_count": null,
   "id": "840ca13a-33b5-44d6-957b-68cf0e7eb19d",
   "metadata": {},
   "outputs": [],
   "source": [
    "# การใช้ describe() กับหลายคอลัมน์สำหรับข้อมูลตัวเลขพร้อมกัน\n",
    "reviews[['points', 'price']].describe()"
   ]
  },
  {
   "cell_type": "code",
   "execution_count": null,
   "id": "cd9f4fef-d5cf-4634-a83d-95ea16258210",
   "metadata": {},
   "outputs": [],
   "source": [
    "# สำหรับข้อมูลประเภทข้อความ\n",
    "reviews.taster_name.describe()"
   ]
  },
  {
   "cell_type": "code",
   "execution_count": null,
   "id": "98e44b96-7390-4844-bc03-e5f1c018ace4",
   "metadata": {},
   "outputs": [],
   "source": [
    "# การใช้ describe() กับหลายคอลัมน์สำหรับข้อมูลประเภทข้อความพร้อมกัน\n",
    "reviews[['country', 'taster_name']].describe()"
   ]
  },
  {
   "cell_type": "code",
   "execution_count": null,
   "id": "dc602e85-7489-4b27-b9e6-480aeef321a2",
   "metadata": {},
   "outputs": [],
   "source": [
    "# การใช้ describe() กับหลายคอลัมน์สำหรับข้อมูลผสมพร้อมกัน\n",
    "reviews[['country','taster_name','points']].describe()"
   ]
  },
  {
   "cell_type": "markdown",
   "id": "5a0eaad9-ca29-4858-9e63-5b3a505c0a6a",
   "metadata": {},
   "source": [
    "ถ้าเราต้องการข้อมูลสถิติสรุปแบบง่ายๆ เกี่ยวกับคอลัมน์ใน DataFrame หรือ Series โดยทั่วไปจะมีฟังก์ชัน(method) pandas ที่เป็นประโยชน์ซึ่งจะช่วยให้ทำได้ ตัวอย่างเช่น "
   ]
  },
  {
   "cell_type": "code",
   "execution_count": null,
   "id": "b4e4ee34-d105-4208-ab17-a0ca4faab75e",
   "metadata": {},
   "outputs": [],
   "source": [
    "# หาค่าเฉลี่ยใช้ mean()\n",
    "reviews.points.mean()"
   ]
  },
  {
   "cell_type": "code",
   "execution_count": null,
   "id": "ca548761-b7ed-4a94-86d1-5542bf58048b",
   "metadata": {},
   "outputs": [],
   "source": [
    "# ดูค่าที่ไม่ซ้ำใช้ unique()\n",
    "reviews.taster_name.unique()"
   ]
  },
  {
   "cell_type": "code",
   "execution_count": null,
   "id": "b3868bdf-14d9-4108-8829-300d964ace72",
   "metadata": {},
   "outputs": [],
   "source": [
    "# นับจำนวนค่าที่ซ้ำกันใช้ value_counts()\n",
    "reviews.taster_name.value_counts()"
   ]
  },
  {
   "cell_type": "code",
   "execution_count": null,
   "id": "3e14c064-5408-49f2-ae77-3ec961aa2477",
   "metadata": {},
   "outputs": [],
   "source": [
    "reviews.points.value_counts()"
   ]
  },
  {
   "cell_type": "markdown",
   "id": "955b32bf-ef50-4a01-83f7-29886147fd20",
   "metadata": {},
   "source": [
    "## ฟังก์ชันแบบไม่ระบุชื่อ (Anonymous Functions)\n",
    "- เรียกอีกอย่างว่า Lambda Function\n",
    "- เป็นฟังก์ชันที่ไม่จำเป็นต้องมีชื่อ\n",
    "- เขียนสั้น ๆ ในบรรทัดเดียว\n",
    "- เหมาะสำหรับฟังก์ชันง่าย ๆ ที่ใช้เพียงครั้งเดียว"
   ]
  },
  {
   "cell_type": "code",
   "execution_count": null,
   "id": "f8d89e12-0374-4fbb-a694-0b10278692cd",
   "metadata": {},
   "outputs": [],
   "source": [
    "# ฟังก์ชันแบบปกติ\n",
    "def f(x):\n",
    "    return x**2 + x - 1"
   ]
  },
  {
   "cell_type": "code",
   "execution_count": null,
   "id": "0c150e81-12ef-498d-8115-51cdcc32489f",
   "metadata": {},
   "outputs": [],
   "source": [
    "# ฟังก์ชันแบบ lambda\n",
    "g = lambda x: x**2 + x - 1"
   ]
  },
  {
   "cell_type": "code",
   "execution_count": null,
   "id": "d1b03378-8b56-443b-a14d-4333898ee387",
   "metadata": {},
   "outputs": [],
   "source": [
    "# ทั้งสองฟังก์ชันให้ผลลัพธ์เหมือนกัน\n",
    "x = 10\n",
    "print('f(x) =',f(x))\n",
    "print('g(x) =',g(x))"
   ]
  },
  {
   "cell_type": "code",
   "execution_count": null,
   "id": "e09d8b43-2959-40fc-b8be-ea3e50d8b38e",
   "metadata": {},
   "outputs": [],
   "source": [
    "# ฟังก์ชัน lambda ที่รับหลายตัวแปร\n",
    "h = lambda x, y, z: x**2 + y**2 + z**2\n",
    " "
   ]
  },
  {
   "cell_type": "code",
   "execution_count": null,
   "id": "a845b5e7-39c4-4a95-af43-fc72a2f1a064",
   "metadata": {},
   "outputs": [],
   "source": [
    "# ทดสอบการใช้งาน\n",
    "x, y, z = 0, 1, 1\n",
    "value = h(x, y, z)\n",
    "print(value)"
   ]
  },
  {
   "cell_type": "markdown",
   "id": "11bf95a3-6eea-4abc-ac20-210b40b42d61",
   "metadata": {},
   "source": [
    "## Map คืออะไร?\n",
    "- Map คือการแปลงค่าจากชุดข้อมูลหนึ่งไปเป็นอีกชุดข้อมูลหนึ่ง\n",
    "- ใช้ในการสร้างข้อมูลรูปแบบใหม่จากข้อมูลที่มีอยู่\n",
    "- ใช้ในการแปลงข้อมูลจากรูปแบบหนึ่งไปเป็นอีกรูปแบบหนึ่ง\n",
    "- Pandas มีวิธีการ Map สองแบบหลัก ๆ: map() และ apply()"
   ]
  },
  {
   "cell_type": "markdown",
   "id": "6a46bd8d-fbed-4e7e-9a37-2c23f109c2c7",
   "metadata": {},
   "source": [
    "### การใช้ map()\n",
    "- ใช้กับ Series (คอลัมน์เดียว)\n",
    "- ส่งผ่านค่าแต่ละค่าในคอลัมน์ไปยังฟังก์ชัน\n",
    "- คืนค่าเป็น Series ใหม่"
   ]
  },
  {
   "cell_type": "code",
   "execution_count": null,
   "id": "4b38ca3b-54f1-420c-9b69-b64b3cc3bd13",
   "metadata": {},
   "outputs": [],
   "source": [
    "review_points_mean = reviews.points.mean()\n",
    "reviews.points.map(lambda p: p - review_points_mean)"
   ]
  },
  {
   "cell_type": "markdown",
   "id": "c42f27d7-f2f5-4e2d-84a5-4a2eeb17e3f2",
   "metadata": {},
   "source": [
    "### การใช้ apply()\n",
    "- ใช้กับ DataFrame ทั้งหมด\n",
    "- สามารถแปลงข้อมูลทั้งแถวหรือทั้งคอลัมน์\n",
    "- สามารถทำงานที่ซับซ้อนกว่า map()"
   ]
  },
  {
   "cell_type": "code",
   "execution_count": null,
   "id": "1c43f146-611d-4516-8474-3efbdfc8335e",
   "metadata": {},
   "outputs": [],
   "source": [
    "def remean_points(row):\n",
    "    row['points'] = row['points'] - review_points_mean\n",
    "    return row"
   ]
  },
  {
   "cell_type": "code",
   "execution_count": null,
   "id": "3894a421-9be0-4771-8005-dc422fc90b9d",
   "metadata": {},
   "outputs": [],
   "source": [
    "reviews.apply(remean_points, axis='columns')"
   ]
  },
  {
   "cell_type": "markdown",
   "id": "ff124d1f-b335-4f28-8a28-a3a18eed89ad",
   "metadata": {},
   "source": [
    "### ความแตกต่างของ axis\n",
    "- `axis='columns'` หรือ `axis=1`: ทำงานกับแถว\n",
    "- `axis='index'` หรือ `axis=0`: ทำงานกับคอลัมน์"
   ]
  },
  {
   "cell_type": "markdown",
   "id": "c1c8f904-30bc-4b36-a3e3-40613f9c23e0",
   "metadata": {},
   "source": [
    "_**ข้อสังเกต**_   \n",
    "map() และ apply() จะ return ค่า Series และ DataFrames ที่ถูกแปลงใหม่ตามลำดับ โดยจะไม่แก้ไขข้อมูลเดิมที่เรียกใช้ หากเราดูที่แถวแรกของreviews เราจะเห็นว่ามันยังคงมีค่าคะแนนเดิมอยู่"
   ]
  },
  {
   "cell_type": "code",
   "execution_count": null,
   "id": "6b867aa9-6209-4ce9-8d4b-b4e7d65e0aaa",
   "metadata": {},
   "outputs": [],
   "source": [
    "reviews.head(1)"
   ]
  },
  {
   "cell_type": "markdown",
   "id": "44df1441-3982-47ff-b08f-6359d039d4ef",
   "metadata": {},
   "source": [
    "## การใช้ Operator เพื่อความเร็วในการคำนวณ\n",
    "- Pandas มีการดำเนินการแมป (mapping) ที่ใช้บ่อยหลายอย่างเป็นฟังก์ชัน built-ins ในตัว\n",
    "- Pandas เข้าใจการทำงานระหว่าง Series กับ single value\n",
    "- มีความเร็วสูงกว่าการใช้ map() หรือ apply()"
   ]
  },
  {
   "cell_type": "code",
   "execution_count": null,
   "id": "cdafd70f-b23d-4651-9e4d-d4cb138c48e3",
   "metadata": {},
   "outputs": [],
   "source": [
    "review_points_mean = reviews.points.mean()\n",
    "reviews.points - review_points_mean"
   ]
  },
  {
   "cell_type": "markdown",
   "id": "291e01aa-a661-4780-a904-467b075c8641",
   "metadata": {},
   "source": [
    "จากคำสั่ง Code ด้านบนนี้ เราจะดำเนินการระหว่างค่าต่างๆ มากมายทางด้านซ้ายมือ (ทุกค่าในซีรีส์) และค่าเดียวทางด้านขวามือ (ค่าเฉลี่ย) Pandas จะพิจารณานิพจน์นี้และคำนวณว่าเราต้องลบค่าเฉลี่ยออกจากค่าทุกค่าในชุดข้อมูล"
   ]
  },
  {
   "cell_type": "markdown",
   "id": "08520ef7-7af1-4f01-89c5-58ba03da7c15",
   "metadata": {},
   "source": [
    "นอกจากนี้ Pandas ยังเข้าใจด้วยว่าต้องทำอย่างไรหากเราดำเนินการเหล่านี้ระหว่างซีรีส์ที่มีความยาวเท่ากัน ตัวอย่างเช่น วิธีง่ายๆ ในการรวมข้อมูลประเทศและภูมิภาคในชุดข้อมูลคือทำดังต่อไปนี้:"
   ]
  },
  {
   "cell_type": "code",
   "execution_count": null,
   "id": "e500fcdb-8671-4d52-8912-917cb5801d7a",
   "metadata": {},
   "outputs": [],
   "source": [
    "# การผสมข้อมูลด้วย Operator : สามารถใช้กับ Series ที่มีความยาวเท่ากัน\n",
    "# การรวมข้อมูลประเทศกับภูมิภาค\n",
    "reviews.country + \" - \" + reviews.region_1"
   ]
  },
  {
   "cell_type": "markdown",
   "id": "7eca7392-a275-467c-9e28-93c28e7ce3dd",
   "metadata": {},
   "source": [
    "## ความแตกต่างระหว่าง Operator และ map()/apply()\n",
    "- Operator: เร็วกว่า แต่ใช้ได้กับการคำนวณพื้นฐาน\n",
    "- map()/apply(): ยืดหยุ่นกว่า สามารถใช้กับโลจิกที่ซับซ้อน"
   ]
  },
  {
   "cell_type": "markdown",
   "id": "3d771670-1293-42a5-8728-6aa55fe3f4c2",
   "metadata": {},
   "source": [
    "# Your turn\n",
    "\n",
    "If you haven't started the exercise, you can now."
   ]
  },
  {
   "cell_type": "code",
   "execution_count": null,
   "id": "1fc7c895-2d66-4047-b98f-0bf69047e698",
   "metadata": {},
   "outputs": [],
   "source": []
  }
 ],
 "metadata": {
  "kernelspec": {
   "display_name": "Python 3 (ipykernel)",
   "language": "python",
   "name": "python3"
  },
  "language_info": {
   "codemirror_mode": {
    "name": "ipython",
    "version": 3
   },
   "file_extension": ".py",
   "mimetype": "text/x-python",
   "name": "python",
   "nbconvert_exporter": "python",
   "pygments_lexer": "ipython3",
   "version": "3.11.5"
  }
 },
 "nbformat": 4,
 "nbformat_minor": 5
}
