{
 "cells": [
  {
   "cell_type": "markdown",
   "id": "3c7dd001-5c49-454b-9b35-b9bbf4084585",
   "metadata": {},
   "source": [
    "# การจัดการข้อมูลสูญหาย\n",
    "การรวบรวมข้อมูลมาวิเคราะห์นั้น บางครั้งอาจจะมีข้อมูลที่ได้มา\n",
    "ไม่ครบบ้าง ตกหล่นหรือขาดหายไปบ้างเรียกส่วนนี้ว่า Missing Data\n",
    "หรือ Missing Value ในหัวข้อนี้จะมาตรวจสอบข้อมูลและจัดการ\n",
    "ข้อมูลสูญหาย (Clean Data)"
   ]
  },
  {
   "cell_type": "code",
   "execution_count": null,
   "id": "a8d68ea4-26a8-4712-884c-5e47007cf556",
   "metadata": {},
   "outputs": [],
   "source": [
    "import pandas as pd\n",
    "\n",
    "df = pd.read_csv(\"datasets/Employee.csv\")\n",
    "df"
   ]
  },
  {
   "cell_type": "code",
   "execution_count": null,
   "id": "4fa6af9a-9a4e-4cf5-b376-ff94d0c708ce",
   "metadata": {},
   "outputs": [],
   "source": [
    "import pandas as pd\n",
    "\n",
    "df = pd.read_csv(\"datasets/Employee.csv\", index_col=\"Name\")\n",
    "df"
   ]
  },
  {
   "cell_type": "code",
   "execution_count": null,
   "id": "97ee9cd4-d29e-432e-94cf-450abe4ce0e6",
   "metadata": {},
   "outputs": [],
   "source": [
    "df.shape"
   ]
  },
  {
   "cell_type": "code",
   "execution_count": null,
   "id": "fe53288d-3f10-480f-b851-245f89bdbccf",
   "metadata": {},
   "outputs": [],
   "source": [
    "df.info()"
   ]
  },
  {
   "cell_type": "code",
   "execution_count": null,
   "id": "410664de-76df-4af0-a25e-093e22072589",
   "metadata": {},
   "outputs": [],
   "source": [
    "#การตรวจสอบข้อมูลสูญหายด้วย isnull()\n",
    "df.isnull()"
   ]
  },
  {
   "cell_type": "code",
   "execution_count": null,
   "id": "d216c93a-2fea-4231-acc9-a21e766fa31a",
   "metadata": {},
   "outputs": [],
   "source": [
    "#ตรวจสอบว่ามีคอลัมน์ใดบ้างที่ไม่มีข้อมูล\n",
    "df.isnull().any()"
   ]
  },
  {
   "cell_type": "code",
   "execution_count": null,
   "id": "32baa502-d867-4af5-ab45-76c890558663",
   "metadata": {},
   "outputs": [],
   "source": [
    "#นับจำนวนคอลัมน์ที่ไม่มีข้อมูล\n",
    "df.isnull().sum()"
   ]
  },
  {
   "cell_type": "code",
   "execution_count": null,
   "id": "a01aa6cd-0ec2-4651-ae27-822d9090af30",
   "metadata": {},
   "outputs": [],
   "source": [
    "#การตรวจสอบข้อมูลครบถ้วนด้วย notnull()\n",
    "df.notnull()"
   ]
  },
  {
   "cell_type": "code",
   "execution_count": null,
   "id": "0cbfa25c-e6b8-4588-a4ed-bea9e3fe1a4f",
   "metadata": {},
   "outputs": [],
   "source": [
    "#ตรวจสอบว่ามีคอลัมน์ใดบ้างที่มีข้อมูล\n",
    "df.notnull().any()"
   ]
  },
  {
   "cell_type": "code",
   "execution_count": null,
   "id": "dddc239f-3038-4fb8-bb2c-e26bdde2a7bd",
   "metadata": {},
   "outputs": [],
   "source": [
    "#นับจำนวนคอลัมน์ที่มีข้อมูล\n",
    "df.isnull().sum()"
   ]
  },
  {
   "cell_type": "markdown",
   "id": "cceaee80-e60b-48c7-b048-aed7ca7a32da",
   "metadata": {},
   "source": [
    "# วิธีจัดการข้อมูลสูญหาย\n",
    "- แทนที่ด้วยค่าเฉลี่ยข้อมูลทั้งหมด\n",
    "- แทนที่ด้วยค่าตรงๆที่กําหนดขึ้นมา\n",
    "- แทนที่ด้วยค่าก่อนหน้า\n",
    "- แทนที่ด้วยค่าถัดไป\n",
    "- ลบข้อมูล"
   ]
  },
  {
   "cell_type": "markdown",
   "id": "24584c5d-ffb6-4da2-8638-5a7c375db624",
   "metadata": {},
   "source": [
    "### แทนที่ด้วยค่าเฉลี่ยข้อมูลทั้งหมด"
   ]
  },
  {
   "cell_type": "code",
   "execution_count": null,
   "id": "291a31b6-baa3-4ad8-aa7b-123488c67751",
   "metadata": {},
   "outputs": [],
   "source": [
    "df.describe()"
   ]
  },
  {
   "cell_type": "code",
   "execution_count": null,
   "id": "5d0b4508-3373-4966-b587-29c882c03f99",
   "metadata": {},
   "outputs": [],
   "source": [
    "#นำเข้า DataFrame ใหม่\n",
    "df = pd.read_csv(\"datasets/Employee.csv\", index_col=\"Name\")\n",
    "df"
   ]
  },
  {
   "cell_type": "code",
   "execution_count": null,
   "id": "681c0359-3575-4934-8940-6d9711d01118",
   "metadata": {},
   "outputs": [],
   "source": [
    "#แทนที่ด้วยค่าเฉลี่ยข้อมูลทั้งหมด\n",
    "df['Salary'] = df['Salary'].fillna(df['Salary'].mean())\n",
    "df"
   ]
  },
  {
   "cell_type": "markdown",
   "id": "639e0d0e-07ea-4384-8d89-73caa5390d6d",
   "metadata": {},
   "source": [
    "### แทนที่ด้วยค่าตรงๆที่กําหนดขึ้นมา"
   ]
  },
  {
   "cell_type": "code",
   "execution_count": null,
   "id": "843b264c-6f6d-43fb-9907-d236d4005f5f",
   "metadata": {},
   "outputs": [],
   "source": [
    "#นำเข้า DataFrame ใหม่\n",
    "df = pd.read_csv(\"datasets/Employee.csv\", index_col=\"Name\")\n",
    "df"
   ]
  },
  {
   "cell_type": "code",
   "execution_count": null,
   "id": "3cd2c5ef-dc75-4ee3-9237-f9d0bca71ff0",
   "metadata": {},
   "outputs": [],
   "source": [
    "#แทนที่ด้วยค่าตรงๆที่กําหนดขึ้นมา\n",
    "df['Salary'] = df['Salary'].fillna(22000)\n",
    "df"
   ]
  },
  {
   "cell_type": "markdown",
   "id": "07a66737-fb1f-42e8-8ff4-04b68be76c77",
   "metadata": {},
   "source": [
    "### แทนที่ด้วยค่าก่อนหน้า"
   ]
  },
  {
   "cell_type": "code",
   "execution_count": null,
   "id": "933ed28e-0dda-4fe3-91f7-7899df256276",
   "metadata": {},
   "outputs": [],
   "source": [
    "#นำเข้า DataFrame ใหม่\n",
    "df = pd.read_csv(\"datasets/Employee.csv\", index_col=\"Name\")\n",
    "df"
   ]
  },
  {
   "cell_type": "code",
   "execution_count": null,
   "id": "c31a86bc-2046-4735-adc4-7f9d990e1cba",
   "metadata": {},
   "outputs": [],
   "source": [
    "#แทนที่ด้วยค่าก่อนหน้า\n",
    "df.fillna(method='pad')"
   ]
  },
  {
   "cell_type": "markdown",
   "id": "e261154c-6d58-44dc-a7f6-471d2287fbab",
   "metadata": {},
   "source": [
    "### แทนที่ด้วยค่าถัดไป"
   ]
  },
  {
   "cell_type": "code",
   "execution_count": null,
   "id": "769af9da-9447-479c-9217-c02fb9471836",
   "metadata": {},
   "outputs": [],
   "source": [
    "#นำเข้า DataFrame ใหม่\n",
    "df = pd.read_csv(\"datasets/Employee.csv\", index_col=\"Name\")\n",
    "df"
   ]
  },
  {
   "cell_type": "code",
   "execution_count": null,
   "id": "45b8f97f-4822-4900-ab1e-fe1553b380aa",
   "metadata": {},
   "outputs": [],
   "source": [
    "#แทนที่ด้วยค่าถัดไป\n",
    "df.fillna(method='bfill')"
   ]
  },
  {
   "cell_type": "markdown",
   "id": "edfdba06-aa48-4799-8352-70a3d0ebb4dd",
   "metadata": {},
   "source": [
    "### ลบข้อมูล\n",
    "- ลบทิ้งทั้งหมด\n",
    "- ลบแถวบางส่วน\n",
    "- ลบคอลัมน์บางส่วน\n",
    "- ลบค่าซ้ำ"
   ]
  },
  {
   "cell_type": "markdown",
   "id": "8139ee6b-39cb-44f9-9399-ab23b7dbe31a",
   "metadata": {},
   "source": [
    "#### ลบทิ้งทั้งหมด"
   ]
  },
  {
   "cell_type": "code",
   "execution_count": null,
   "id": "07c1ac92-3e38-4e95-81fd-2b5b32963bec",
   "metadata": {},
   "outputs": [],
   "source": [
    "#นำเข้า DataFrame ใหม่\n",
    "df = pd.read_csv(\"datasets/Employee.csv\", index_col=\"Name\")\n",
    "df"
   ]
  },
  {
   "cell_type": "code",
   "execution_count": null,
   "id": "09840989-7a63-4a32-9eb1-2621a879fe48",
   "metadata": {},
   "outputs": [],
   "source": [
    "#ลบทิ้งทั้งหมด\n",
    "df.dropna()"
   ]
  },
  {
   "cell_type": "markdown",
   "id": "c134f8d3-ae21-48cb-9220-7040c2da01b3",
   "metadata": {},
   "source": [
    "#### ลบแถวบางส่วนที่มีค่าว่าง"
   ]
  },
  {
   "cell_type": "code",
   "execution_count": null,
   "id": "c98344b5-7f07-46c9-9e8f-16af3bd536af",
   "metadata": {},
   "outputs": [],
   "source": [
    "#นำเข้า DataFrame ใหม่\n",
    "df = pd.read_csv(\"datasets/Employee.csv\", index_col=\"Name\")\n",
    "df"
   ]
  },
  {
   "cell_type": "code",
   "execution_count": null,
   "id": "f9802974-98b3-429e-8a18-89736eb2885c",
   "metadata": {},
   "outputs": [],
   "source": [
    "#ลบแถวบางส่วนที่มีค่าว่าง\n",
    "df.dropna(subset=['Age','Job'])"
   ]
  },
  {
   "cell_type": "markdown",
   "id": "e9c02fee-da2d-4c51-a404-20924eac679c",
   "metadata": {},
   "source": [
    "#### ลบคอลัมน์บางส่วนที่มีค่าว่าง"
   ]
  },
  {
   "cell_type": "code",
   "execution_count": null,
   "id": "ddad38d6-5b4e-4ad1-b0a3-fdb941e747b5",
   "metadata": {},
   "outputs": [],
   "source": [
    "#นำเข้า DataFrame ใหม่\n",
    "df = pd.read_csv(\"datasets/Employee.csv\", index_col=\"Name\")\n",
    "df"
   ]
  },
  {
   "cell_type": "code",
   "execution_count": null,
   "id": "1a3248ac-714b-4c68-8b65-3c80aa95babd",
   "metadata": {},
   "outputs": [],
   "source": [
    "df.dropna(axis='columns')"
   ]
  },
  {
   "cell_type": "markdown",
   "id": "91967431-42a2-48cd-b573-e8f486acf040",
   "metadata": {},
   "source": [
    "#### ลบค่าซ้ำ"
   ]
  },
  {
   "cell_type": "code",
   "execution_count": null,
   "id": "f41c4c61-5bf2-40eb-b2b9-f83a17d1e4be",
   "metadata": {},
   "outputs": [],
   "source": [
    "#นำเข้า DataFrame ใหม่\n",
    "df = pd.read_csv(\"datasets/Employee.csv\", index_col=\"Name\")\n",
    "df"
   ]
  },
  {
   "cell_type": "code",
   "execution_count": null,
   "id": "f86b6bf6-c5de-4e26-8e64-c1f37be99904",
   "metadata": {},
   "outputs": [],
   "source": [
    "#เช็คค่าซ้ำ\n",
    "df[df.duplicated]"
   ]
  },
  {
   "cell_type": "code",
   "execution_count": null,
   "id": "1291b282-9850-4956-825d-5fc87441fa84",
   "metadata": {},
   "outputs": [],
   "source": [
    "#ลบค่าซ้ำ\n",
    "df.drop_duplicates()"
   ]
  },
  {
   "cell_type": "code",
   "execution_count": null,
   "id": "f263c45c-7e1f-4131-9f47-23b55d0b5539",
   "metadata": {},
   "outputs": [],
   "source": []
  }
 ],
 "metadata": {
  "kernelspec": {
   "display_name": "Python 3 (ipykernel)",
   "language": "python",
   "name": "python3"
  },
  "language_info": {
   "codemirror_mode": {
    "name": "ipython",
    "version": 3
   },
   "file_extension": ".py",
   "mimetype": "text/x-python",
   "name": "python",
   "nbconvert_exporter": "python",
   "pygments_lexer": "ipython3",
   "version": "3.11.5"
  }
 },
 "nbformat": 4,
 "nbformat_minor": 5
}
