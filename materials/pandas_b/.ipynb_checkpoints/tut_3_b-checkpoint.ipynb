{
 "cells": [
  {
   "cell_type": "markdown",
   "metadata": {},
   "source": [
    "# Introduction\n",
    "\n",
    "Maps allow us to transform data in a DataFrame or Series one value at a time for an entire column. However, often we want to group our data, and then do something specific to the group the data is in. \n",
    "\n",
    "As you'll learn, we do this with the `groupby()` operation.  We'll also cover some additional topics, such as more complex ways to index your DataFrames, along with how to sort your data.\n"
   ]
  },
  {
   "cell_type": "markdown",
   "metadata": {},
   "source": [
    "# Understanding Groupby¶\n",
    "ฟังก์ชัน groupby() ใน Pandas จะแบ่งข้อมูลทั้งหมดจากชุดข้อมูลออกเป็นหมวดหมู่หรือกลุ่มต่างๆ ทำให้สามารถ วิเคราะห์ข้อมูล ตามกลุ่มต่างๆ ได้อย่างยืดหยุ่น\n",
    "\n",
    "Here's a super simple dataframe to illustrate some examples. We'll be grouping the data by the \"animal\" column where there are four categories of animals:\n",
    "\n",
    "- alligators\n",
    "- cats\n",
    "- snakes\n",
    "- hamsters"
   ]
  },
  {
   "cell_type": "code",
   "execution_count": null,
   "metadata": {},
   "outputs": [],
   "source": [
    "import numpy as np\n",
    "import pandas as pd\n",
    "import random\n",
    "\n",
    "# Random pets column\n",
    "pet_list = [\"cat\", \"hamster\", \"alligator\", \"snake\"]\n",
    "pet = [random.choice(pet_list) for i in range(1,15)]\n",
    "\n",
    "# Random weight of animal column\n",
    "weight = [random.choice(range(5,15)) for i in range(1,15)]\n",
    "\n",
    "# Random length of animals column\n",
    "length = [random.choice(range(1,10)) for i in range(1,15)]\n",
    "\n",
    "# random age of the animals column\n",
    "age = [random.choice(range(1,15)) for i in range(1,15)]\n",
    "\n",
    "# Put everyhting into a dataframe\n",
    "df = pd.DataFrame()\n",
    "df[\"animal\"] = pet\n",
    "df[\"age\"] = age\n",
    "df[\"weight\"] = weight\n",
    "df[\"length\"] = length\n",
    "\n",
    "# make a groupby object\n",
    "animal_groups = df.groupby(\"animal\")"
   ]
  },
  {
   "cell_type": "code",
   "execution_count": null,
   "metadata": {},
   "outputs": [],
   "source": [
    "df"
   ]
  },
  {
   "cell_type": "markdown",
   "metadata": {},
   "source": [
    "- เราสามารถถามเกี่ยวกับข้อมูลสัตว์ได้ก็คือ \n",
    "- หากต้องการหาค่าเฉลี่ย(**mean**)ของน้ำหนักของสัตว์แต่ละประเภท เราจะจัดกลุ่มสัตว์ตามประเภทของสัตว์ จากนั้นจึงใช้ฟังก์ชันค่าเฉลี่ย\n",
    "- เราสามารถใช้ฟังก์ชันอื่นๆ ได้เช่นกัน\n",
    "- เราสามารถใช้ \"**sum**\" เพื่อหาผลรวมน้ำหนักทั้งหมด\n",
    "- \"**min**\" เพื่อค้นหาน้ำหนักต่ำสุด\n",
    "- \"**max**\" เพื่อค้นหาน้ำหนักสูงสุด\n",
    "- หรือ \"**count**\" เพื่อค้นหาจำนวนสัตว์แต่ละประเภท"
   ]
  },
  {
   "cell_type": "markdown",
   "metadata": {},
   "source": [
    "<img src=\"groupby00.png\" alt=\"cce\" border=\"0\">"
   ]
  },
  {
   "cell_type": "markdown",
   "metadata": {},
   "source": [
    "These two lines of code group the animals then apply the mean function to the weight column."
   ]
  },
  {
   "cell_type": "code",
   "execution_count": null,
   "metadata": {},
   "outputs": [],
   "source": [
    "# Group by animal category\n",
    "animal_groups = df.groupby(\"animal\")\n",
    "# Apply mean function to wieght column\n",
    "animal_groups['weight'].mean()"
   ]
  },
  {
   "cell_type": "markdown",
   "metadata": {},
   "source": [
    "<img src=\"groupby01.png\" alt=\"cce\" border=\"0\">"
   ]
  },
  {
   "cell_type": "markdown",
   "metadata": {},
   "source": [
    "<img src=\"groupby02.png\" alt=\"cce\" border=\"0\">"
   ]
  },
  {
   "cell_type": "markdown",
   "metadata": {},
   "source": [
    "<img src=\"groupby03.png\" alt=\"cce\" border=\"0\">"
   ]
  },
  {
   "cell_type": "markdown",
   "metadata": {},
   "source": [
    "<img src=\"groupby04.png\" alt=\"cce\" border=\"0\">"
   ]
  },
  {
   "cell_type": "code",
   "execution_count": null,
   "metadata": {},
   "outputs": [],
   "source": [
    "df.groupby(\"animal\").size()"
   ]
  },
  {
   "cell_type": "code",
   "execution_count": null,
   "metadata": {},
   "outputs": [],
   "source": [
    "df.groupby(\"animal\").count()"
   ]
  },
  {
   "cell_type": "code",
   "execution_count": null,
   "metadata": {},
   "outputs": [],
   "source": [
    "df.groupby(\"animal\")[\"weight\"].count()"
   ]
  },
  {
   "cell_type": "code",
   "execution_count": null,
   "metadata": {},
   "outputs": [],
   "source": [
    "df.groupby(\"weight\")[\"animal\"].count()"
   ]
  },
  {
   "cell_type": "code",
   "execution_count": null,
   "metadata": {},
   "outputs": [],
   "source": [
    "df.groupby(\"weight\")[\"animal\"].max()"
   ]
  },
  {
   "cell_type": "markdown",
   "metadata": {},
   "source": [
    "## Next Example"
   ]
  },
  {
   "cell_type": "code",
   "execution_count": null,
   "metadata": {},
   "outputs": [],
   "source": [
    "import pandas as pd\n",
    "\n",
    "reviews = pd.read_csv(\"datasets/winemag-data-52.csv\", index_col=0)\n",
    "reviews"
   ]
  },
  {
   "cell_type": "code",
   "execution_count": null,
   "metadata": {},
   "outputs": [],
   "source": [
    "#เช็คว่า DataFrame มีคอลัมน์อะไรบ้าง\n",
    "reviews.columns"
   ]
  },
  {
   "cell_type": "code",
   "execution_count": null,
   "metadata": {},
   "outputs": [],
   "source": [
    "#แสดงผลทางสถิติโดยยึด country เป็นหลัก\n",
    "reviews.groupby('country').describe()"
   ]
  },
  {
   "cell_type": "code",
   "execution_count": null,
   "metadata": {},
   "outputs": [],
   "source": [
    "reviews.groupby('country').size()"
   ]
  },
  {
   "cell_type": "code",
   "execution_count": null,
   "metadata": {},
   "outputs": [],
   "source": [
    "#นับจำนวนทุกคอลัมน์โดยยึด country เป็นหลัก\n",
    "reviews.groupby('country').count()"
   ]
  },
  {
   "cell_type": "code",
   "execution_count": null,
   "metadata": {},
   "outputs": [],
   "source": [
    "reviews.groupby('points').size()"
   ]
  },
  {
   "cell_type": "code",
   "execution_count": null,
   "metadata": {},
   "outputs": [],
   "source": [
    "#นับจำนวนทุกคอลัมน์โดยยึด points เป็นหลัก\n",
    "reviews.groupby('points').count()"
   ]
  },
  {
   "cell_type": "code",
   "execution_count": null,
   "metadata": {},
   "outputs": [],
   "source": [
    "#นับจำนวนคอลัมน์ price โดยยึด points เป็นหลัก\n",
    "reviews.groupby('points').price.count()"
   ]
  },
  {
   "cell_type": "code",
   "execution_count": null,
   "metadata": {},
   "outputs": [],
   "source": [
    "#นับจำนวนคอลัมน์ country โดยยึด points เป็นหลัก\n",
    "reviews.groupby('points').country.count()"
   ]
  },
  {
   "cell_type": "code",
   "execution_count": null,
   "metadata": {},
   "outputs": [],
   "source": [
    "#นับจำนวนคอลัมน์ country แยกแต่ละ value(ประเทศ) โดยยึด points เป็นหลัก\n",
    "reviews.groupby('points').country.value_counts()"
   ]
  },
  {
   "cell_type": "code",
   "execution_count": null,
   "metadata": {},
   "outputs": [],
   "source": [
    "#นับจำนวนคอลัมน์ price แยกแต่ละ value(ราคา) โดยยึด points เป็นหลัก\n",
    "reviews.groupby('points').price.value_counts()"
   ]
  },
  {
   "cell_type": "markdown",
   "metadata": {},
   "source": [
    "`groupby()` created a group of reviews which allotted the same point values to the given wines. Then, for each of these groups, we grabbed the `points()` column and counted how many times it appeared.  `value_counts()` is just a shortcut to this `groupby()` operation. \n",
    "\n",
    "We can use any of the summary functions we've used before with this data. For example, to get the cheapest wine in each point value category, we can do the following:"
   ]
  },
  {
   "cell_type": "code",
   "execution_count": null,
   "metadata": {
    "scrolled": true
   },
   "outputs": [],
   "source": [
    "#แสดงผลค่าน้อยที่สุดในคอลัมน์ price โดยยึด points เป็นหลัก\n",
    "reviews.groupby('points').price.min()"
   ]
  },
  {
   "cell_type": "markdown",
   "metadata": {},
   "source": [
    "You can think of each group we generate as being a slice of our DataFrame containing only data with values that match. This DataFrame is accessible to us directly using the `apply()` method, and we can then manipulate the data in any way we see fit. For example, here's one way of selecting the name of the first wine reviewed from each winery in the dataset:"
   ]
  },
  {
   "cell_type": "markdown",
   "metadata": {},
   "source": [
    "### การใช้ apply() กับ groupby()\n",
    "เราสามารถใช้ apply() เพื่อทำงานกับข้อมูลในแต่ละกลุ่มได้อย่างยืดหยุ่น"
   ]
  },
  {
   "cell_type": "code",
   "execution_count": null,
   "metadata": {},
   "outputs": [],
   "source": [
    "#แสดงผลชื่อแรกในคอลัมน์ title โดยยึด points เป็นหลัก\n",
    "reviews.groupby('points').apply(lambda df: df.title.iloc[0])"
   ]
  },
  {
   "cell_type": "code",
   "execution_count": null,
   "metadata": {},
   "outputs": [],
   "source": [
    "#แสดงผลชื่อแรกในคอลัมน์ title โดยยึด winery เป็นหลัก(เลือกชื่อไวน์รายการแรกที่รีวิวจากแต่ละโรงไวน์)\n",
    "reviews.groupby('winery').apply(lambda df: df.title.iloc[0])\n"
   ]
  },
  {
   "cell_type": "code",
   "execution_count": null,
   "metadata": {},
   "outputs": [],
   "source": [
    "reviews.groupby('winery').title.count()"
   ]
  },
  {
   "cell_type": "markdown",
   "metadata": {},
   "source": [
    "For even more fine-grained control, you can also group by more than one column. For an example, here's how we would pick out the best wine by country _and_ province:"
   ]
  },
  {
   "cell_type": "code",
   "execution_count": null,
   "metadata": {},
   "outputs": [],
   "source": [
    "#เลือกไวน์ที่คะแนนดีที่สุดตามประเทศ\n",
    "reviews.groupby(['country']).apply(lambda df: df.loc[df.points.idxmax()])"
   ]
  },
  {
   "cell_type": "code",
   "execution_count": null,
   "metadata": {},
   "outputs": [],
   "source": [
    "#เลือกไวน์ที่คะแนนดีที่สุดตามจังหวัด\n",
    "reviews.groupby(['province']).apply(lambda df: df.loc[df.points.idxmax()])"
   ]
  },
  {
   "cell_type": "code",
   "execution_count": null,
   "metadata": {},
   "outputs": [],
   "source": [
    "#สามารถจัดกลุ่มได้มากกว่าหนึ่งคอลัมน์ \n",
    "#ตัวอย่างเช่น เราจะเลือกไวน์ที่คะแนนดีที่สุดตามประเทศและจังหวัดได้อย่างไร:\n",
    "reviews.groupby(['country', 'province']).apply(lambda df: df.loc[df.points.idxmax()])\n"
   ]
  },
  {
   "cell_type": "markdown",
   "metadata": {},
   "source": [
    "Another `groupby()` method worth mentioning is `agg()`, which lets you run a bunch of different functions on your DataFrame simultaneously. For example, we can generate a simple statistical summary of the dataset as follows:"
   ]
  },
  {
   "cell_type": "markdown",
   "metadata": {},
   "source": [
    "### การใช้ agg() กับ groupby()\n",
    "ฟังก์ชัน agg() (Aggregate functionคือฟังก์ชันสรุปผล เช่น len,min,max,sum,count,mean,median) ช่วยให้เราสามารถทำการวิเคราะห์หลายรูปแบบพร้อมกัน"
   ]
  },
  {
   "cell_type": "code",
   "execution_count": null,
   "metadata": {},
   "outputs": [],
   "source": [
    "#เราสามารถใช้คือ agg()  \n",
    "reviews.groupby(['country']).price.agg([len, min, max])"
   ]
  },
  {
   "cell_type": "markdown",
   "metadata": {},
   "source": [
    "Effective use of `groupby()` will allow you to do lots of really powerful things with your dataset."
   ]
  },
  {
   "cell_type": "markdown",
   "metadata": {},
   "source": [
    "# Multi-indexes\n",
    "\n",
    "In all of the examples we've seen thus far we've been working with DataFrame or Series objects with a single-label index. `groupby()` is slightly different in the fact that, depending on the operation we run, it will sometimes result in what is called a multi-index.\n",
    "\n",
    "A multi-index differs from a regular index in that it has multiple levels. For example:"
   ]
  },
  {
   "cell_type": "markdown",
   "metadata": {},
   "source": [
    "เมื่อค่าของคอลัมน์เดียวไม่เพียงพอที่จะระบุแถวได้อย่างชัดเจน (เช่น ระเบียนหลายรายการในวันที่เดียวกัน หมายความว่าวันที่เพียงอย่างเดียวไม่เหมาะเป็นดัชนี)\n",
    "เมื่อข้อมูลมีลำดับชั้นเชิงตรรกะ ซึ่งหมายความว่ามีมิติหรือ \"ระดับ\" หลายระดับ\n",
    "นอกจากโครงสร้างแล้ว ดัชนีหลายดัชนียังช่วยให้เรียกค้นข้อมูลที่ซับซ้อนในหน่วยความจำได้ค่อนข้างง่าย"
   ]
  },
  {
   "cell_type": "code",
   "execution_count": null,
   "metadata": {
    "scrolled": true
   },
   "outputs": [],
   "source": [
    "countries_reviewed = reviews.groupby(['country', 'province']).title.agg([len])\n",
    "countries_reviewed"
   ]
  },
  {
   "cell_type": "code",
   "execution_count": null,
   "metadata": {},
   "outputs": [],
   "source": [
    "countries_reviewed.index"
   ]
  },
  {
   "cell_type": "code",
   "execution_count": null,
   "metadata": {},
   "outputs": [],
   "source": [
    "type(countries_reviewed.index)"
   ]
  },
  {
   "cell_type": "markdown",
   "metadata": {},
   "source": [
    "Multi-indices have several methods for dealing with their tiered structure which are absent for single-level indices. They also require two levels of labels to retrieve a value. Dealing with multi-index output is a common \"gotcha\" for users new to pandas.\n",
    "\n",
    "The use cases for a multi-index are detailed alongside instructions on using them in the [MultiIndex / Advanced Selection](https://pandas.pydata.org/pandas-docs/stable/advanced.html) section of the pandas documentation.\n",
    "\n",
    "However, in general the multi-index method you will use most often is the one for converting back to a regular index, the `reset_index()` method:"
   ]
  },
  {
   "cell_type": "code",
   "execution_count": null,
   "metadata": {},
   "outputs": [],
   "source": [
    "countries_reviewed.reset_index()"
   ]
  },
  {
   "cell_type": "code",
   "execution_count": null,
   "metadata": {},
   "outputs": [],
   "source": [
    "type(countries_reviewed.reset_index())"
   ]
  },
  {
   "cell_type": "markdown",
   "metadata": {},
   "source": [
    "# Sorting\n",
    "\n",
    "Looking again at `countries_reviewed` we can see that grouping returns data in index order, not in value order. That is to say, when outputting the result of a `groupby`, the order of the rows is dependent on the values in the index, not in the data.\n",
    "\n",
    "To get data in the order want it in we can sort it ourselves.  The `sort_values()` method is handy for this."
   ]
  },
  {
   "cell_type": "code",
   "execution_count": null,
   "metadata": {},
   "outputs": [],
   "source": [
    "countries_reviewed = countries_reviewed.reset_index()\n",
    "countries_reviewed.sort_values(by='len')"
   ]
  },
  {
   "cell_type": "code",
   "execution_count": null,
   "metadata": {},
   "outputs": [],
   "source": [
    "countries_reviewed.sort_values('len')"
   ]
  },
  {
   "cell_type": "markdown",
   "metadata": {},
   "source": [
    "`sort_values()` defaults to an ascending sort, where the lowest values go first. However, most of the time we want a descending sort, where the higher numbers go first. That goes thusly:"
   ]
  },
  {
   "cell_type": "code",
   "execution_count": null,
   "metadata": {},
   "outputs": [],
   "source": [
    "countries_reviewed.sort_values(by='len').iloc[::-1]"
   ]
  },
  {
   "cell_type": "code",
   "execution_count": null,
   "metadata": {},
   "outputs": [],
   "source": [
    "countries_reviewed.sort_values(by='len', ascending=False)"
   ]
  },
  {
   "cell_type": "markdown",
   "metadata": {},
   "source": [
    "To sort by index values, use the companion method `sort_index()`. This method has the same arguments and default order:"
   ]
  },
  {
   "cell_type": "code",
   "execution_count": null,
   "metadata": {},
   "outputs": [],
   "source": [
    "countries_reviewed.sort_index()"
   ]
  },
  {
   "cell_type": "markdown",
   "metadata": {},
   "source": [
    "Finally, know that you can sort by more than one column at a time:"
   ]
  },
  {
   "cell_type": "code",
   "execution_count": null,
   "metadata": {},
   "outputs": [],
   "source": [
    "countries_reviewed.sort_values(by=['country', 'len'])"
   ]
  },
  {
   "cell_type": "markdown",
   "metadata": {},
   "source": [
    "# Your turn\n",
    "\n",
    "If you haven't started the exercise, you can start now."
   ]
  },
  {
   "cell_type": "markdown",
   "metadata": {},
   "source": [
    "----------"
   ]
  }
 ],
 "metadata": {
  "kernelspec": {
   "display_name": "Python 3 (ipykernel)",
   "language": "python",
   "name": "python3"
  },
  "language_info": {
   "codemirror_mode": {
    "name": "ipython",
    "version": 3
   },
   "file_extension": ".py",
   "mimetype": "text/x-python",
   "name": "python",
   "nbconvert_exporter": "python",
   "pygments_lexer": "ipython3",
   "version": "3.11.5"
  }
 },
 "nbformat": 4,
 "nbformat_minor": 4
}
