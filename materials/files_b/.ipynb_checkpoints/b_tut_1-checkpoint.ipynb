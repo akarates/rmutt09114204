{
 "cells": [
  {
   "cell_type": "markdown",
   "id": "48ec7c7c-5fbf-4342-be7b-e3b805026f41",
   "metadata": {},
   "source": [
    "# File Handling (การจัดการไฟล์)"
   ]
  },
  {
   "cell_type": "markdown",
   "id": "da9cc85e-c657-4b5d-8c41-167822076526",
   "metadata": {},
   "source": [
    "## What Is a File? (ไฟล์คืออะไร)\n",
    "\n",
    "ไฟล์คือที่เก็บข้อมูลแบบถาวร ซึ่งไฟล์ต่างจากหน่วยความจำ (memory) ตรงที่หน่วยความจำเป็นที่เก็บข้อมูลชั่วคราว เมื่อปิดเครื่องคอมพิวเตอร์แล้วข้อมูลที่เก็บอยู่ในหน่วยความจำก็จะหายไปด้วยทุกครั้ง ต่างจากไฟล์ที่เมื่อทำการเก็บข้อมูลลงไฟล์แล้วข้อมูลจะถูกเก็บอย่างถาวรไม่ว่าจะปิดหรือเปิดเครื่องกี่ครั้งก็ตาม ข้อมูลก็จะยังคงไม่สูญหาย\n"
   ]
  },
  {
   "cell_type": "markdown",
   "id": "ea8c75fd-9af0-426c-8299-4aa5d6b0c109",
   "metadata": {},
   "source": [
    "## Working with files (การทำงานกับไฟล์)"
   ]
  },
  {
   "cell_type": "markdown",
   "id": "73f440e6-931f-4c4d-a8d9-12626b490ba2",
   "metadata": {},
   "source": [
    "### Opening and Closing a File in Python(การเปิดและปิดไฟล์ในไพธอน)\n",
    "เมื่อคุณต้องการทำงานกับไฟล์ สิ่งแรกที่ต้องทำคือเปิดไฟล์ โดยเรียกใช้ [`open()` built-in function](https://docs.python.org/3/library/functions.html#open). "
   ]
  },
  {
   "cell_type": "code",
   "execution_count": 1,
   "id": "d26f53fc-fd57-4521-a823-b6d9c7a8e9aa",
   "metadata": {},
   "outputs": [],
   "source": [
    "file = open('dog_breeds.txt')"
   ]
  },
  {
   "cell_type": "markdown",
   "id": "11a1e099-b419-4faf-9b37-066f9d12ce9b",
   "metadata": {},
   "source": [
    "หลังจากเปิดไฟล์แล้ว สิ่งต่อไปที่ต้องเรียนรู้คือวิธีปิดไฟล์ สิ่งสำคัญคือต้องจำไว้ว่าเป็นความรับผิดชอบของคุณในการปิดไฟล์ ในกรณีส่วนใหญ่ เมื่อแอปพลิเคชันหรือสคริปต์สิ้นสุดลง ไฟล์จะถูกปิดในที่สุด อย่างไรก็ตาม ไม่มีการรับประกันว่าจะเกิดขึ้นเมื่อใด ซึ่งอาจนำไปสู่พฤติกรรมที่ไม่พึงประสงค์"
   ]
  },
  {
   "cell_type": "code",
   "execution_count": 2,
   "id": "692ee119-6a8c-44c2-9681-9146514e3990",
   "metadata": {},
   "outputs": [],
   "source": [
    "reader = open('dog_breeds.txt')\n",
    "\n",
    "# Further file processing goes here\n",
    "# ...\n",
    "\n",
    "reader.close()"
   ]
  },
  {
   "cell_type": "markdown",
   "id": "70c119bb-0ddb-4c2c-a05d-a0e2912fe5a1",
   "metadata": {},
   "source": [
    "## Manage files with commands `with` (จัดการไฟล์ด้วยคำสั่ง `with`)"
   ]
  },
  {
   "cell_type": "markdown",
   "id": "0087b156-22b8-42fd-8388-52003a0ee98e",
   "metadata": {},
   "source": [
    "โดยปกติเมื่อเราเรียกฟังก์ชัน `open()` เพื่อเปิดใช้งานไฟล์ เราจะต้องเรียกฟังก์ชัน `close()` เพื่อปิดการใช้งานไฟล์ด้วยทุกครั้งที่ทำงานกับไฟล์เสร็จ เพราะหากไม่สั่งปิดไฟล์ ทรัพยากรต่างๆ ที่ใช้สำหรับการทำงานกับไฟล์นั้นก็จะไม่ถูกคืนให้กับระบบ\n",
    "\n",
    "กรณีที่เรากลัวลืมปิดไฟล์ หรือไม่อยากนั่งกังวลว่าจะลืมปิดไฟล์ที่เปิดหรือไม่ เราสามารถนำคำสั่ง `with` มาใช้ในการเปิดไฟล์ได้"
   ]
  },
  {
   "cell_type": "code",
   "execution_count": 3,
   "id": "d13a7b39-88dc-42d7-a68b-63815dbcbf09",
   "metadata": {},
   "outputs": [],
   "source": [
    "with open('dog_breeds.txt') as reader:\n",
    "    # Further file processing goes here\n",
    "    pass"
   ]
  },
  {
   "cell_type": "markdown",
   "id": "33436bfa-0b38-46e6-8c96-814d4d27b122",
   "metadata": {},
   "source": [
    "สำหรับโหมด (mode) การทำงานกับไฟล์แบ่งออกได้ดังนี้:\n",
    "\n",
    "| Character |\tMeaning |\n",
    "|:-----------:|:-----------|\n",
    "|`'r'`\t| เปิดไฟล์เพื่ออ่านข้อมูลเท่านั้น |\n",
    "| `'w'`\t| เปิดไฟล์เพื่อเขียนข้อมูลเท่านั้น |\n",
    "| `'a'`\t| เปิดไฟล์เพื่อเขียนข้อมูลต่อท้ายไฟล์เดิม (append) |\n"
   ]
  },
  {
   "cell_type": "markdown",
   "id": "6e3cd9e5-98df-470f-9f3e-b960ee9de02e",
   "metadata": {},
   "source": [
    "```python\n",
    "with open('abc.txt', 'r')\n",
    "\n",
    "with open('abc.txt', 'w')\n",
    "\n",
    "with open('abc.txt', 'a')\n",
    "```"
   ]
  },
  {
   "cell_type": "markdown",
   "id": "0dd83328-da7e-4a95-9e71-491d20d2dd9e",
   "metadata": {},
   "source": [
    "# Reading and Writing Opened Files (การอ่านและการเขียนไฟล์ที่เปิดอยู่)\n",
    "\n",
    "เมื่อคุณเปิดไฟล์ขึ้นมาแล้ว คุณจะต้องการอ่านหรือเขียนไฟล์ ก่อนอื่นมาดูการอ่านไฟล์กันก่อน มีวิธีการต่างๆ ที่สามารถเรียกใช้บน file objects ดังนี้:\n",
    "\n",
    "| Method  |\tWhat It Does |\n",
    "|:---------|:--------------|\n",
    "|`.read()` | ใช้สำหรับการอ่านไฟล์ตามขนาดข้อมูล(byte)ที่ระบุ หากไม่ได้ส่งอาร์กิวเมนต์ใดๆ ระบบจะอ่านไฟล์ทั้งหมด|\n",
    "| `.readline()`\t| ใช้สำหรับการอ่านไฟล์จากบรรทัดได้ไม่เกินจำนวนอักขระโดยจะอ่านต่อจนจบบรรทัดแล้วจึงวนกลับมาใหม่ หากไม่มีการส่งอาร์กิวเมนต์ก็จะอ่านทั้งบรรทัด (หรือส่วนที่เหลือของบรรทัด)|\n",
    "| `.readlines()` | ใช้สำหรับการอ่านข้อความทุกบรรทัดในไฟล์ ผลลัพธ์ที่ได้เป็นชนิดข้อมูลลิสต์|\n",
    "\n",
    "ต่อไปเราจะลองใช้ไฟล์ `dog_breeds.txt`เพื่อดูตัวอย่างการใช้งานเมธอดเหล่านี้ นี่คือตัวอย่างการเปิดและอ่านไฟล์ทั้งหมดโดยใช้ `.read()`:\n",
    "\n"
   ]
  },
  {
   "cell_type": "code",
   "execution_count": 4,
   "id": "c380c95a-6261-463a-a22d-d441e0a46531",
   "metadata": {},
   "outputs": [
    {
     "name": "stdout",
     "output_type": "stream",
     "text": [
      "Pug\n",
      "Jack Russell Terrier\n",
      "English Springer Spaniel\n",
      "German Shepherd\n",
      "Staffordshire Bull Terrier\n",
      "Cavalier King Charles Spaniel\n",
      "Golden Retriever\n",
      "West Highland White Terrier\n",
      "Boxer\n",
      "Border Terrier\n"
     ]
    }
   ],
   "source": [
    "with open('dog_breeds.txt', 'r') as reader:\n",
    "    print(reader.read())"
   ]
  },
  {
   "cell_type": "markdown",
   "id": "d1c464f6-8d87-4fe3-a6f1-b4e545f3d7fb",
   "metadata": {},
   "source": [
    "นี่คือตัวอย่างการอ่านไฟล์ 5 ไบต์ต่อบรรทัดในแต่ละครั้งโดยใช้เมธอด Python `.readline()`:"
   ]
  },
  {
   "cell_type": "code",
   "execution_count": 5,
   "id": "7165a93e-063b-4445-b982-0e8eb650c60d",
   "metadata": {},
   "outputs": [
    {
     "name": "stdout",
     "output_type": "stream",
     "text": [
      "Pug\n",
      "\n",
      "Jack \n",
      "Russe\n",
      "ll Te\n",
      "rrier\n"
     ]
    }
   ],
   "source": [
    "with open('dog_breeds.txt', 'r') as reader:\n",
    "    # Read & print the first 5 characters of the line 5 times\n",
    "    print(reader.readline(5))\n",
    "    # Notice that line is greater than the 5 chars and continues\n",
    "    # down the line, reading 5 chars each time until the end of the\n",
    "    # line and then \"wraps\" around\n",
    "    print(reader.readline(5))\n",
    "    print(reader.readline(5))\n",
    "    print(reader.readline(5))\n",
    "    print(reader.readline(5))"
   ]
  },
  {
   "cell_type": "markdown",
   "id": "72e9bddc-7942-48f9-86fd-151740143f4b",
   "metadata": {},
   "source": [
    "นี่คือตัวอย่างการอ่านไฟล์ทั้งหมดเป็นลิสต์โดยใช้เมธอด Python `.readlines()`:"
   ]
  },
  {
   "cell_type": "code",
   "execution_count": 6,
   "id": "15dc4c01-6e28-473b-992a-0273fa95c77b",
   "metadata": {},
   "outputs": [
    {
     "name": "stdout",
     "output_type": "stream",
     "text": [
      "['Pug\\n', 'Jack Russell Terrier\\n', 'English Springer Spaniel\\n', 'German Shepherd\\n', 'Staffordshire Bull Terrier\\n', 'Cavalier King Charles Spaniel\\n', 'Golden Retriever\\n', 'West Highland White Terrier\\n', 'Boxer\\n', 'Border Terrier']\n"
     ]
    }
   ],
   "source": [
    "with open('dog_breeds.txt', 'r') as reader:\n",
    "    print(reader.readlines())"
   ]
  },
  {
   "cell_type": "markdown",
   "id": "33dce2eb-85e0-4458-9f09-c4ab5cf1a041",
   "metadata": {},
   "source": [
    "ตอนนี้เรามาเริ่มเขียนไฟล์กันเลย เช่นเดียวกับการอ่านไฟล์ file objects มีวิธีการต่างๆ ที่เป็นประโยชน์ในการเขียนลงในไฟล์ดังนี้:\n",
    "\n",
    "| Method |\tWhat It Does |\n",
    "|:--------|:---------------|\n",
    "| `.write(string)` | ใช้สำหรับเขียนข้อมูล(string)ลงในไฟล์ |\n",
    "| `.writelines(list)` | ใช้สำหรับเขียนข้อมูลประเภทลิสต์ลงในไฟล์ |\n"
   ]
  },
  {
   "cell_type": "code",
   "execution_count": 7,
   "id": "05e6fc87-7364-4a82-b800-73fbc7638413",
   "metadata": {},
   "outputs": [],
   "source": [
    "with open('dog_breeds.txt', 'r') as reader:\n",
    "    dog_breeds = reader.readlines()\n",
    "    # print(dog_breeds)\n",
    "\n",
    "with open('dog_breeds_reversed.txt', 'w') as writer:\n",
    "    for breed in reversed(dog_breeds):\n",
    "        writer.write(breed)"
   ]
  },
  {
   "cell_type": "markdown",
   "id": "b5ee9e48-7d19-4e22-998c-2483672cf7c3",
   "metadata": {},
   "source": [
    "บางครั้งคุณอาจต้องการผนวกไฟล์หรือเริ่มเขียนที่ท้ายไฟล์ที่มีข้อมูลอยู่แล้ว ซึ่งทำได้ง่ายๆ โดยใช้ตัวอักษร 'a' เป็น mode argument:"
   ]
  },
  {
   "cell_type": "code",
   "execution_count": 8,
   "id": "d646419f-e93b-40ad-8ce1-bb0764c38c2e",
   "metadata": {},
   "outputs": [],
   "source": [
    "with open('dog_breeds.txt', 'a') as a_writer:\n",
    "    a_writer.write('\\nBeagle')"
   ]
  },
  {
   "cell_type": "markdown",
   "id": "e2774a82-6dda-4207-9429-18fcf3273cab",
   "metadata": {},
   "source": [
    "เมื่อคุณตรวจสอบ `dog_breeds.txt` อีกครั้ง คุณจะเห็นว่าจุดเริ่มต้นของไฟล์ไม่มีการเปลี่ยนแปลง และตอนนี้ `Beagle` จะถูกเพิ่มไปที่ตอนท้ายของไฟล์"
   ]
  },
  {
   "cell_type": "code",
   "execution_count": 9,
   "id": "6d38c9d3-564b-4482-bafe-35c7ca9fb69b",
   "metadata": {},
   "outputs": [
    {
     "name": "stdout",
     "output_type": "stream",
     "text": [
      "Pug\n",
      "Jack Russell Terrier\n",
      "English Springer Spaniel\n",
      "German Shepherd\n",
      "Staffordshire Bull Terrier\n",
      "Cavalier King Charles Spaniel\n",
      "Golden Retriever\n",
      "West Highland White Terrier\n",
      "Boxer\n",
      "Border Terrier\n",
      "Beagle\n"
     ]
    }
   ],
   "source": [
    "with open('dog_breeds.txt', 'r') as reader:\n",
    "    print(reader.read())"
   ]
  },
  {
   "cell_type": "markdown",
   "id": "22acd632-c39e-45e4-84c4-9420389596c1",
   "metadata": {},
   "source": [
    "-----------\n",
    "# Your turn!\n",
    "\n",
    "It is your turn to test how much you understand the ways we work with files in Python. Try to complete [the exercise](exercises/ex_1.ipynb)."
   ]
  },
  {
   "cell_type": "code",
   "execution_count": null,
   "id": "b85327cc-2e58-43bf-a862-fe771f0e7c75",
   "metadata": {},
   "outputs": [],
   "source": []
  }
 ],
 "metadata": {
  "kernelspec": {
   "display_name": "Python 3 (ipykernel)",
   "language": "python",
   "name": "python3"
  },
  "language_info": {
   "codemirror_mode": {
    "name": "ipython",
    "version": 3
   },
   "file_extension": ".py",
   "mimetype": "text/x-python",
   "name": "python",
   "nbconvert_exporter": "python",
   "pygments_lexer": "ipython3",
   "version": "3.11.5"
  }
 },
 "nbformat": 4,
 "nbformat_minor": 5
}
